{
 "cells": [
  {
   "cell_type": "markdown",
   "id": "c2cbeeb5",
   "metadata": {},
   "source": [
    "# PEC 2 Visualización de datos"
   ]
  },
  {
   "cell_type": "markdown",
   "id": "7609606d",
   "metadata": {},
   "source": [
    "Autor: **Jorge Álvarez Gracia**"
   ]
  },
  {
   "cell_type": "markdown",
   "id": "04c50618",
   "metadata": {},
   "source": [
    "## Cargamos los datos:"
   ]
  },
  {
   "cell_type": "code",
   "execution_count": 54,
   "id": "28c33c96",
   "metadata": {},
   "outputs": [],
   "source": [
    "import pandas as pd\n",
    "\n",
    "df_copper = pd.read_csv('Data/Copper_03_31_22-01_02_20.csv', delimiter = ',', on_bad_lines='skip')\n",
    "df_btc = pd.read_csv('Data/BTC_United States Dollar_03_31_22-01_01_20.csv', delimiter = ',', on_bad_lines='skip')\n",
    "df_gold = pd.read_csv('Data/Gold_03_31_22-01_02_20.csv', delimiter = ',', on_bad_lines='skip')\n",
    "df_ibex = pd.read_csv('Data/IBEX 35_03_31_22-01_02_20.csv', delimiter = ',', on_bad_lines='skip')\n",
    "df_oil_brent= pd.read_csv('Data/Oil (Brent)_03_01_22-01_02_20.csv', delimiter = ',', on_bad_lines='skip')"
   ]
  },
  {
   "cell_type": "markdown",
   "id": "12393824",
   "metadata": {},
   "source": [
    "## Limpiamos los datos"
   ]
  },
  {
   "cell_type": "code",
   "execution_count": 55,
   "id": "81d3e30e",
   "metadata": {},
   "outputs": [
    {
     "data": {
      "text/html": [
       "<div>\n",
       "<style scoped>\n",
       "    .dataframe tbody tr th:only-of-type {\n",
       "        vertical-align: middle;\n",
       "    }\n",
       "\n",
       "    .dataframe tbody tr th {\n",
       "        vertical-align: top;\n",
       "    }\n",
       "\n",
       "    .dataframe thead th {\n",
       "        text-align: right;\n",
       "    }\n",
       "</style>\n",
       "<table border=\"1\" class=\"dataframe\">\n",
       "  <thead>\n",
       "    <tr style=\"text-align: right;\">\n",
       "      <th></th>\n",
       "      <th>Open</th>\n",
       "      <th>Close</th>\n",
       "      <th>High</th>\n",
       "      <th>Low</th>\n",
       "    </tr>\n",
       "    <tr>\n",
       "      <th>Date</th>\n",
       "      <th></th>\n",
       "      <th></th>\n",
       "      <th></th>\n",
       "      <th></th>\n",
       "    </tr>\n",
       "  </thead>\n",
       "  <tbody>\n",
       "    <tr>\n",
       "      <th>2021-11-30</th>\n",
       "      <td>0</td>\n",
       "      <td>9602.65</td>\n",
       "      <td>9602.65</td>\n",
       "      <td>9600.5</td>\n",
       "    </tr>\n",
       "    <tr>\n",
       "      <th>2021-12-31</th>\n",
       "      <td>0</td>\n",
       "      <td>9691.50</td>\n",
       "      <td>9700.20</td>\n",
       "      <td>9691.0</td>\n",
       "    </tr>\n",
       "    <tr>\n",
       "      <th>2022-01-31</th>\n",
       "      <td>0</td>\n",
       "      <td>9872.00</td>\n",
       "      <td>9872.00</td>\n",
       "      <td>9870.0</td>\n",
       "    </tr>\n",
       "    <tr>\n",
       "      <th>2022-02-28</th>\n",
       "      <td>0</td>\n",
       "      <td>9919.15</td>\n",
       "      <td>9920.00</td>\n",
       "      <td>9915.0</td>\n",
       "    </tr>\n",
       "    <tr>\n",
       "      <th>2022-03-31</th>\n",
       "      <td>0</td>\n",
       "      <td>10367.36</td>\n",
       "      <td>10367.36</td>\n",
       "      <td>10336.6</td>\n",
       "    </tr>\n",
       "  </tbody>\n",
       "</table>\n",
       "</div>"
      ],
      "text/plain": [
       "            Open     Close      High      Low\n",
       "Date                                         \n",
       "2021-11-30     0   9602.65   9602.65   9600.5\n",
       "2021-12-31     0   9691.50   9700.20   9691.0\n",
       "2022-01-31     0   9872.00   9872.00   9870.0\n",
       "2022-02-28     0   9919.15   9920.00   9915.0\n",
       "2022-03-31     0  10367.36  10367.36  10336.6"
      ]
     },
     "metadata": {},
     "output_type": "display_data"
    }
   ],
   "source": [
    "df_copper.index = pd.to_datetime(df_copper['Date'],format='%m/%d/%y')\n",
    "df_copper.groupby(by=[df_copper.index.month,df_copper.index.year])\n",
    "copper_clean = df_copper.sort_index().resample(\"M\").apply(lambda ser: ser.iloc[-1,]).drop(['Volume', 'Date'],axis = 1)\n",
    "display(copper_clean.tail())"
   ]
  },
  {
   "cell_type": "code",
   "execution_count": 56,
   "id": "8cbf6a5b",
   "metadata": {},
   "outputs": [
    {
     "data": {
      "text/html": [
       "<div>\n",
       "<style scoped>\n",
       "    .dataframe tbody tr th:only-of-type {\n",
       "        vertical-align: middle;\n",
       "    }\n",
       "\n",
       "    .dataframe tbody tr th {\n",
       "        vertical-align: top;\n",
       "    }\n",
       "\n",
       "    .dataframe thead th {\n",
       "        text-align: right;\n",
       "    }\n",
       "</style>\n",
       "<table border=\"1\" class=\"dataframe\">\n",
       "  <thead>\n",
       "    <tr style=\"text-align: right;\">\n",
       "      <th></th>\n",
       "      <th>Open</th>\n",
       "      <th>Close</th>\n",
       "      <th>High</th>\n",
       "      <th>Low</th>\n",
       "    </tr>\n",
       "    <tr>\n",
       "      <th>Date</th>\n",
       "      <th></th>\n",
       "      <th></th>\n",
       "      <th></th>\n",
       "      <th></th>\n",
       "    </tr>\n",
       "  </thead>\n",
       "  <tbody>\n",
       "    <tr>\n",
       "      <th>2021-11-30</th>\n",
       "      <td>57855.01172</td>\n",
       "      <td>57052.87</td>\n",
       "      <td>59139.71875</td>\n",
       "      <td>56063.76953</td>\n",
       "    </tr>\n",
       "    <tr>\n",
       "      <th>2021-12-31</th>\n",
       "      <td>47121.55859</td>\n",
       "      <td>46278.18</td>\n",
       "      <td>48545.16016</td>\n",
       "      <td>45747.50000</td>\n",
       "    </tr>\n",
       "    <tr>\n",
       "      <th>2022-01-31</th>\n",
       "      <td>37919.57813</td>\n",
       "      <td>38509.44</td>\n",
       "      <td>38711.46875</td>\n",
       "      <td>36714.83984</td>\n",
       "    </tr>\n",
       "    <tr>\n",
       "      <th>2022-02-28</th>\n",
       "      <td>37703.57000</td>\n",
       "      <td>43170.20</td>\n",
       "      <td>43816.90000</td>\n",
       "      <td>37506.89000</td>\n",
       "    </tr>\n",
       "    <tr>\n",
       "      <th>2022-03-31</th>\n",
       "      <td>47024.35000</td>\n",
       "      <td>45529.11</td>\n",
       "      <td>47568.17000</td>\n",
       "      <td>45315.88000</td>\n",
       "    </tr>\n",
       "  </tbody>\n",
       "</table>\n",
       "</div>"
      ],
      "text/plain": [
       "                   Open     Close         High          Low\n",
       "Date                                                       \n",
       "2021-11-30  57855.01172  57052.87  59139.71875  56063.76953\n",
       "2021-12-31  47121.55859  46278.18  48545.16016  45747.50000\n",
       "2022-01-31  37919.57813  38509.44  38711.46875  36714.83984\n",
       "2022-02-28  37703.57000  43170.20  43816.90000  37506.89000\n",
       "2022-03-31  47024.35000  45529.11  47568.17000  45315.88000"
      ]
     },
     "metadata": {},
     "output_type": "display_data"
    }
   ],
   "source": [
    "df_btc.index = pd.to_datetime(df_btc['Date'],format='%m/%d/%y')\n",
    "df_btc.groupby(by=[df_btc.index.month,df_btc.index.year])\n",
    "btc_clean = df_btc.sort_index().resample(\"M\").apply(lambda ser: ser.iloc[-1,]).drop(['Volume', 'Date'],axis = 1)\n",
    "display(btc_clean.tail())"
   ]
  },
  {
   "cell_type": "code",
   "execution_count": 57,
   "id": "c2050a2a",
   "metadata": {},
   "outputs": [
    {
     "data": {
      "text/html": [
       "<div>\n",
       "<style scoped>\n",
       "    .dataframe tbody tr th:only-of-type {\n",
       "        vertical-align: middle;\n",
       "    }\n",
       "\n",
       "    .dataframe tbody tr th {\n",
       "        vertical-align: top;\n",
       "    }\n",
       "\n",
       "    .dataframe thead th {\n",
       "        text-align: right;\n",
       "    }\n",
       "</style>\n",
       "<table border=\"1\" class=\"dataframe\">\n",
       "  <thead>\n",
       "    <tr style=\"text-align: right;\">\n",
       "      <th></th>\n",
       "      <th>Open</th>\n",
       "      <th>Close</th>\n",
       "      <th>High</th>\n",
       "      <th>Low</th>\n",
       "    </tr>\n",
       "    <tr>\n",
       "      <th>Date</th>\n",
       "      <th></th>\n",
       "      <th></th>\n",
       "      <th></th>\n",
       "      <th></th>\n",
       "    </tr>\n",
       "  </thead>\n",
       "  <tbody>\n",
       "    <tr>\n",
       "      <th>2021-11-30</th>\n",
       "      <td>1785.25</td>\n",
       "      <td>1775.05</td>\n",
       "      <td>1808.45</td>\n",
       "      <td>1769.70</td>\n",
       "    </tr>\n",
       "    <tr>\n",
       "      <th>2021-12-31</th>\n",
       "      <td>1815.45</td>\n",
       "      <td>1821.50</td>\n",
       "      <td>1827.45</td>\n",
       "      <td>1814.60</td>\n",
       "    </tr>\n",
       "    <tr>\n",
       "      <th>2022-01-31</th>\n",
       "      <td>1789.35</td>\n",
       "      <td>1798.26</td>\n",
       "      <td>1799.65</td>\n",
       "      <td>1785.40</td>\n",
       "    </tr>\n",
       "    <tr>\n",
       "      <th>2022-02-28</th>\n",
       "      <td>1906.25</td>\n",
       "      <td>1908.85</td>\n",
       "      <td>1919.20</td>\n",
       "      <td>1891.09</td>\n",
       "    </tr>\n",
       "    <tr>\n",
       "      <th>2022-03-31</th>\n",
       "      <td>1933.45</td>\n",
       "      <td>1936.90</td>\n",
       "      <td>1949.05</td>\n",
       "      <td>1919.50</td>\n",
       "    </tr>\n",
       "  </tbody>\n",
       "</table>\n",
       "</div>"
      ],
      "text/plain": [
       "               Open    Close     High      Low\n",
       "Date                                          \n",
       "2021-11-30  1785.25  1775.05  1808.45  1769.70\n",
       "2021-12-31  1815.45  1821.50  1827.45  1814.60\n",
       "2022-01-31  1789.35  1798.26  1799.65  1785.40\n",
       "2022-02-28  1906.25  1908.85  1919.20  1891.09\n",
       "2022-03-31  1933.45  1936.90  1949.05  1919.50"
      ]
     },
     "metadata": {},
     "output_type": "display_data"
    }
   ],
   "source": [
    "df_gold.index = pd.to_datetime(df_gold['Date'],format='%m/%d/%y')\n",
    "df_gold_OHCL = df_gold\n",
    "df_gold.groupby(by=[df_gold.index.month,df_gold.index.year])\n",
    "gold_clean = df_gold.sort_index().resample(\"M\").apply(lambda ser: ser.iloc[-1,]).drop(['Volume', 'Date'],axis = 1)\n",
    "display(gold_clean.tail())"
   ]
  },
  {
   "cell_type": "code",
   "execution_count": 58,
   "id": "999e37b2",
   "metadata": {},
   "outputs": [
    {
     "data": {
      "text/html": [
       "<div>\n",
       "<style scoped>\n",
       "    .dataframe tbody tr th:only-of-type {\n",
       "        vertical-align: middle;\n",
       "    }\n",
       "\n",
       "    .dataframe tbody tr th {\n",
       "        vertical-align: top;\n",
       "    }\n",
       "\n",
       "    .dataframe thead th {\n",
       "        text-align: right;\n",
       "    }\n",
       "</style>\n",
       "<table border=\"1\" class=\"dataframe\">\n",
       "  <thead>\n",
       "    <tr style=\"text-align: right;\">\n",
       "      <th></th>\n",
       "      <th>Open</th>\n",
       "      <th>Close</th>\n",
       "      <th>High</th>\n",
       "      <th>Low</th>\n",
       "    </tr>\n",
       "    <tr>\n",
       "      <th>Date</th>\n",
       "      <th></th>\n",
       "      <th></th>\n",
       "      <th></th>\n",
       "      <th></th>\n",
       "    </tr>\n",
       "  </thead>\n",
       "  <tbody>\n",
       "    <tr>\n",
       "      <th>2021-11-30</th>\n",
       "      <td>8414.0</td>\n",
       "      <td>8260.7</td>\n",
       "      <td>369</td>\n",
       "      <td>395</td>\n",
       "    </tr>\n",
       "    <tr>\n",
       "      <th>2021-12-31</th>\n",
       "      <td>8728.0</td>\n",
       "      <td>8661.5</td>\n",
       "      <td>127</td>\n",
       "      <td>210</td>\n",
       "    </tr>\n",
       "    <tr>\n",
       "      <th>2022-01-31</th>\n",
       "      <td>8705.1</td>\n",
       "      <td>8564.6</td>\n",
       "      <td>213</td>\n",
       "      <td>539</td>\n",
       "    </tr>\n",
       "    <tr>\n",
       "      <th>2022-02-28</th>\n",
       "      <td>8500.4</td>\n",
       "      <td>8286.9</td>\n",
       "      <td>396</td>\n",
       "      <td>635</td>\n",
       "    </tr>\n",
       "    <tr>\n",
       "      <th>2022-03-31</th>\n",
       "      <td>8588.3</td>\n",
       "      <td>8445.1</td>\n",
       "      <td>220</td>\n",
       "      <td>117</td>\n",
       "    </tr>\n",
       "  </tbody>\n",
       "</table>\n",
       "</div>"
      ],
      "text/plain": [
       "              Open   Close  High  Low\n",
       "Date                                 \n",
       "2021-11-30  8414.0  8260.7   369  395\n",
       "2021-12-31  8728.0  8661.5   127  210\n",
       "2022-01-31  8705.1  8564.6   213  539\n",
       "2022-02-28  8500.4  8286.9   396  635\n",
       "2022-03-31  8588.3  8445.1   220  117"
      ]
     },
     "metadata": {},
     "output_type": "display_data"
    }
   ],
   "source": [
    "df_ibex.index = pd.to_datetime(df_ibex['Date'],format='%m/%d/%y')\n",
    "df_ibex.groupby(by=[df_ibex.index.month, df_ibex.index.year])\n",
    "ibex_clean = df_ibex.sort_index().resample(\"M\").apply(lambda ser: ser.iloc[-1,]).drop(['Volume', 'Date'],axis = 1)\n",
    "display(ibex_clean.tail())"
   ]
  },
  {
   "cell_type": "code",
   "execution_count": 59,
   "id": "9aef4e8f",
   "metadata": {},
   "outputs": [
    {
     "data": {
      "text/html": [
       "<div>\n",
       "<style scoped>\n",
       "    .dataframe tbody tr th:only-of-type {\n",
       "        vertical-align: middle;\n",
       "    }\n",
       "\n",
       "    .dataframe tbody tr th {\n",
       "        vertical-align: top;\n",
       "    }\n",
       "\n",
       "    .dataframe thead th {\n",
       "        text-align: right;\n",
       "    }\n",
       "</style>\n",
       "<table border=\"1\" class=\"dataframe\">\n",
       "  <thead>\n",
       "    <tr style=\"text-align: right;\">\n",
       "      <th></th>\n",
       "      <th>Open</th>\n",
       "      <th>Close</th>\n",
       "      <th>High</th>\n",
       "      <th>Low</th>\n",
       "    </tr>\n",
       "    <tr>\n",
       "      <th>Date</th>\n",
       "      <th></th>\n",
       "      <th></th>\n",
       "      <th></th>\n",
       "      <th></th>\n",
       "    </tr>\n",
       "  </thead>\n",
       "  <tbody>\n",
       "    <tr>\n",
       "      <th>2021-11-30</th>\n",
       "      <td>74.42</td>\n",
       "      <td>70.57</td>\n",
       "      <td>74.56</td>\n",
       "      <td>70.22</td>\n",
       "    </tr>\n",
       "    <tr>\n",
       "      <th>2021-12-31</th>\n",
       "      <td>78.81</td>\n",
       "      <td>77.78</td>\n",
       "      <td>79.68</td>\n",
       "      <td>77.55</td>\n",
       "    </tr>\n",
       "    <tr>\n",
       "      <th>2022-01-31</th>\n",
       "      <td>90.80</td>\n",
       "      <td>91.21</td>\n",
       "      <td>91.48</td>\n",
       "      <td>90.61</td>\n",
       "    </tr>\n",
       "    <tr>\n",
       "      <th>2022-02-28</th>\n",
       "      <td>101.98</td>\n",
       "      <td>100.99</td>\n",
       "      <td>105.07</td>\n",
       "      <td>99.64</td>\n",
       "    </tr>\n",
       "    <tr>\n",
       "      <th>2022-03-31</th>\n",
       "      <td>98.43</td>\n",
       "      <td>104.97</td>\n",
       "      <td>107.67</td>\n",
       "      <td>98.30</td>\n",
       "    </tr>\n",
       "  </tbody>\n",
       "</table>\n",
       "</div>"
      ],
      "text/plain": [
       "              Open   Close    High    Low\n",
       "Date                                     \n",
       "2021-11-30   74.42   70.57   74.56  70.22\n",
       "2021-12-31   78.81   77.78   79.68  77.55\n",
       "2022-01-31   90.80   91.21   91.48  90.61\n",
       "2022-02-28  101.98  100.99  105.07  99.64\n",
       "2022-03-31   98.43  104.97  107.67  98.30"
      ]
     },
     "metadata": {},
     "output_type": "display_data"
    }
   ],
   "source": [
    "df_oil_brent.index = pd.to_datetime(df_oil_brent['Date'],format='%m/%d/%y')\n",
    "df_oil_brent.groupby(by=[df_oil_brent.index.month, df_oil_brent.index.year])\n",
    "df_oil_brent\n",
    "oil_brent_clean = df_oil_brent.sort_index().resample(\"M\").apply(lambda ser: ser.iloc[-1,]).drop(['Volume', 'Date'],axis = 1)\n",
    "display(oil_brent_clean.tail())"
   ]
  },
  {
   "cell_type": "markdown",
   "id": "1beeaa8b",
   "metadata": {},
   "source": [
    "## Visualización 1: Line Chart"
   ]
  },
  {
   "cell_type": "code",
   "execution_count": 60,
   "id": "031cde25",
   "metadata": {},
   "outputs": [],
   "source": [
    "data = {'Copper_Close_Price': copper_clean.Close, 'BTC_Close_Price': btc_clean.Close,'Gold_Close_Price': gold_clean.Close,\n",
    "            'IBEX_Close_Price':ibex_clean.Close,'OIL_Close_Price': oil_brent_clean.Close} \n",
    "\n",
    "df_final = pd.DataFrame(data)"
   ]
  },
  {
   "cell_type": "code",
   "execution_count": 61,
   "id": "3550f746",
   "metadata": {},
   "outputs": [
    {
     "data": {
      "text/html": [
       "<div>\n",
       "<style scoped>\n",
       "    .dataframe tbody tr th:only-of-type {\n",
       "        vertical-align: middle;\n",
       "    }\n",
       "\n",
       "    .dataframe tbody tr th {\n",
       "        vertical-align: top;\n",
       "    }\n",
       "\n",
       "    .dataframe thead th {\n",
       "        text-align: right;\n",
       "    }\n",
       "</style>\n",
       "<table border=\"1\" class=\"dataframe\">\n",
       "  <thead>\n",
       "    <tr style=\"text-align: right;\">\n",
       "      <th></th>\n",
       "      <th>Copper_Close_Price</th>\n",
       "      <th>BTC_Close_Price</th>\n",
       "      <th>Gold_Close_Price</th>\n",
       "      <th>IBEX_Close_Price</th>\n",
       "      <th>OIL_Close_Price</th>\n",
       "    </tr>\n",
       "    <tr>\n",
       "      <th>Date</th>\n",
       "      <th></th>\n",
       "      <th></th>\n",
       "      <th></th>\n",
       "      <th></th>\n",
       "      <th></th>\n",
       "    </tr>\n",
       "  </thead>\n",
       "  <tbody>\n",
       "    <tr>\n",
       "      <th>2021-11-30</th>\n",
       "      <td>9602.65</td>\n",
       "      <td>57052.87</td>\n",
       "      <td>1775.05</td>\n",
       "      <td>8260.7</td>\n",
       "      <td>70.57</td>\n",
       "    </tr>\n",
       "    <tr>\n",
       "      <th>2021-12-31</th>\n",
       "      <td>9691.50</td>\n",
       "      <td>46278.18</td>\n",
       "      <td>1821.50</td>\n",
       "      <td>8661.5</td>\n",
       "      <td>77.78</td>\n",
       "    </tr>\n",
       "    <tr>\n",
       "      <th>2022-01-31</th>\n",
       "      <td>9872.00</td>\n",
       "      <td>38509.44</td>\n",
       "      <td>1798.26</td>\n",
       "      <td>8564.6</td>\n",
       "      <td>91.21</td>\n",
       "    </tr>\n",
       "    <tr>\n",
       "      <th>2022-02-28</th>\n",
       "      <td>9919.15</td>\n",
       "      <td>43170.20</td>\n",
       "      <td>1908.85</td>\n",
       "      <td>8286.9</td>\n",
       "      <td>100.99</td>\n",
       "    </tr>\n",
       "    <tr>\n",
       "      <th>2022-03-31</th>\n",
       "      <td>10367.36</td>\n",
       "      <td>45529.11</td>\n",
       "      <td>1936.90</td>\n",
       "      <td>8445.1</td>\n",
       "      <td>104.97</td>\n",
       "    </tr>\n",
       "  </tbody>\n",
       "</table>\n",
       "</div>"
      ],
      "text/plain": [
       "            Copper_Close_Price  BTC_Close_Price  Gold_Close_Price  \\\n",
       "Date                                                                \n",
       "2021-11-30             9602.65         57052.87           1775.05   \n",
       "2021-12-31             9691.50         46278.18           1821.50   \n",
       "2022-01-31             9872.00         38509.44           1798.26   \n",
       "2022-02-28             9919.15         43170.20           1908.85   \n",
       "2022-03-31            10367.36         45529.11           1936.90   \n",
       "\n",
       "            IBEX_Close_Price  OIL_Close_Price  \n",
       "Date                                           \n",
       "2021-11-30            8260.7            70.57  \n",
       "2021-12-31            8661.5            77.78  \n",
       "2022-01-31            8564.6            91.21  \n",
       "2022-02-28            8286.9           100.99  \n",
       "2022-03-31            8445.1           104.97  "
      ]
     },
     "metadata": {},
     "output_type": "display_data"
    }
   ],
   "source": [
    "display(df_final.tail())\n",
    "df_final.to_csv('Data/datos_close_price.csv')"
   ]
  },
  {
   "cell_type": "code",
   "execution_count": 62,
   "id": "b673044f",
   "metadata": {},
   "outputs": [
    {
     "data": {
      "application/vnd.plotly.v1+json": {
       "config": {
        "plotlyServerURL": "https://plot.ly"
       },
       "data": [
        {
         "hovertemplate": "variable=IBEX_Close_Price<br>Date=%{x}<br>value=%{y}<extra></extra>",
         "legendgroup": "IBEX_Close_Price",
         "line": {
          "color": "#636efa",
          "dash": "solid"
         },
         "marker": {
          "symbol": "circle"
         },
         "mode": "lines",
         "name": "IBEX_Close_Price",
         "orientation": "v",
         "showlegend": true,
         "type": "scatter",
         "x": [
          "2020-01-31T00:00:00",
          "2020-02-29T00:00:00",
          "2020-03-31T00:00:00",
          "2020-04-30T00:00:00",
          "2020-05-31T00:00:00",
          "2020-06-30T00:00:00",
          "2020-07-31T00:00:00",
          "2020-08-31T00:00:00",
          "2020-09-30T00:00:00",
          "2020-10-31T00:00:00",
          "2020-11-30T00:00:00",
          "2020-12-31T00:00:00",
          "2021-01-31T00:00:00",
          "2021-02-28T00:00:00",
          "2021-03-31T00:00:00",
          "2021-04-30T00:00:00",
          "2021-05-31T00:00:00",
          "2021-06-30T00:00:00",
          "2021-07-31T00:00:00",
          "2021-08-31T00:00:00",
          "2021-09-30T00:00:00",
          "2021-10-31T00:00:00",
          "2021-11-30T00:00:00",
          "2021-12-31T00:00:00",
          "2022-01-31T00:00:00",
          "2022-02-28T00:00:00",
          "2022-03-31T00:00:00"
         ],
         "xaxis": "x",
         "y": [
          9365.1,
          8582.7,
          6624.7,
          6918.3,
          7096.5,
          7173,
          6877.4,
          6960,
          6639.7,
          6345.3,
          8075.4,
          8073.7,
          7757.3,
          8166.3,
          8568,
          8808.6,
          9148.9,
          8765.3,
          8665.7,
          8783.3,
          8785,
          8944.5,
          8260.7,
          8661.5,
          8564.6,
          8286.9,
          8445.1
         ],
         "yaxis": "y"
        },
        {
         "hovertemplate": "variable=Copper_Close_Price<br>Date=%{x}<br>value=%{y}<extra></extra>",
         "legendgroup": "Copper_Close_Price",
         "line": {
          "color": "#EF553B",
          "dash": "solid"
         },
         "marker": {
          "symbol": "circle"
         },
         "mode": "lines",
         "name": "Copper_Close_Price",
         "orientation": "v",
         "showlegend": true,
         "type": "scatter",
         "x": [
          "2020-01-31T00:00:00",
          "2020-02-29T00:00:00",
          "2020-03-31T00:00:00",
          "2020-04-30T00:00:00",
          "2020-05-31T00:00:00",
          "2020-06-30T00:00:00",
          "2020-07-31T00:00:00",
          "2020-08-31T00:00:00",
          "2020-09-30T00:00:00",
          "2020-10-31T00:00:00",
          "2020-11-30T00:00:00",
          "2020-12-31T00:00:00",
          "2021-01-31T00:00:00",
          "2021-02-28T00:00:00",
          "2021-03-31T00:00:00",
          "2021-04-30T00:00:00",
          "2021-05-31T00:00:00",
          "2021-06-30T00:00:00",
          "2021-07-31T00:00:00",
          "2021-08-31T00:00:00",
          "2021-09-30T00:00:00",
          "2021-10-31T00:00:00",
          "2021-11-30T00:00:00",
          "2021-12-31T00:00:00",
          "2022-01-31T00:00:00",
          "2022-02-28T00:00:00",
          "2022-03-31T00:00:00"
         ],
         "xaxis": "x",
         "y": [
          5569.65,
          5617.9,
          4763,
          5183.85,
          5278.65,
          5957,
          6446.25,
          6727.85,
          6546.2,
          6692,
          7462,
          7748.85,
          7877,
          9158,
          8788.5,
          9948.85,
          10159.7,
          9225.35,
          9700.85,
          9314.85,
          9040.3,
          9985.35,
          9602.65,
          9691.5,
          9872,
          9919.15,
          10367.36
         ],
         "yaxis": "y"
        }
       ],
       "layout": {
        "legend": {
         "title": {
          "text": "variable"
         },
         "tracegroupgap": 0
        },
        "margin": {
         "t": 60
        },
        "template": {
         "data": {
          "bar": [
           {
            "error_x": {
             "color": "#2a3f5f"
            },
            "error_y": {
             "color": "#2a3f5f"
            },
            "marker": {
             "line": {
              "color": "#E5ECF6",
              "width": 0.5
             },
             "pattern": {
              "fillmode": "overlay",
              "size": 10,
              "solidity": 0.2
             }
            },
            "type": "bar"
           }
          ],
          "barpolar": [
           {
            "marker": {
             "line": {
              "color": "#E5ECF6",
              "width": 0.5
             },
             "pattern": {
              "fillmode": "overlay",
              "size": 10,
              "solidity": 0.2
             }
            },
            "type": "barpolar"
           }
          ],
          "carpet": [
           {
            "aaxis": {
             "endlinecolor": "#2a3f5f",
             "gridcolor": "white",
             "linecolor": "white",
             "minorgridcolor": "white",
             "startlinecolor": "#2a3f5f"
            },
            "baxis": {
             "endlinecolor": "#2a3f5f",
             "gridcolor": "white",
             "linecolor": "white",
             "minorgridcolor": "white",
             "startlinecolor": "#2a3f5f"
            },
            "type": "carpet"
           }
          ],
          "choropleth": [
           {
            "colorbar": {
             "outlinewidth": 0,
             "ticks": ""
            },
            "type": "choropleth"
           }
          ],
          "contour": [
           {
            "colorbar": {
             "outlinewidth": 0,
             "ticks": ""
            },
            "colorscale": [
             [
              0,
              "#0d0887"
             ],
             [
              0.1111111111111111,
              "#46039f"
             ],
             [
              0.2222222222222222,
              "#7201a8"
             ],
             [
              0.3333333333333333,
              "#9c179e"
             ],
             [
              0.4444444444444444,
              "#bd3786"
             ],
             [
              0.5555555555555556,
              "#d8576b"
             ],
             [
              0.6666666666666666,
              "#ed7953"
             ],
             [
              0.7777777777777778,
              "#fb9f3a"
             ],
             [
              0.8888888888888888,
              "#fdca26"
             ],
             [
              1,
              "#f0f921"
             ]
            ],
            "type": "contour"
           }
          ],
          "contourcarpet": [
           {
            "colorbar": {
             "outlinewidth": 0,
             "ticks": ""
            },
            "type": "contourcarpet"
           }
          ],
          "heatmap": [
           {
            "colorbar": {
             "outlinewidth": 0,
             "ticks": ""
            },
            "colorscale": [
             [
              0,
              "#0d0887"
             ],
             [
              0.1111111111111111,
              "#46039f"
             ],
             [
              0.2222222222222222,
              "#7201a8"
             ],
             [
              0.3333333333333333,
              "#9c179e"
             ],
             [
              0.4444444444444444,
              "#bd3786"
             ],
             [
              0.5555555555555556,
              "#d8576b"
             ],
             [
              0.6666666666666666,
              "#ed7953"
             ],
             [
              0.7777777777777778,
              "#fb9f3a"
             ],
             [
              0.8888888888888888,
              "#fdca26"
             ],
             [
              1,
              "#f0f921"
             ]
            ],
            "type": "heatmap"
           }
          ],
          "heatmapgl": [
           {
            "colorbar": {
             "outlinewidth": 0,
             "ticks": ""
            },
            "colorscale": [
             [
              0,
              "#0d0887"
             ],
             [
              0.1111111111111111,
              "#46039f"
             ],
             [
              0.2222222222222222,
              "#7201a8"
             ],
             [
              0.3333333333333333,
              "#9c179e"
             ],
             [
              0.4444444444444444,
              "#bd3786"
             ],
             [
              0.5555555555555556,
              "#d8576b"
             ],
             [
              0.6666666666666666,
              "#ed7953"
             ],
             [
              0.7777777777777778,
              "#fb9f3a"
             ],
             [
              0.8888888888888888,
              "#fdca26"
             ],
             [
              1,
              "#f0f921"
             ]
            ],
            "type": "heatmapgl"
           }
          ],
          "histogram": [
           {
            "marker": {
             "pattern": {
              "fillmode": "overlay",
              "size": 10,
              "solidity": 0.2
             }
            },
            "type": "histogram"
           }
          ],
          "histogram2d": [
           {
            "colorbar": {
             "outlinewidth": 0,
             "ticks": ""
            },
            "colorscale": [
             [
              0,
              "#0d0887"
             ],
             [
              0.1111111111111111,
              "#46039f"
             ],
             [
              0.2222222222222222,
              "#7201a8"
             ],
             [
              0.3333333333333333,
              "#9c179e"
             ],
             [
              0.4444444444444444,
              "#bd3786"
             ],
             [
              0.5555555555555556,
              "#d8576b"
             ],
             [
              0.6666666666666666,
              "#ed7953"
             ],
             [
              0.7777777777777778,
              "#fb9f3a"
             ],
             [
              0.8888888888888888,
              "#fdca26"
             ],
             [
              1,
              "#f0f921"
             ]
            ],
            "type": "histogram2d"
           }
          ],
          "histogram2dcontour": [
           {
            "colorbar": {
             "outlinewidth": 0,
             "ticks": ""
            },
            "colorscale": [
             [
              0,
              "#0d0887"
             ],
             [
              0.1111111111111111,
              "#46039f"
             ],
             [
              0.2222222222222222,
              "#7201a8"
             ],
             [
              0.3333333333333333,
              "#9c179e"
             ],
             [
              0.4444444444444444,
              "#bd3786"
             ],
             [
              0.5555555555555556,
              "#d8576b"
             ],
             [
              0.6666666666666666,
              "#ed7953"
             ],
             [
              0.7777777777777778,
              "#fb9f3a"
             ],
             [
              0.8888888888888888,
              "#fdca26"
             ],
             [
              1,
              "#f0f921"
             ]
            ],
            "type": "histogram2dcontour"
           }
          ],
          "mesh3d": [
           {
            "colorbar": {
             "outlinewidth": 0,
             "ticks": ""
            },
            "type": "mesh3d"
           }
          ],
          "parcoords": [
           {
            "line": {
             "colorbar": {
              "outlinewidth": 0,
              "ticks": ""
             }
            },
            "type": "parcoords"
           }
          ],
          "pie": [
           {
            "automargin": true,
            "type": "pie"
           }
          ],
          "scatter": [
           {
            "marker": {
             "colorbar": {
              "outlinewidth": 0,
              "ticks": ""
             }
            },
            "type": "scatter"
           }
          ],
          "scatter3d": [
           {
            "line": {
             "colorbar": {
              "outlinewidth": 0,
              "ticks": ""
             }
            },
            "marker": {
             "colorbar": {
              "outlinewidth": 0,
              "ticks": ""
             }
            },
            "type": "scatter3d"
           }
          ],
          "scattercarpet": [
           {
            "marker": {
             "colorbar": {
              "outlinewidth": 0,
              "ticks": ""
             }
            },
            "type": "scattercarpet"
           }
          ],
          "scattergeo": [
           {
            "marker": {
             "colorbar": {
              "outlinewidth": 0,
              "ticks": ""
             }
            },
            "type": "scattergeo"
           }
          ],
          "scattergl": [
           {
            "marker": {
             "colorbar": {
              "outlinewidth": 0,
              "ticks": ""
             }
            },
            "type": "scattergl"
           }
          ],
          "scattermapbox": [
           {
            "marker": {
             "colorbar": {
              "outlinewidth": 0,
              "ticks": ""
             }
            },
            "type": "scattermapbox"
           }
          ],
          "scatterpolar": [
           {
            "marker": {
             "colorbar": {
              "outlinewidth": 0,
              "ticks": ""
             }
            },
            "type": "scatterpolar"
           }
          ],
          "scatterpolargl": [
           {
            "marker": {
             "colorbar": {
              "outlinewidth": 0,
              "ticks": ""
             }
            },
            "type": "scatterpolargl"
           }
          ],
          "scatterternary": [
           {
            "marker": {
             "colorbar": {
              "outlinewidth": 0,
              "ticks": ""
             }
            },
            "type": "scatterternary"
           }
          ],
          "surface": [
           {
            "colorbar": {
             "outlinewidth": 0,
             "ticks": ""
            },
            "colorscale": [
             [
              0,
              "#0d0887"
             ],
             [
              0.1111111111111111,
              "#46039f"
             ],
             [
              0.2222222222222222,
              "#7201a8"
             ],
             [
              0.3333333333333333,
              "#9c179e"
             ],
             [
              0.4444444444444444,
              "#bd3786"
             ],
             [
              0.5555555555555556,
              "#d8576b"
             ],
             [
              0.6666666666666666,
              "#ed7953"
             ],
             [
              0.7777777777777778,
              "#fb9f3a"
             ],
             [
              0.8888888888888888,
              "#fdca26"
             ],
             [
              1,
              "#f0f921"
             ]
            ],
            "type": "surface"
           }
          ],
          "table": [
           {
            "cells": {
             "fill": {
              "color": "#EBF0F8"
             },
             "line": {
              "color": "white"
             }
            },
            "header": {
             "fill": {
              "color": "#C8D4E3"
             },
             "line": {
              "color": "white"
             }
            },
            "type": "table"
           }
          ]
         },
         "layout": {
          "annotationdefaults": {
           "arrowcolor": "#2a3f5f",
           "arrowhead": 0,
           "arrowwidth": 1
          },
          "autotypenumbers": "strict",
          "coloraxis": {
           "colorbar": {
            "outlinewidth": 0,
            "ticks": ""
           }
          },
          "colorscale": {
           "diverging": [
            [
             0,
             "#8e0152"
            ],
            [
             0.1,
             "#c51b7d"
            ],
            [
             0.2,
             "#de77ae"
            ],
            [
             0.3,
             "#f1b6da"
            ],
            [
             0.4,
             "#fde0ef"
            ],
            [
             0.5,
             "#f7f7f7"
            ],
            [
             0.6,
             "#e6f5d0"
            ],
            [
             0.7,
             "#b8e186"
            ],
            [
             0.8,
             "#7fbc41"
            ],
            [
             0.9,
             "#4d9221"
            ],
            [
             1,
             "#276419"
            ]
           ],
           "sequential": [
            [
             0,
             "#0d0887"
            ],
            [
             0.1111111111111111,
             "#46039f"
            ],
            [
             0.2222222222222222,
             "#7201a8"
            ],
            [
             0.3333333333333333,
             "#9c179e"
            ],
            [
             0.4444444444444444,
             "#bd3786"
            ],
            [
             0.5555555555555556,
             "#d8576b"
            ],
            [
             0.6666666666666666,
             "#ed7953"
            ],
            [
             0.7777777777777778,
             "#fb9f3a"
            ],
            [
             0.8888888888888888,
             "#fdca26"
            ],
            [
             1,
             "#f0f921"
            ]
           ],
           "sequentialminus": [
            [
             0,
             "#0d0887"
            ],
            [
             0.1111111111111111,
             "#46039f"
            ],
            [
             0.2222222222222222,
             "#7201a8"
            ],
            [
             0.3333333333333333,
             "#9c179e"
            ],
            [
             0.4444444444444444,
             "#bd3786"
            ],
            [
             0.5555555555555556,
             "#d8576b"
            ],
            [
             0.6666666666666666,
             "#ed7953"
            ],
            [
             0.7777777777777778,
             "#fb9f3a"
            ],
            [
             0.8888888888888888,
             "#fdca26"
            ],
            [
             1,
             "#f0f921"
            ]
           ]
          },
          "colorway": [
           "#636efa",
           "#EF553B",
           "#00cc96",
           "#ab63fa",
           "#FFA15A",
           "#19d3f3",
           "#FF6692",
           "#B6E880",
           "#FF97FF",
           "#FECB52"
          ],
          "font": {
           "color": "#2a3f5f"
          },
          "geo": {
           "bgcolor": "white",
           "lakecolor": "white",
           "landcolor": "#E5ECF6",
           "showlakes": true,
           "showland": true,
           "subunitcolor": "white"
          },
          "hoverlabel": {
           "align": "left"
          },
          "hovermode": "closest",
          "mapbox": {
           "style": "light"
          },
          "paper_bgcolor": "white",
          "plot_bgcolor": "#E5ECF6",
          "polar": {
           "angularaxis": {
            "gridcolor": "white",
            "linecolor": "white",
            "ticks": ""
           },
           "bgcolor": "#E5ECF6",
           "radialaxis": {
            "gridcolor": "white",
            "linecolor": "white",
            "ticks": ""
           }
          },
          "scene": {
           "xaxis": {
            "backgroundcolor": "#E5ECF6",
            "gridcolor": "white",
            "gridwidth": 2,
            "linecolor": "white",
            "showbackground": true,
            "ticks": "",
            "zerolinecolor": "white"
           },
           "yaxis": {
            "backgroundcolor": "#E5ECF6",
            "gridcolor": "white",
            "gridwidth": 2,
            "linecolor": "white",
            "showbackground": true,
            "ticks": "",
            "zerolinecolor": "white"
           },
           "zaxis": {
            "backgroundcolor": "#E5ECF6",
            "gridcolor": "white",
            "gridwidth": 2,
            "linecolor": "white",
            "showbackground": true,
            "ticks": "",
            "zerolinecolor": "white"
           }
          },
          "shapedefaults": {
           "line": {
            "color": "#2a3f5f"
           }
          },
          "ternary": {
           "aaxis": {
            "gridcolor": "white",
            "linecolor": "white",
            "ticks": ""
           },
           "baxis": {
            "gridcolor": "white",
            "linecolor": "white",
            "ticks": ""
           },
           "bgcolor": "#E5ECF6",
           "caxis": {
            "gridcolor": "white",
            "linecolor": "white",
            "ticks": ""
           }
          },
          "title": {
           "x": 0.05
          },
          "xaxis": {
           "automargin": true,
           "gridcolor": "white",
           "linecolor": "white",
           "ticks": "",
           "title": {
            "standoff": 15
           },
           "zerolinecolor": "white",
           "zerolinewidth": 2
          },
          "yaxis": {
           "automargin": true,
           "gridcolor": "white",
           "linecolor": "white",
           "ticks": "",
           "title": {
            "standoff": 15
           },
           "zerolinecolor": "white",
           "zerolinewidth": 2
          }
         }
        },
        "title": {
         "text": "Cotización diaria del IBEX vs Cobre "
        },
        "xaxis": {
         "anchor": "y",
         "domain": [
          0,
          1
         ],
         "rangeslider": {
          "visible": true
         },
         "title": {
          "text": "Date"
         }
        },
        "yaxis": {
         "anchor": "x",
         "domain": [
          0,
          1
         ],
         "title": {
          "text": "value"
         }
        }
       }
      },
      "text/html": [
       "<div>                            <div id=\"6f30ea03-bdba-4c08-9dcf-454efbc3e1c9\" class=\"plotly-graph-div\" style=\"height:525px; width:100%;\"></div>            <script type=\"text/javascript\">                require([\"plotly\"], function(Plotly) {                    window.PLOTLYENV=window.PLOTLYENV || {};                                    if (document.getElementById(\"6f30ea03-bdba-4c08-9dcf-454efbc3e1c9\")) {                    Plotly.newPlot(                        \"6f30ea03-bdba-4c08-9dcf-454efbc3e1c9\",                        [{\"hovertemplate\":\"variable=IBEX_Close_Price<br>Date=%{x}<br>value=%{y}<extra></extra>\",\"legendgroup\":\"IBEX_Close_Price\",\"line\":{\"color\":\"#636efa\",\"dash\":\"solid\"},\"marker\":{\"symbol\":\"circle\"},\"mode\":\"lines\",\"name\":\"IBEX_Close_Price\",\"orientation\":\"v\",\"showlegend\":true,\"x\":[\"2020-01-31T00:00:00\",\"2020-02-29T00:00:00\",\"2020-03-31T00:00:00\",\"2020-04-30T00:00:00\",\"2020-05-31T00:00:00\",\"2020-06-30T00:00:00\",\"2020-07-31T00:00:00\",\"2020-08-31T00:00:00\",\"2020-09-30T00:00:00\",\"2020-10-31T00:00:00\",\"2020-11-30T00:00:00\",\"2020-12-31T00:00:00\",\"2021-01-31T00:00:00\",\"2021-02-28T00:00:00\",\"2021-03-31T00:00:00\",\"2021-04-30T00:00:00\",\"2021-05-31T00:00:00\",\"2021-06-30T00:00:00\",\"2021-07-31T00:00:00\",\"2021-08-31T00:00:00\",\"2021-09-30T00:00:00\",\"2021-10-31T00:00:00\",\"2021-11-30T00:00:00\",\"2021-12-31T00:00:00\",\"2022-01-31T00:00:00\",\"2022-02-28T00:00:00\",\"2022-03-31T00:00:00\"],\"xaxis\":\"x\",\"y\":[9365.1,8582.7,6624.7,6918.3,7096.5,7173.0,6877.4,6960.0,6639.7,6345.3,8075.4,8073.7,7757.3,8166.3,8568.0,8808.6,9148.9,8765.3,8665.7,8783.3,8785.0,8944.5,8260.7,8661.5,8564.6,8286.9,8445.1],\"yaxis\":\"y\",\"type\":\"scatter\"},{\"hovertemplate\":\"variable=Copper_Close_Price<br>Date=%{x}<br>value=%{y}<extra></extra>\",\"legendgroup\":\"Copper_Close_Price\",\"line\":{\"color\":\"#EF553B\",\"dash\":\"solid\"},\"marker\":{\"symbol\":\"circle\"},\"mode\":\"lines\",\"name\":\"Copper_Close_Price\",\"orientation\":\"v\",\"showlegend\":true,\"x\":[\"2020-01-31T00:00:00\",\"2020-02-29T00:00:00\",\"2020-03-31T00:00:00\",\"2020-04-30T00:00:00\",\"2020-05-31T00:00:00\",\"2020-06-30T00:00:00\",\"2020-07-31T00:00:00\",\"2020-08-31T00:00:00\",\"2020-09-30T00:00:00\",\"2020-10-31T00:00:00\",\"2020-11-30T00:00:00\",\"2020-12-31T00:00:00\",\"2021-01-31T00:00:00\",\"2021-02-28T00:00:00\",\"2021-03-31T00:00:00\",\"2021-04-30T00:00:00\",\"2021-05-31T00:00:00\",\"2021-06-30T00:00:00\",\"2021-07-31T00:00:00\",\"2021-08-31T00:00:00\",\"2021-09-30T00:00:00\",\"2021-10-31T00:00:00\",\"2021-11-30T00:00:00\",\"2021-12-31T00:00:00\",\"2022-01-31T00:00:00\",\"2022-02-28T00:00:00\",\"2022-03-31T00:00:00\"],\"xaxis\":\"x\",\"y\":[5569.65,5617.9,4763.0,5183.85,5278.65,5957.0,6446.25,6727.85,6546.2,6692.0,7462.0,7748.85,7877.0,9158.0,8788.5,9948.85,10159.7,9225.35,9700.85,9314.85,9040.3,9985.35,9602.65,9691.5,9872.0,9919.15,10367.36],\"yaxis\":\"y\",\"type\":\"scatter\"}],                        {\"template\":{\"data\":{\"bar\":[{\"error_x\":{\"color\":\"#2a3f5f\"},\"error_y\":{\"color\":\"#2a3f5f\"},\"marker\":{\"line\":{\"color\":\"#E5ECF6\",\"width\":0.5},\"pattern\":{\"fillmode\":\"overlay\",\"size\":10,\"solidity\":0.2}},\"type\":\"bar\"}],\"barpolar\":[{\"marker\":{\"line\":{\"color\":\"#E5ECF6\",\"width\":0.5},\"pattern\":{\"fillmode\":\"overlay\",\"size\":10,\"solidity\":0.2}},\"type\":\"barpolar\"}],\"carpet\":[{\"aaxis\":{\"endlinecolor\":\"#2a3f5f\",\"gridcolor\":\"white\",\"linecolor\":\"white\",\"minorgridcolor\":\"white\",\"startlinecolor\":\"#2a3f5f\"},\"baxis\":{\"endlinecolor\":\"#2a3f5f\",\"gridcolor\":\"white\",\"linecolor\":\"white\",\"minorgridcolor\":\"white\",\"startlinecolor\":\"#2a3f5f\"},\"type\":\"carpet\"}],\"choropleth\":[{\"colorbar\":{\"outlinewidth\":0,\"ticks\":\"\"},\"type\":\"choropleth\"}],\"contour\":[{\"colorbar\":{\"outlinewidth\":0,\"ticks\":\"\"},\"colorscale\":[[0.0,\"#0d0887\"],[0.1111111111111111,\"#46039f\"],[0.2222222222222222,\"#7201a8\"],[0.3333333333333333,\"#9c179e\"],[0.4444444444444444,\"#bd3786\"],[0.5555555555555556,\"#d8576b\"],[0.6666666666666666,\"#ed7953\"],[0.7777777777777778,\"#fb9f3a\"],[0.8888888888888888,\"#fdca26\"],[1.0,\"#f0f921\"]],\"type\":\"contour\"}],\"contourcarpet\":[{\"colorbar\":{\"outlinewidth\":0,\"ticks\":\"\"},\"type\":\"contourcarpet\"}],\"heatmap\":[{\"colorbar\":{\"outlinewidth\":0,\"ticks\":\"\"},\"colorscale\":[[0.0,\"#0d0887\"],[0.1111111111111111,\"#46039f\"],[0.2222222222222222,\"#7201a8\"],[0.3333333333333333,\"#9c179e\"],[0.4444444444444444,\"#bd3786\"],[0.5555555555555556,\"#d8576b\"],[0.6666666666666666,\"#ed7953\"],[0.7777777777777778,\"#fb9f3a\"],[0.8888888888888888,\"#fdca26\"],[1.0,\"#f0f921\"]],\"type\":\"heatmap\"}],\"heatmapgl\":[{\"colorbar\":{\"outlinewidth\":0,\"ticks\":\"\"},\"colorscale\":[[0.0,\"#0d0887\"],[0.1111111111111111,\"#46039f\"],[0.2222222222222222,\"#7201a8\"],[0.3333333333333333,\"#9c179e\"],[0.4444444444444444,\"#bd3786\"],[0.5555555555555556,\"#d8576b\"],[0.6666666666666666,\"#ed7953\"],[0.7777777777777778,\"#fb9f3a\"],[0.8888888888888888,\"#fdca26\"],[1.0,\"#f0f921\"]],\"type\":\"heatmapgl\"}],\"histogram\":[{\"marker\":{\"pattern\":{\"fillmode\":\"overlay\",\"size\":10,\"solidity\":0.2}},\"type\":\"histogram\"}],\"histogram2d\":[{\"colorbar\":{\"outlinewidth\":0,\"ticks\":\"\"},\"colorscale\":[[0.0,\"#0d0887\"],[0.1111111111111111,\"#46039f\"],[0.2222222222222222,\"#7201a8\"],[0.3333333333333333,\"#9c179e\"],[0.4444444444444444,\"#bd3786\"],[0.5555555555555556,\"#d8576b\"],[0.6666666666666666,\"#ed7953\"],[0.7777777777777778,\"#fb9f3a\"],[0.8888888888888888,\"#fdca26\"],[1.0,\"#f0f921\"]],\"type\":\"histogram2d\"}],\"histogram2dcontour\":[{\"colorbar\":{\"outlinewidth\":0,\"ticks\":\"\"},\"colorscale\":[[0.0,\"#0d0887\"],[0.1111111111111111,\"#46039f\"],[0.2222222222222222,\"#7201a8\"],[0.3333333333333333,\"#9c179e\"],[0.4444444444444444,\"#bd3786\"],[0.5555555555555556,\"#d8576b\"],[0.6666666666666666,\"#ed7953\"],[0.7777777777777778,\"#fb9f3a\"],[0.8888888888888888,\"#fdca26\"],[1.0,\"#f0f921\"]],\"type\":\"histogram2dcontour\"}],\"mesh3d\":[{\"colorbar\":{\"outlinewidth\":0,\"ticks\":\"\"},\"type\":\"mesh3d\"}],\"parcoords\":[{\"line\":{\"colorbar\":{\"outlinewidth\":0,\"ticks\":\"\"}},\"type\":\"parcoords\"}],\"pie\":[{\"automargin\":true,\"type\":\"pie\"}],\"scatter\":[{\"marker\":{\"colorbar\":{\"outlinewidth\":0,\"ticks\":\"\"}},\"type\":\"scatter\"}],\"scatter3d\":[{\"line\":{\"colorbar\":{\"outlinewidth\":0,\"ticks\":\"\"}},\"marker\":{\"colorbar\":{\"outlinewidth\":0,\"ticks\":\"\"}},\"type\":\"scatter3d\"}],\"scattercarpet\":[{\"marker\":{\"colorbar\":{\"outlinewidth\":0,\"ticks\":\"\"}},\"type\":\"scattercarpet\"}],\"scattergeo\":[{\"marker\":{\"colorbar\":{\"outlinewidth\":0,\"ticks\":\"\"}},\"type\":\"scattergeo\"}],\"scattergl\":[{\"marker\":{\"colorbar\":{\"outlinewidth\":0,\"ticks\":\"\"}},\"type\":\"scattergl\"}],\"scattermapbox\":[{\"marker\":{\"colorbar\":{\"outlinewidth\":0,\"ticks\":\"\"}},\"type\":\"scattermapbox\"}],\"scatterpolar\":[{\"marker\":{\"colorbar\":{\"outlinewidth\":0,\"ticks\":\"\"}},\"type\":\"scatterpolar\"}],\"scatterpolargl\":[{\"marker\":{\"colorbar\":{\"outlinewidth\":0,\"ticks\":\"\"}},\"type\":\"scatterpolargl\"}],\"scatterternary\":[{\"marker\":{\"colorbar\":{\"outlinewidth\":0,\"ticks\":\"\"}},\"type\":\"scatterternary\"}],\"surface\":[{\"colorbar\":{\"outlinewidth\":0,\"ticks\":\"\"},\"colorscale\":[[0.0,\"#0d0887\"],[0.1111111111111111,\"#46039f\"],[0.2222222222222222,\"#7201a8\"],[0.3333333333333333,\"#9c179e\"],[0.4444444444444444,\"#bd3786\"],[0.5555555555555556,\"#d8576b\"],[0.6666666666666666,\"#ed7953\"],[0.7777777777777778,\"#fb9f3a\"],[0.8888888888888888,\"#fdca26\"],[1.0,\"#f0f921\"]],\"type\":\"surface\"}],\"table\":[{\"cells\":{\"fill\":{\"color\":\"#EBF0F8\"},\"line\":{\"color\":\"white\"}},\"header\":{\"fill\":{\"color\":\"#C8D4E3\"},\"line\":{\"color\":\"white\"}},\"type\":\"table\"}]},\"layout\":{\"annotationdefaults\":{\"arrowcolor\":\"#2a3f5f\",\"arrowhead\":0,\"arrowwidth\":1},\"autotypenumbers\":\"strict\",\"coloraxis\":{\"colorbar\":{\"outlinewidth\":0,\"ticks\":\"\"}},\"colorscale\":{\"diverging\":[[0,\"#8e0152\"],[0.1,\"#c51b7d\"],[0.2,\"#de77ae\"],[0.3,\"#f1b6da\"],[0.4,\"#fde0ef\"],[0.5,\"#f7f7f7\"],[0.6,\"#e6f5d0\"],[0.7,\"#b8e186\"],[0.8,\"#7fbc41\"],[0.9,\"#4d9221\"],[1,\"#276419\"]],\"sequential\":[[0.0,\"#0d0887\"],[0.1111111111111111,\"#46039f\"],[0.2222222222222222,\"#7201a8\"],[0.3333333333333333,\"#9c179e\"],[0.4444444444444444,\"#bd3786\"],[0.5555555555555556,\"#d8576b\"],[0.6666666666666666,\"#ed7953\"],[0.7777777777777778,\"#fb9f3a\"],[0.8888888888888888,\"#fdca26\"],[1.0,\"#f0f921\"]],\"sequentialminus\":[[0.0,\"#0d0887\"],[0.1111111111111111,\"#46039f\"],[0.2222222222222222,\"#7201a8\"],[0.3333333333333333,\"#9c179e\"],[0.4444444444444444,\"#bd3786\"],[0.5555555555555556,\"#d8576b\"],[0.6666666666666666,\"#ed7953\"],[0.7777777777777778,\"#fb9f3a\"],[0.8888888888888888,\"#fdca26\"],[1.0,\"#f0f921\"]]},\"colorway\":[\"#636efa\",\"#EF553B\",\"#00cc96\",\"#ab63fa\",\"#FFA15A\",\"#19d3f3\",\"#FF6692\",\"#B6E880\",\"#FF97FF\",\"#FECB52\"],\"font\":{\"color\":\"#2a3f5f\"},\"geo\":{\"bgcolor\":\"white\",\"lakecolor\":\"white\",\"landcolor\":\"#E5ECF6\",\"showlakes\":true,\"showland\":true,\"subunitcolor\":\"white\"},\"hoverlabel\":{\"align\":\"left\"},\"hovermode\":\"closest\",\"mapbox\":{\"style\":\"light\"},\"paper_bgcolor\":\"white\",\"plot_bgcolor\":\"#E5ECF6\",\"polar\":{\"angularaxis\":{\"gridcolor\":\"white\",\"linecolor\":\"white\",\"ticks\":\"\"},\"bgcolor\":\"#E5ECF6\",\"radialaxis\":{\"gridcolor\":\"white\",\"linecolor\":\"white\",\"ticks\":\"\"}},\"scene\":{\"xaxis\":{\"backgroundcolor\":\"#E5ECF6\",\"gridcolor\":\"white\",\"gridwidth\":2,\"linecolor\":\"white\",\"showbackground\":true,\"ticks\":\"\",\"zerolinecolor\":\"white\"},\"yaxis\":{\"backgroundcolor\":\"#E5ECF6\",\"gridcolor\":\"white\",\"gridwidth\":2,\"linecolor\":\"white\",\"showbackground\":true,\"ticks\":\"\",\"zerolinecolor\":\"white\"},\"zaxis\":{\"backgroundcolor\":\"#E5ECF6\",\"gridcolor\":\"white\",\"gridwidth\":2,\"linecolor\":\"white\",\"showbackground\":true,\"ticks\":\"\",\"zerolinecolor\":\"white\"}},\"shapedefaults\":{\"line\":{\"color\":\"#2a3f5f\"}},\"ternary\":{\"aaxis\":{\"gridcolor\":\"white\",\"linecolor\":\"white\",\"ticks\":\"\"},\"baxis\":{\"gridcolor\":\"white\",\"linecolor\":\"white\",\"ticks\":\"\"},\"bgcolor\":\"#E5ECF6\",\"caxis\":{\"gridcolor\":\"white\",\"linecolor\":\"white\",\"ticks\":\"\"}},\"title\":{\"x\":0.05},\"xaxis\":{\"automargin\":true,\"gridcolor\":\"white\",\"linecolor\":\"white\",\"ticks\":\"\",\"title\":{\"standoff\":15},\"zerolinecolor\":\"white\",\"zerolinewidth\":2},\"yaxis\":{\"automargin\":true,\"gridcolor\":\"white\",\"linecolor\":\"white\",\"ticks\":\"\",\"title\":{\"standoff\":15},\"zerolinecolor\":\"white\",\"zerolinewidth\":2}}},\"xaxis\":{\"anchor\":\"y\",\"domain\":[0.0,1.0],\"title\":{\"text\":\"Date\"},\"rangeslider\":{\"visible\":true}},\"yaxis\":{\"anchor\":\"x\",\"domain\":[0.0,1.0],\"title\":{\"text\":\"value\"}},\"legend\":{\"title\":{\"text\":\"variable\"},\"tracegroupgap\":0},\"margin\":{\"t\":60},\"title\":{\"text\":\"Cotizaci\\u00f3n diaria del IBEX vs Cobre \"}},                        {\"responsive\": true}                    ).then(function(){\n",
       "                            \n",
       "var gd = document.getElementById('6f30ea03-bdba-4c08-9dcf-454efbc3e1c9');\n",
       "var x = new MutationObserver(function (mutations, observer) {{\n",
       "        var display = window.getComputedStyle(gd).display;\n",
       "        if (!display || display === 'none') {{\n",
       "            console.log([gd, 'removed!']);\n",
       "            Plotly.purge(gd);\n",
       "            observer.disconnect();\n",
       "        }}\n",
       "}});\n",
       "\n",
       "// Listen for the removal of the full notebook cells\n",
       "var notebookContainer = gd.closest('#notebook-container');\n",
       "if (notebookContainer) {{\n",
       "    x.observe(notebookContainer, {childList: true});\n",
       "}}\n",
       "\n",
       "// Listen for the clearing of the current output cell\n",
       "var outputEl = gd.closest('.output');\n",
       "if (outputEl) {{\n",
       "    x.observe(outputEl, {childList: true});\n",
       "}}\n",
       "\n",
       "                        })                };                });            </script>        </div>"
      ]
     },
     "metadata": {},
     "output_type": "display_data"
    }
   ],
   "source": [
    "fig1 = px.line(df_final , x=df_final.index, y=[\"IBEX_Close_Price\",\"Copper_Close_Price\"])\n",
    "fig1.write_html( 'Data/Lineal_2.html')\n",
    "fig1.update_layout(xaxis_rangeslider_visible=True, title='Cotización diaria del IBEX vs Cobre ')\n",
    "fig1.show()"
   ]
  },
  {
   "cell_type": "markdown",
   "id": "f77e1f2f",
   "metadata": {},
   "source": [
    "## Visualización 2: Correlation Matrices"
   ]
  },
  {
   "cell_type": "code",
   "execution_count": 63,
   "id": "bbddfab9",
   "metadata": {},
   "outputs": [
    {
     "data": {
      "text/html": [
       "<div>\n",
       "<style scoped>\n",
       "    .dataframe tbody tr th:only-of-type {\n",
       "        vertical-align: middle;\n",
       "    }\n",
       "\n",
       "    .dataframe tbody tr th {\n",
       "        vertical-align: top;\n",
       "    }\n",
       "\n",
       "    .dataframe thead th {\n",
       "        text-align: right;\n",
       "    }\n",
       "</style>\n",
       "<table border=\"1\" class=\"dataframe\">\n",
       "  <thead>\n",
       "    <tr style=\"text-align: right;\">\n",
       "      <th></th>\n",
       "      <th>Copper_Close_Price</th>\n",
       "      <th>BTC_Close_Price</th>\n",
       "      <th>Gold_Close_Price</th>\n",
       "      <th>IBEX_Close_Price</th>\n",
       "      <th>OIL_Close_Price</th>\n",
       "    </tr>\n",
       "  </thead>\n",
       "  <tbody>\n",
       "    <tr>\n",
       "      <th>Copper_Close_Price</th>\n",
       "      <td>1.000000</td>\n",
       "      <td>0.913082</td>\n",
       "      <td>0.381009</td>\n",
       "      <td>0.675198</td>\n",
       "      <td>0.886957</td>\n",
       "    </tr>\n",
       "    <tr>\n",
       "      <th>BTC_Close_Price</th>\n",
       "      <td>0.913082</td>\n",
       "      <td>1.000000</td>\n",
       "      <td>0.151882</td>\n",
       "      <td>0.671273</td>\n",
       "      <td>0.775865</td>\n",
       "    </tr>\n",
       "    <tr>\n",
       "      <th>Gold_Close_Price</th>\n",
       "      <td>0.381009</td>\n",
       "      <td>0.151882</td>\n",
       "      <td>1.000000</td>\n",
       "      <td>-0.183944</td>\n",
       "      <td>0.275059</td>\n",
       "    </tr>\n",
       "    <tr>\n",
       "      <th>IBEX_Close_Price</th>\n",
       "      <td>0.675198</td>\n",
       "      <td>0.671273</td>\n",
       "      <td>-0.183944</td>\n",
       "      <td>1.000000</td>\n",
       "      <td>0.736912</td>\n",
       "    </tr>\n",
       "    <tr>\n",
       "      <th>OIL_Close_Price</th>\n",
       "      <td>0.886957</td>\n",
       "      <td>0.775865</td>\n",
       "      <td>0.275059</td>\n",
       "      <td>0.736912</td>\n",
       "      <td>1.000000</td>\n",
       "    </tr>\n",
       "  </tbody>\n",
       "</table>\n",
       "</div>"
      ],
      "text/plain": [
       "                    Copper_Close_Price  BTC_Close_Price  Gold_Close_Price  \\\n",
       "Copper_Close_Price            1.000000         0.913082          0.381009   \n",
       "BTC_Close_Price               0.913082         1.000000          0.151882   \n",
       "Gold_Close_Price              0.381009         0.151882          1.000000   \n",
       "IBEX_Close_Price              0.675198         0.671273         -0.183944   \n",
       "OIL_Close_Price               0.886957         0.775865          0.275059   \n",
       "\n",
       "                    IBEX_Close_Price  OIL_Close_Price  \n",
       "Copper_Close_Price          0.675198         0.886957  \n",
       "BTC_Close_Price             0.671273         0.775865  \n",
       "Gold_Close_Price           -0.183944         0.275059  \n",
       "IBEX_Close_Price            1.000000         0.736912  \n",
       "OIL_Close_Price             0.736912         1.000000  "
      ]
     },
     "metadata": {},
     "output_type": "display_data"
    }
   ],
   "source": [
    "import numpy as np\n",
    "\n",
    "df_corr = df_final.corr()\n",
    "display(df_corr) \n",
    "df_corr.to_excel('Data/datos_correlacion.xlsx')"
   ]
  },
  {
   "cell_type": "code",
   "execution_count": 64,
   "id": "a3915951",
   "metadata": {},
   "outputs": [
    {
     "data": {
      "application/vnd.plotly.v1+json": {
       "config": {
        "plotlyServerURL": "https://plot.ly"
       },
       "data": [
        {
         "coloraxis": "coloraxis",
         "hovertemplate": "x: %{x}<br>y: %{y}<br>color: %{z}<extra></extra>",
         "name": "0",
         "texttemplate": "%{z}",
         "type": "heatmap",
         "x": [
          "Copper_Close_Price",
          "BTC_Close_Price",
          "Gold_Close_Price",
          "IBEX_Close_Price",
          "OIL_Close_Price"
         ],
         "xaxis": "x",
         "y": [
          "Copper_Close_Price",
          "BTC_Close_Price",
          "Gold_Close_Price",
          "IBEX_Close_Price",
          "OIL_Close_Price"
         ],
         "yaxis": "y",
         "z": [
          [
           1,
           0.9130818898444057,
           0.38100923046376634,
           0.6751984333298707,
           0.886957379856732
          ],
          [
           0.9130818898444057,
           1,
           0.15188160761403072,
           0.6712730211820693,
           0.7758650770466231
          ],
          [
           0.38100923046376634,
           0.15188160761403072,
           1,
           -0.18394448038642466,
           0.2750590006990617
          ],
          [
           0.6751984333298707,
           0.6712730211820693,
           -0.18394448038642466,
           1,
           0.736912463370402
          ],
          [
           0.886957379856732,
           0.7758650770466231,
           0.2750590006990617,
           0.736912463370402,
           1
          ]
         ]
        }
       ],
       "layout": {
        "coloraxis": {
         "colorscale": [
          [
           0,
           "#0d0887"
          ],
          [
           0.1111111111111111,
           "#46039f"
          ],
          [
           0.2222222222222222,
           "#7201a8"
          ],
          [
           0.3333333333333333,
           "#9c179e"
          ],
          [
           0.4444444444444444,
           "#bd3786"
          ],
          [
           0.5555555555555556,
           "#d8576b"
          ],
          [
           0.6666666666666666,
           "#ed7953"
          ],
          [
           0.7777777777777778,
           "#fb9f3a"
          ],
          [
           0.8888888888888888,
           "#fdca26"
          ],
          [
           1,
           "#f0f921"
          ]
         ]
        },
        "margin": {
         "t": 60
        },
        "template": {
         "data": {
          "bar": [
           {
            "error_x": {
             "color": "#2a3f5f"
            },
            "error_y": {
             "color": "#2a3f5f"
            },
            "marker": {
             "line": {
              "color": "#E5ECF6",
              "width": 0.5
             },
             "pattern": {
              "fillmode": "overlay",
              "size": 10,
              "solidity": 0.2
             }
            },
            "type": "bar"
           }
          ],
          "barpolar": [
           {
            "marker": {
             "line": {
              "color": "#E5ECF6",
              "width": 0.5
             },
             "pattern": {
              "fillmode": "overlay",
              "size": 10,
              "solidity": 0.2
             }
            },
            "type": "barpolar"
           }
          ],
          "carpet": [
           {
            "aaxis": {
             "endlinecolor": "#2a3f5f",
             "gridcolor": "white",
             "linecolor": "white",
             "minorgridcolor": "white",
             "startlinecolor": "#2a3f5f"
            },
            "baxis": {
             "endlinecolor": "#2a3f5f",
             "gridcolor": "white",
             "linecolor": "white",
             "minorgridcolor": "white",
             "startlinecolor": "#2a3f5f"
            },
            "type": "carpet"
           }
          ],
          "choropleth": [
           {
            "colorbar": {
             "outlinewidth": 0,
             "ticks": ""
            },
            "type": "choropleth"
           }
          ],
          "contour": [
           {
            "colorbar": {
             "outlinewidth": 0,
             "ticks": ""
            },
            "colorscale": [
             [
              0,
              "#0d0887"
             ],
             [
              0.1111111111111111,
              "#46039f"
             ],
             [
              0.2222222222222222,
              "#7201a8"
             ],
             [
              0.3333333333333333,
              "#9c179e"
             ],
             [
              0.4444444444444444,
              "#bd3786"
             ],
             [
              0.5555555555555556,
              "#d8576b"
             ],
             [
              0.6666666666666666,
              "#ed7953"
             ],
             [
              0.7777777777777778,
              "#fb9f3a"
             ],
             [
              0.8888888888888888,
              "#fdca26"
             ],
             [
              1,
              "#f0f921"
             ]
            ],
            "type": "contour"
           }
          ],
          "contourcarpet": [
           {
            "colorbar": {
             "outlinewidth": 0,
             "ticks": ""
            },
            "type": "contourcarpet"
           }
          ],
          "heatmap": [
           {
            "colorbar": {
             "outlinewidth": 0,
             "ticks": ""
            },
            "colorscale": [
             [
              0,
              "#0d0887"
             ],
             [
              0.1111111111111111,
              "#46039f"
             ],
             [
              0.2222222222222222,
              "#7201a8"
             ],
             [
              0.3333333333333333,
              "#9c179e"
             ],
             [
              0.4444444444444444,
              "#bd3786"
             ],
             [
              0.5555555555555556,
              "#d8576b"
             ],
             [
              0.6666666666666666,
              "#ed7953"
             ],
             [
              0.7777777777777778,
              "#fb9f3a"
             ],
             [
              0.8888888888888888,
              "#fdca26"
             ],
             [
              1,
              "#f0f921"
             ]
            ],
            "type": "heatmap"
           }
          ],
          "heatmapgl": [
           {
            "colorbar": {
             "outlinewidth": 0,
             "ticks": ""
            },
            "colorscale": [
             [
              0,
              "#0d0887"
             ],
             [
              0.1111111111111111,
              "#46039f"
             ],
             [
              0.2222222222222222,
              "#7201a8"
             ],
             [
              0.3333333333333333,
              "#9c179e"
             ],
             [
              0.4444444444444444,
              "#bd3786"
             ],
             [
              0.5555555555555556,
              "#d8576b"
             ],
             [
              0.6666666666666666,
              "#ed7953"
             ],
             [
              0.7777777777777778,
              "#fb9f3a"
             ],
             [
              0.8888888888888888,
              "#fdca26"
             ],
             [
              1,
              "#f0f921"
             ]
            ],
            "type": "heatmapgl"
           }
          ],
          "histogram": [
           {
            "marker": {
             "pattern": {
              "fillmode": "overlay",
              "size": 10,
              "solidity": 0.2
             }
            },
            "type": "histogram"
           }
          ],
          "histogram2d": [
           {
            "colorbar": {
             "outlinewidth": 0,
             "ticks": ""
            },
            "colorscale": [
             [
              0,
              "#0d0887"
             ],
             [
              0.1111111111111111,
              "#46039f"
             ],
             [
              0.2222222222222222,
              "#7201a8"
             ],
             [
              0.3333333333333333,
              "#9c179e"
             ],
             [
              0.4444444444444444,
              "#bd3786"
             ],
             [
              0.5555555555555556,
              "#d8576b"
             ],
             [
              0.6666666666666666,
              "#ed7953"
             ],
             [
              0.7777777777777778,
              "#fb9f3a"
             ],
             [
              0.8888888888888888,
              "#fdca26"
             ],
             [
              1,
              "#f0f921"
             ]
            ],
            "type": "histogram2d"
           }
          ],
          "histogram2dcontour": [
           {
            "colorbar": {
             "outlinewidth": 0,
             "ticks": ""
            },
            "colorscale": [
             [
              0,
              "#0d0887"
             ],
             [
              0.1111111111111111,
              "#46039f"
             ],
             [
              0.2222222222222222,
              "#7201a8"
             ],
             [
              0.3333333333333333,
              "#9c179e"
             ],
             [
              0.4444444444444444,
              "#bd3786"
             ],
             [
              0.5555555555555556,
              "#d8576b"
             ],
             [
              0.6666666666666666,
              "#ed7953"
             ],
             [
              0.7777777777777778,
              "#fb9f3a"
             ],
             [
              0.8888888888888888,
              "#fdca26"
             ],
             [
              1,
              "#f0f921"
             ]
            ],
            "type": "histogram2dcontour"
           }
          ],
          "mesh3d": [
           {
            "colorbar": {
             "outlinewidth": 0,
             "ticks": ""
            },
            "type": "mesh3d"
           }
          ],
          "parcoords": [
           {
            "line": {
             "colorbar": {
              "outlinewidth": 0,
              "ticks": ""
             }
            },
            "type": "parcoords"
           }
          ],
          "pie": [
           {
            "automargin": true,
            "type": "pie"
           }
          ],
          "scatter": [
           {
            "marker": {
             "colorbar": {
              "outlinewidth": 0,
              "ticks": ""
             }
            },
            "type": "scatter"
           }
          ],
          "scatter3d": [
           {
            "line": {
             "colorbar": {
              "outlinewidth": 0,
              "ticks": ""
             }
            },
            "marker": {
             "colorbar": {
              "outlinewidth": 0,
              "ticks": ""
             }
            },
            "type": "scatter3d"
           }
          ],
          "scattercarpet": [
           {
            "marker": {
             "colorbar": {
              "outlinewidth": 0,
              "ticks": ""
             }
            },
            "type": "scattercarpet"
           }
          ],
          "scattergeo": [
           {
            "marker": {
             "colorbar": {
              "outlinewidth": 0,
              "ticks": ""
             }
            },
            "type": "scattergeo"
           }
          ],
          "scattergl": [
           {
            "marker": {
             "colorbar": {
              "outlinewidth": 0,
              "ticks": ""
             }
            },
            "type": "scattergl"
           }
          ],
          "scattermapbox": [
           {
            "marker": {
             "colorbar": {
              "outlinewidth": 0,
              "ticks": ""
             }
            },
            "type": "scattermapbox"
           }
          ],
          "scatterpolar": [
           {
            "marker": {
             "colorbar": {
              "outlinewidth": 0,
              "ticks": ""
             }
            },
            "type": "scatterpolar"
           }
          ],
          "scatterpolargl": [
           {
            "marker": {
             "colorbar": {
              "outlinewidth": 0,
              "ticks": ""
             }
            },
            "type": "scatterpolargl"
           }
          ],
          "scatterternary": [
           {
            "marker": {
             "colorbar": {
              "outlinewidth": 0,
              "ticks": ""
             }
            },
            "type": "scatterternary"
           }
          ],
          "surface": [
           {
            "colorbar": {
             "outlinewidth": 0,
             "ticks": ""
            },
            "colorscale": [
             [
              0,
              "#0d0887"
             ],
             [
              0.1111111111111111,
              "#46039f"
             ],
             [
              0.2222222222222222,
              "#7201a8"
             ],
             [
              0.3333333333333333,
              "#9c179e"
             ],
             [
              0.4444444444444444,
              "#bd3786"
             ],
             [
              0.5555555555555556,
              "#d8576b"
             ],
             [
              0.6666666666666666,
              "#ed7953"
             ],
             [
              0.7777777777777778,
              "#fb9f3a"
             ],
             [
              0.8888888888888888,
              "#fdca26"
             ],
             [
              1,
              "#f0f921"
             ]
            ],
            "type": "surface"
           }
          ],
          "table": [
           {
            "cells": {
             "fill": {
              "color": "#EBF0F8"
             },
             "line": {
              "color": "white"
             }
            },
            "header": {
             "fill": {
              "color": "#C8D4E3"
             },
             "line": {
              "color": "white"
             }
            },
            "type": "table"
           }
          ]
         },
         "layout": {
          "annotationdefaults": {
           "arrowcolor": "#2a3f5f",
           "arrowhead": 0,
           "arrowwidth": 1
          },
          "autotypenumbers": "strict",
          "coloraxis": {
           "colorbar": {
            "outlinewidth": 0,
            "ticks": ""
           }
          },
          "colorscale": {
           "diverging": [
            [
             0,
             "#8e0152"
            ],
            [
             0.1,
             "#c51b7d"
            ],
            [
             0.2,
             "#de77ae"
            ],
            [
             0.3,
             "#f1b6da"
            ],
            [
             0.4,
             "#fde0ef"
            ],
            [
             0.5,
             "#f7f7f7"
            ],
            [
             0.6,
             "#e6f5d0"
            ],
            [
             0.7,
             "#b8e186"
            ],
            [
             0.8,
             "#7fbc41"
            ],
            [
             0.9,
             "#4d9221"
            ],
            [
             1,
             "#276419"
            ]
           ],
           "sequential": [
            [
             0,
             "#0d0887"
            ],
            [
             0.1111111111111111,
             "#46039f"
            ],
            [
             0.2222222222222222,
             "#7201a8"
            ],
            [
             0.3333333333333333,
             "#9c179e"
            ],
            [
             0.4444444444444444,
             "#bd3786"
            ],
            [
             0.5555555555555556,
             "#d8576b"
            ],
            [
             0.6666666666666666,
             "#ed7953"
            ],
            [
             0.7777777777777778,
             "#fb9f3a"
            ],
            [
             0.8888888888888888,
             "#fdca26"
            ],
            [
             1,
             "#f0f921"
            ]
           ],
           "sequentialminus": [
            [
             0,
             "#0d0887"
            ],
            [
             0.1111111111111111,
             "#46039f"
            ],
            [
             0.2222222222222222,
             "#7201a8"
            ],
            [
             0.3333333333333333,
             "#9c179e"
            ],
            [
             0.4444444444444444,
             "#bd3786"
            ],
            [
             0.5555555555555556,
             "#d8576b"
            ],
            [
             0.6666666666666666,
             "#ed7953"
            ],
            [
             0.7777777777777778,
             "#fb9f3a"
            ],
            [
             0.8888888888888888,
             "#fdca26"
            ],
            [
             1,
             "#f0f921"
            ]
           ]
          },
          "colorway": [
           "#636efa",
           "#EF553B",
           "#00cc96",
           "#ab63fa",
           "#FFA15A",
           "#19d3f3",
           "#FF6692",
           "#B6E880",
           "#FF97FF",
           "#FECB52"
          ],
          "font": {
           "color": "#2a3f5f"
          },
          "geo": {
           "bgcolor": "white",
           "lakecolor": "white",
           "landcolor": "#E5ECF6",
           "showlakes": true,
           "showland": true,
           "subunitcolor": "white"
          },
          "hoverlabel": {
           "align": "left"
          },
          "hovermode": "closest",
          "mapbox": {
           "style": "light"
          },
          "paper_bgcolor": "white",
          "plot_bgcolor": "#E5ECF6",
          "polar": {
           "angularaxis": {
            "gridcolor": "white",
            "linecolor": "white",
            "ticks": ""
           },
           "bgcolor": "#E5ECF6",
           "radialaxis": {
            "gridcolor": "white",
            "linecolor": "white",
            "ticks": ""
           }
          },
          "scene": {
           "xaxis": {
            "backgroundcolor": "#E5ECF6",
            "gridcolor": "white",
            "gridwidth": 2,
            "linecolor": "white",
            "showbackground": true,
            "ticks": "",
            "zerolinecolor": "white"
           },
           "yaxis": {
            "backgroundcolor": "#E5ECF6",
            "gridcolor": "white",
            "gridwidth": 2,
            "linecolor": "white",
            "showbackground": true,
            "ticks": "",
            "zerolinecolor": "white"
           },
           "zaxis": {
            "backgroundcolor": "#E5ECF6",
            "gridcolor": "white",
            "gridwidth": 2,
            "linecolor": "white",
            "showbackground": true,
            "ticks": "",
            "zerolinecolor": "white"
           }
          },
          "shapedefaults": {
           "line": {
            "color": "#2a3f5f"
           }
          },
          "ternary": {
           "aaxis": {
            "gridcolor": "white",
            "linecolor": "white",
            "ticks": ""
           },
           "baxis": {
            "gridcolor": "white",
            "linecolor": "white",
            "ticks": ""
           },
           "bgcolor": "#E5ECF6",
           "caxis": {
            "gridcolor": "white",
            "linecolor": "white",
            "ticks": ""
           }
          },
          "title": {
           "x": 0.05
          },
          "xaxis": {
           "automargin": true,
           "gridcolor": "white",
           "linecolor": "white",
           "ticks": "",
           "title": {
            "standoff": 15
           },
           "zerolinecolor": "white",
           "zerolinewidth": 2
          },
          "yaxis": {
           "automargin": true,
           "gridcolor": "white",
           "linecolor": "white",
           "ticks": "",
           "title": {
            "standoff": 15
           },
           "zerolinecolor": "white",
           "zerolinewidth": 2
          }
         }
        },
        "title": {
         "text": "Correlación entre activos financieros "
        },
        "xaxis": {
         "anchor": "y",
         "constrain": "domain",
         "domain": [
          0,
          1
         ],
         "scaleanchor": "y"
        },
        "yaxis": {
         "anchor": "x",
         "autorange": "reversed",
         "constrain": "domain",
         "domain": [
          0,
          1
         ]
        }
       }
      },
      "text/html": [
       "<div>                            <div id=\"c2ddd0bd-b294-408c-8a5b-dfba9cd6b480\" class=\"plotly-graph-div\" style=\"height:525px; width:100%;\"></div>            <script type=\"text/javascript\">                require([\"plotly\"], function(Plotly) {                    window.PLOTLYENV=window.PLOTLYENV || {};                                    if (document.getElementById(\"c2ddd0bd-b294-408c-8a5b-dfba9cd6b480\")) {                    Plotly.newPlot(                        \"c2ddd0bd-b294-408c-8a5b-dfba9cd6b480\",                        [{\"coloraxis\":\"coloraxis\",\"name\":\"0\",\"texttemplate\":\"%{z}\",\"x\":[\"Copper_Close_Price\",\"BTC_Close_Price\",\"Gold_Close_Price\",\"IBEX_Close_Price\",\"OIL_Close_Price\"],\"y\":[\"Copper_Close_Price\",\"BTC_Close_Price\",\"Gold_Close_Price\",\"IBEX_Close_Price\",\"OIL_Close_Price\"],\"z\":[[1.0,0.9130818898444057,0.38100923046376634,0.6751984333298707,0.886957379856732],[0.9130818898444057,1.0,0.15188160761403072,0.6712730211820693,0.7758650770466231],[0.38100923046376634,0.15188160761403072,1.0,-0.18394448038642466,0.2750590006990617],[0.6751984333298707,0.6712730211820693,-0.18394448038642466,1.0,0.736912463370402],[0.886957379856732,0.7758650770466231,0.2750590006990617,0.736912463370402,1.0]],\"type\":\"heatmap\",\"xaxis\":\"x\",\"yaxis\":\"y\",\"hovertemplate\":\"x: %{x}<br>y: %{y}<br>color: %{z}<extra></extra>\"}],                        {\"template\":{\"data\":{\"bar\":[{\"error_x\":{\"color\":\"#2a3f5f\"},\"error_y\":{\"color\":\"#2a3f5f\"},\"marker\":{\"line\":{\"color\":\"#E5ECF6\",\"width\":0.5},\"pattern\":{\"fillmode\":\"overlay\",\"size\":10,\"solidity\":0.2}},\"type\":\"bar\"}],\"barpolar\":[{\"marker\":{\"line\":{\"color\":\"#E5ECF6\",\"width\":0.5},\"pattern\":{\"fillmode\":\"overlay\",\"size\":10,\"solidity\":0.2}},\"type\":\"barpolar\"}],\"carpet\":[{\"aaxis\":{\"endlinecolor\":\"#2a3f5f\",\"gridcolor\":\"white\",\"linecolor\":\"white\",\"minorgridcolor\":\"white\",\"startlinecolor\":\"#2a3f5f\"},\"baxis\":{\"endlinecolor\":\"#2a3f5f\",\"gridcolor\":\"white\",\"linecolor\":\"white\",\"minorgridcolor\":\"white\",\"startlinecolor\":\"#2a3f5f\"},\"type\":\"carpet\"}],\"choropleth\":[{\"colorbar\":{\"outlinewidth\":0,\"ticks\":\"\"},\"type\":\"choropleth\"}],\"contour\":[{\"colorbar\":{\"outlinewidth\":0,\"ticks\":\"\"},\"colorscale\":[[0.0,\"#0d0887\"],[0.1111111111111111,\"#46039f\"],[0.2222222222222222,\"#7201a8\"],[0.3333333333333333,\"#9c179e\"],[0.4444444444444444,\"#bd3786\"],[0.5555555555555556,\"#d8576b\"],[0.6666666666666666,\"#ed7953\"],[0.7777777777777778,\"#fb9f3a\"],[0.8888888888888888,\"#fdca26\"],[1.0,\"#f0f921\"]],\"type\":\"contour\"}],\"contourcarpet\":[{\"colorbar\":{\"outlinewidth\":0,\"ticks\":\"\"},\"type\":\"contourcarpet\"}],\"heatmap\":[{\"colorbar\":{\"outlinewidth\":0,\"ticks\":\"\"},\"colorscale\":[[0.0,\"#0d0887\"],[0.1111111111111111,\"#46039f\"],[0.2222222222222222,\"#7201a8\"],[0.3333333333333333,\"#9c179e\"],[0.4444444444444444,\"#bd3786\"],[0.5555555555555556,\"#d8576b\"],[0.6666666666666666,\"#ed7953\"],[0.7777777777777778,\"#fb9f3a\"],[0.8888888888888888,\"#fdca26\"],[1.0,\"#f0f921\"]],\"type\":\"heatmap\"}],\"heatmapgl\":[{\"colorbar\":{\"outlinewidth\":0,\"ticks\":\"\"},\"colorscale\":[[0.0,\"#0d0887\"],[0.1111111111111111,\"#46039f\"],[0.2222222222222222,\"#7201a8\"],[0.3333333333333333,\"#9c179e\"],[0.4444444444444444,\"#bd3786\"],[0.5555555555555556,\"#d8576b\"],[0.6666666666666666,\"#ed7953\"],[0.7777777777777778,\"#fb9f3a\"],[0.8888888888888888,\"#fdca26\"],[1.0,\"#f0f921\"]],\"type\":\"heatmapgl\"}],\"histogram\":[{\"marker\":{\"pattern\":{\"fillmode\":\"overlay\",\"size\":10,\"solidity\":0.2}},\"type\":\"histogram\"}],\"histogram2d\":[{\"colorbar\":{\"outlinewidth\":0,\"ticks\":\"\"},\"colorscale\":[[0.0,\"#0d0887\"],[0.1111111111111111,\"#46039f\"],[0.2222222222222222,\"#7201a8\"],[0.3333333333333333,\"#9c179e\"],[0.4444444444444444,\"#bd3786\"],[0.5555555555555556,\"#d8576b\"],[0.6666666666666666,\"#ed7953\"],[0.7777777777777778,\"#fb9f3a\"],[0.8888888888888888,\"#fdca26\"],[1.0,\"#f0f921\"]],\"type\":\"histogram2d\"}],\"histogram2dcontour\":[{\"colorbar\":{\"outlinewidth\":0,\"ticks\":\"\"},\"colorscale\":[[0.0,\"#0d0887\"],[0.1111111111111111,\"#46039f\"],[0.2222222222222222,\"#7201a8\"],[0.3333333333333333,\"#9c179e\"],[0.4444444444444444,\"#bd3786\"],[0.5555555555555556,\"#d8576b\"],[0.6666666666666666,\"#ed7953\"],[0.7777777777777778,\"#fb9f3a\"],[0.8888888888888888,\"#fdca26\"],[1.0,\"#f0f921\"]],\"type\":\"histogram2dcontour\"}],\"mesh3d\":[{\"colorbar\":{\"outlinewidth\":0,\"ticks\":\"\"},\"type\":\"mesh3d\"}],\"parcoords\":[{\"line\":{\"colorbar\":{\"outlinewidth\":0,\"ticks\":\"\"}},\"type\":\"parcoords\"}],\"pie\":[{\"automargin\":true,\"type\":\"pie\"}],\"scatter\":[{\"marker\":{\"colorbar\":{\"outlinewidth\":0,\"ticks\":\"\"}},\"type\":\"scatter\"}],\"scatter3d\":[{\"line\":{\"colorbar\":{\"outlinewidth\":0,\"ticks\":\"\"}},\"marker\":{\"colorbar\":{\"outlinewidth\":0,\"ticks\":\"\"}},\"type\":\"scatter3d\"}],\"scattercarpet\":[{\"marker\":{\"colorbar\":{\"outlinewidth\":0,\"ticks\":\"\"}},\"type\":\"scattercarpet\"}],\"scattergeo\":[{\"marker\":{\"colorbar\":{\"outlinewidth\":0,\"ticks\":\"\"}},\"type\":\"scattergeo\"}],\"scattergl\":[{\"marker\":{\"colorbar\":{\"outlinewidth\":0,\"ticks\":\"\"}},\"type\":\"scattergl\"}],\"scattermapbox\":[{\"marker\":{\"colorbar\":{\"outlinewidth\":0,\"ticks\":\"\"}},\"type\":\"scattermapbox\"}],\"scatterpolar\":[{\"marker\":{\"colorbar\":{\"outlinewidth\":0,\"ticks\":\"\"}},\"type\":\"scatterpolar\"}],\"scatterpolargl\":[{\"marker\":{\"colorbar\":{\"outlinewidth\":0,\"ticks\":\"\"}},\"type\":\"scatterpolargl\"}],\"scatterternary\":[{\"marker\":{\"colorbar\":{\"outlinewidth\":0,\"ticks\":\"\"}},\"type\":\"scatterternary\"}],\"surface\":[{\"colorbar\":{\"outlinewidth\":0,\"ticks\":\"\"},\"colorscale\":[[0.0,\"#0d0887\"],[0.1111111111111111,\"#46039f\"],[0.2222222222222222,\"#7201a8\"],[0.3333333333333333,\"#9c179e\"],[0.4444444444444444,\"#bd3786\"],[0.5555555555555556,\"#d8576b\"],[0.6666666666666666,\"#ed7953\"],[0.7777777777777778,\"#fb9f3a\"],[0.8888888888888888,\"#fdca26\"],[1.0,\"#f0f921\"]],\"type\":\"surface\"}],\"table\":[{\"cells\":{\"fill\":{\"color\":\"#EBF0F8\"},\"line\":{\"color\":\"white\"}},\"header\":{\"fill\":{\"color\":\"#C8D4E3\"},\"line\":{\"color\":\"white\"}},\"type\":\"table\"}]},\"layout\":{\"annotationdefaults\":{\"arrowcolor\":\"#2a3f5f\",\"arrowhead\":0,\"arrowwidth\":1},\"autotypenumbers\":\"strict\",\"coloraxis\":{\"colorbar\":{\"outlinewidth\":0,\"ticks\":\"\"}},\"colorscale\":{\"diverging\":[[0,\"#8e0152\"],[0.1,\"#c51b7d\"],[0.2,\"#de77ae\"],[0.3,\"#f1b6da\"],[0.4,\"#fde0ef\"],[0.5,\"#f7f7f7\"],[0.6,\"#e6f5d0\"],[0.7,\"#b8e186\"],[0.8,\"#7fbc41\"],[0.9,\"#4d9221\"],[1,\"#276419\"]],\"sequential\":[[0.0,\"#0d0887\"],[0.1111111111111111,\"#46039f\"],[0.2222222222222222,\"#7201a8\"],[0.3333333333333333,\"#9c179e\"],[0.4444444444444444,\"#bd3786\"],[0.5555555555555556,\"#d8576b\"],[0.6666666666666666,\"#ed7953\"],[0.7777777777777778,\"#fb9f3a\"],[0.8888888888888888,\"#fdca26\"],[1.0,\"#f0f921\"]],\"sequentialminus\":[[0.0,\"#0d0887\"],[0.1111111111111111,\"#46039f\"],[0.2222222222222222,\"#7201a8\"],[0.3333333333333333,\"#9c179e\"],[0.4444444444444444,\"#bd3786\"],[0.5555555555555556,\"#d8576b\"],[0.6666666666666666,\"#ed7953\"],[0.7777777777777778,\"#fb9f3a\"],[0.8888888888888888,\"#fdca26\"],[1.0,\"#f0f921\"]]},\"colorway\":[\"#636efa\",\"#EF553B\",\"#00cc96\",\"#ab63fa\",\"#FFA15A\",\"#19d3f3\",\"#FF6692\",\"#B6E880\",\"#FF97FF\",\"#FECB52\"],\"font\":{\"color\":\"#2a3f5f\"},\"geo\":{\"bgcolor\":\"white\",\"lakecolor\":\"white\",\"landcolor\":\"#E5ECF6\",\"showlakes\":true,\"showland\":true,\"subunitcolor\":\"white\"},\"hoverlabel\":{\"align\":\"left\"},\"hovermode\":\"closest\",\"mapbox\":{\"style\":\"light\"},\"paper_bgcolor\":\"white\",\"plot_bgcolor\":\"#E5ECF6\",\"polar\":{\"angularaxis\":{\"gridcolor\":\"white\",\"linecolor\":\"white\",\"ticks\":\"\"},\"bgcolor\":\"#E5ECF6\",\"radialaxis\":{\"gridcolor\":\"white\",\"linecolor\":\"white\",\"ticks\":\"\"}},\"scene\":{\"xaxis\":{\"backgroundcolor\":\"#E5ECF6\",\"gridcolor\":\"white\",\"gridwidth\":2,\"linecolor\":\"white\",\"showbackground\":true,\"ticks\":\"\",\"zerolinecolor\":\"white\"},\"yaxis\":{\"backgroundcolor\":\"#E5ECF6\",\"gridcolor\":\"white\",\"gridwidth\":2,\"linecolor\":\"white\",\"showbackground\":true,\"ticks\":\"\",\"zerolinecolor\":\"white\"},\"zaxis\":{\"backgroundcolor\":\"#E5ECF6\",\"gridcolor\":\"white\",\"gridwidth\":2,\"linecolor\":\"white\",\"showbackground\":true,\"ticks\":\"\",\"zerolinecolor\":\"white\"}},\"shapedefaults\":{\"line\":{\"color\":\"#2a3f5f\"}},\"ternary\":{\"aaxis\":{\"gridcolor\":\"white\",\"linecolor\":\"white\",\"ticks\":\"\"},\"baxis\":{\"gridcolor\":\"white\",\"linecolor\":\"white\",\"ticks\":\"\"},\"bgcolor\":\"#E5ECF6\",\"caxis\":{\"gridcolor\":\"white\",\"linecolor\":\"white\",\"ticks\":\"\"}},\"title\":{\"x\":0.05},\"xaxis\":{\"automargin\":true,\"gridcolor\":\"white\",\"linecolor\":\"white\",\"ticks\":\"\",\"title\":{\"standoff\":15},\"zerolinecolor\":\"white\",\"zerolinewidth\":2},\"yaxis\":{\"automargin\":true,\"gridcolor\":\"white\",\"linecolor\":\"white\",\"ticks\":\"\",\"title\":{\"standoff\":15},\"zerolinecolor\":\"white\",\"zerolinewidth\":2}}},\"xaxis\":{\"anchor\":\"y\",\"domain\":[0.0,1.0],\"scaleanchor\":\"y\",\"constrain\":\"domain\"},\"yaxis\":{\"anchor\":\"x\",\"domain\":[0.0,1.0],\"autorange\":\"reversed\",\"constrain\":\"domain\"},\"coloraxis\":{\"colorscale\":[[0.0,\"#0d0887\"],[0.1111111111111111,\"#46039f\"],[0.2222222222222222,\"#7201a8\"],[0.3333333333333333,\"#9c179e\"],[0.4444444444444444,\"#bd3786\"],[0.5555555555555556,\"#d8576b\"],[0.6666666666666666,\"#ed7953\"],[0.7777777777777778,\"#fb9f3a\"],[0.8888888888888888,\"#fdca26\"],[1.0,\"#f0f921\"]]},\"margin\":{\"t\":60},\"title\":{\"text\":\"Correlaci\\u00f3n entre activos financieros \"}},                        {\"responsive\": true}                    ).then(function(){\n",
       "                            \n",
       "var gd = document.getElementById('c2ddd0bd-b294-408c-8a5b-dfba9cd6b480');\n",
       "var x = new MutationObserver(function (mutations, observer) {{\n",
       "        var display = window.getComputedStyle(gd).display;\n",
       "        if (!display || display === 'none') {{\n",
       "            console.log([gd, 'removed!']);\n",
       "            Plotly.purge(gd);\n",
       "            observer.disconnect();\n",
       "        }}\n",
       "}});\n",
       "\n",
       "// Listen for the removal of the full notebook cells\n",
       "var notebookContainer = gd.closest('#notebook-container');\n",
       "if (notebookContainer) {{\n",
       "    x.observe(notebookContainer, {childList: true});\n",
       "}}\n",
       "\n",
       "// Listen for the clearing of the current output cell\n",
       "var outputEl = gd.closest('.output');\n",
       "if (outputEl) {{\n",
       "    x.observe(outputEl, {childList: true});\n",
       "}}\n",
       "\n",
       "                        })                };                });            </script>        </div>"
      ]
     },
     "metadata": {},
     "output_type": "display_data"
    }
   ],
   "source": [
    "import plotly.express as px\n",
    "import plotly.express as px\n",
    "import plotly.graph_objects as go\n",
    "import plotly.express as px\n",
    "import plotly.io as pio\n",
    "\n",
    "#pio.init_notebook_mode()\n",
    "fig2 = px.imshow(df_corr, text_auto=True)\n",
    "fig2.write_html( 'Data/Correlación.html' )\n",
    "fig2.update_layout(title='Correlación entre activos financieros ')\n",
    "fig2.show()"
   ]
  },
  {
   "cell_type": "markdown",
   "id": "20dd3e62",
   "metadata": {},
   "source": [
    "## Visualización 3: OHLC Chart"
   ]
  },
  {
   "cell_type": "code",
   "execution_count": 65,
   "id": "e42926d7",
   "metadata": {},
   "outputs": [],
   "source": [
    "df_gold_OHCL.to_csv('Data/datos_df_gold_OHC.csv')"
   ]
  },
  {
   "cell_type": "code",
   "execution_count": 66,
   "id": "25f37ca1",
   "metadata": {},
   "outputs": [
    {
     "data": {
      "application/vnd.plotly.v1+json": {
       "config": {
        "plotlyServerURL": "https://plot.ly"
       },
       "data": [
        {
         "close": [
          1936.9,
          1932.7,
          1919.55,
          1922.75,
          1958.4,
          1958.4,
          1958.5,
          1945.1,
          1921.73,
          1936.25,
          1920.05,
          1921.6,
          1942.3,
          1925.7,
          1916.55,
          1953.9,
          1982.85,
          1988.4,
          1996.7,
          1991.02,
          2049.85,
          1998.1,
          1974.5,
          1936.25,
          1928.6,
          1945.5,
          1908.85,
          1889.28,
          1889.28,
          1889.28,
          1903.88,
          1909.33,
          1898.25,
          1904.25,
          1895.48,
          1895.48,
          1898.15,
          1869.75,
          1853.75,
          1871.55,
          1843.5,
          1858.7,
          1826.95,
          1833.2,
          1825.85,
          1820.55,
          1808.6,
          1806.82,
          1808,
          1804.8,
          1806.95,
          1801.15,
          1798.26,
          1796,
          1796,
          1797.35,
          1819.75,
          1848.15,
          1843.3,
          1833.63,
          1833.63,
          1833.63,
          1839.45,
          1840.25,
          1813.8,
          1819.55,
          1817.7,
          1817.7,
          1822.8,
          1826.1,
          1821.75,
          1801.5,
          1796.95,
          1790.1,
          1810.15,
          1814.55,
          1801.25,
          1829.05,
          1821.5,
          1814.95,
          1804.55,
          1805.85,
          1812.15,
          1802.93,
          1802.93,
          1808.8,
          1803.45,
          1788.8,
          1790.65,
          1797.95,
          1797.95,
          1797.95,
          1799.4,
          1777.66,
          1770.5,
          1786.65,
          1782.7,
          1782.7,
          1782.7,
          1775,
          1783.1,
          1784.2,
          1778.3,
          1783.35,
          1783.35,
          1783.35,
          1767.73,
          1780.98,
          1775.05,
          1784.6,
          1792.6,
          1792.6,
          1789.54,
          1788.75,
          1789.1,
          1804.75,
          1845.8,
          1845.8,
          1845.8,
          1859,
          1867.4,
          1850.6,
          1862.8,
          1864.9,
          1864.9,
          1862.2,
          1849.2,
          1831.85,
          1824.05,
          1817.73,
          1817.73,
          1817.73,
          1791.15,
          1773.55,
          1787.08,
          1791.44,
          1780.65,
          1769.5,
          1783.4,
          1799.05,
          1797.72,
          1792.99,
          1807.74,
          1792.79,
          1782.84,
          1782.19,
          1770.04,
          1764.69,
          1767.59,
          1767.59,
          1796.09,
          1793.94,
          1759.94,
          1753.99,
          1756.64,
          1756.64,
          1754.43,
          1762.89,
          1760.09,
          1769.44,
          1760.54,
          1760.54,
          1757.64,
          1727.28,
          1734.47,
          1750.87,
          1750.34,
          1750.34,
          1750.34,
          1743.49,
          1768.14,
          1774.19,
          1764.44,
          1754.49,
          1754.49,
          1753.24,
          1793.69,
          1803.92,
          1794.22,
          1789.27,
          1789.27,
          1789.27,
          1794.54,
          1789.04,
          1793.89,
          1822.77,
          1827.19,
          1827.19,
          1827.19,
          1809.39,
          1814.24,
          1814.45,
          1810.09,
          1817.24,
          1791.22,
          1790.64,
          1802.79,
          1805.79,
          1792.69,
          1787.59,
          1779.5,
          1786.72,
          1785.89,
          1786.49,
          1779.79,
          1752.74,
          1750.9,
          1729.09,
          1729.47,
          1763.09,
          1763.09,
          1763.09,
          1804.52,
          1812.03,
          1810.34,
          1812.74,
          1787.19,
          1787.19,
          1813.79,
          1828.14,
          1806.3,
          1799.14,
          1797.49,
          1802.34,
          1802.34,
          1802.34,
          1806.79,
          1804.05,
          1810.29,
          1813.44,
          1811.89,
          1829.44,
          1826.92,
          1808.27,
          1806.69,
          1808.98,
          1802.89,
          1803.89,
          1797.88,
          1791.77,
          1785.49,
          1787.29,
          1776.69,
          1770.34,
          1761.29,
          1778.39,
          1771.69,
          1781.34,
          1775.34,
          1778.94,
          1778.64,
          1783.24,
          1764.34,
          1772.73,
          1812.66,
          1858.11,
          1865.89,
          1877.64,
          1877.64,
          1877.64,
          1897.8,
          1888.22,
          1893.09,
          1899.59,
          1890.97,
          1890.97,
          1890.97,
          1871.36,
          1907.75,
          1900.49,
          1905.74,
          1909.29,
          1909.49,
          1896.79,
          1896.74,
          1899.14,
          1880.24,
          1881.3,
          1881.3,
          1876.84,
          1869.59,
          1869.89,
          1865.79,
          1843.19,
          1827.01,
          1816.49,
          1837.39,
          1835.94,
          1840.69,
          1840.69,
          1830.86,
          1815.57,
          1785.65,
          1779.04,
          1792.32,
          1787.05,
          1807.4,
          1768.95,
          1770.8,
          1780.92,
          1776.5,
          1780.44,
          1778.18,
          1784.25,
          1793.9,
          1778,
          1770.31,
          1779.5,
          1782.5,
          1782.5,
          1763.6,
          1737.1,
          1744.3,
          1733.4,
          1744.1,
          1744.1,
          1744.1,
          1756.38,
          1737.65,
          1744.15,
          1728.1,
          1729.8,
          1729.8,
          1729.8,
          1707.2,
          1685.25,
          1712.3,
          1720.5,
          1731.93,
          1727.6,
          1734.2,
          1727.5,
          1739.55,
          1739.9,
          1749.6,
          1749.6,
          1736.6,
          1747.71,
          1732.1,
          1731.2,
          1726.85,
          1726.85,
          1722.77,
          1726.65,
          1715.9,
          1684.55,
          1700.8,
          1700.8,
          1700.8,
          1698.39,
          1709.86,
          1738.1,
          1724.7,
          1734.4,
          1734.4,
          1769.9,
          1805,
          1805.6,
          1809.95,
          1794.4,
          1784.05,
          1775.7,
          1776.35,
          1794.95,
          1818.85,
          1822.43,
          1822.43,
          1822.43,
          1826.5,
          1843.4,
          1838.95,
          1831.26,
          1810.8,
          1810.8,
          1794,
          1833.85,
          1837.9,
          1860,
          1874,
          1847.76,
          1842.9,
          1844.91,
          1850.8,
          1855.9,
          1852.75,
          1855.9,
          1869.65,
          1870.53,
          1840.3,
          1836.9,
          1827.5,
          1828.45,
          1846.1,
          1845.37,
          1855,
          1842.51,
          1848.88,
          1848.88,
          1913.05,
          1919.05,
          1949.48,
          1942.14,
          1898.66,
          1897.7,
          1894.7,
          1877.89,
          1873.45,
          1908.7,
          1908.7,
          1857.2,
          1872.33,
          1860.99,
          1877.05,
          1867.47,
          1882.43,
          1885.65,
          1865.35,
          1853.5,
          1828,
          1838.53,
          1836.4,
          1839.8,
          1869.5,
          1861.4,
          1839.54,
          1841.5,
          1831.05,
          1814.8,
          1777.1,
          1789.8,
          1788.5,
          1811.38,
          1807.6,
          1807.41,
          1838.33,
          1870.14,
          1870.14,
          1870.14,
          1867.05,
          1873.3,
          1879.1,
          1888.53,
          1890.41,
          1878,
          1865.98,
          1877.79,
          1861.68,
          1958.2,
          1951.25,
          1949.35,
          1904.25,
          1909.32,
          1894.45,
          1878.95,
          1878.95,
          1878.95,
          1866.65,
          1878.2,
          1904.8,
          1902.6,
          1896.65,
          1901.55,
          1904.15,
          1924.6,
          1906.65,
          1904.33,
          1899.4,
          1899.4,
          1908.1,
          1900.33,
          1890.35,
          1922.94,
          1930.43,
          1930.43,
          1930.43,
          1893.95,
          1887.3,
          1878.3,
          1913.45,
          1899.7,
          1899.7,
          1906,
          1885.95,
          1897.81,
          1880.98,
          1855.5,
          1861.05,
          1861.05,
          1868.69,
          1863.4,
          1900.2,
          1912.35,
          1962,
          1962,
          1951.33,
          1944.98,
          1959.75,
          1953.88,
          1956.7,
          1940.4,
          1940.4,
          1940.4,
          1946.35,
          1946.5,
          1931.35,
          1928.55,
          1933.83,
          1933.83,
          1930.3,
          1942.89,
          1970.45,
          1967.9,
          1964.95,
          1964.95,
          1929.5,
          1953.3,
          1928.4,
          1927.98,
          1947.5,
          1940.23,
          1947.05,
          1930.48,
          2000.62,
          1985.07,
          1947.04,
          1945.35,
          1945.35,
          1954.03,
          1914.39,
          1912.43,
          2027.08,
          2035.99,
          2035.99,
          2035.99,
          2063.68,
          2038.15,
          2018.51,
          1976.35,
          1975.9,
          1975.9,
          1975.9,
          1956.05,
          1970.92,
          1959.6,
          1942.55,
          1901.65,
          1901.65,
          1901.65,
          1887.3,
          1872.53,
          1841.9,
          1817.73,
          1809.9,
          1809.9,
          1809.9,
          1797.89,
          1809.09,
          1808.6,
          1802.5,
          1799.3,
          1799.3,
          1799.3,
          1803.5,
          1809.15,
          1793.25,
          1784.5,
          1784.5,
          1774.91,
          1773.03,
          1769.99,
          1779.55,
          1770.4,
          1771.05,
          1771.05,
          1771.05,
          1762.14,
          1762.6,
          1769.1,
          1754.7,
          1743.95,
          1743.95,
          1743.95,
          1721.95,
          1726.63,
          1728.57,
          1725.75,
          1730.8,
          1730.8,
          1730.8,
          1726.3,
          1737.07,
          1714.5,
          1698.51,
          1683.65,
          1683.65,
          1683.65,
          1713.39,
          1698.1,
          1727.99,
          1739.98,
          1730.35,
          1730.35,
          1720.05,
          1708.8,
          1711.78,
          1729.13,
          1736.69,
          1736.69,
          1736.35,
          1726.55,
          1748.98,
          1744.09,
          1732.4,
          1743.55,
          1743,
          1732.05,
          1715.63,
          1702.04,
          1697.4,
          1702.65,
          1702.65,
          1702.65,
          1717.93,
          1685.5,
          1707.03,
          1701.4,
          1700.4,
          1686.8,
          1712.27,
          1708.8,
          1714.9,
          1734.41,
          1729.43,
          1732.54,
          1715.2,
          1687.5,
          1694.13,
          1683.85,
          1717.7,
          1716.9,
          1730.45,
          1714.3,
          1696.9,
          1683.89,
          1646,
          1648.96,
          1664.7,
          1618.45,
          1618.45,
          1614.3,
          1595.05,
          1571,
          1623.58,
          1622,
          1623.5,
          1631.8,
          1611.8,
          1630.65,
          1566.05,
          1490.85,
          1498.6,
          1467.4,
          1484.25,
          1537.15,
          1507.5,
          1529.3,
          1574.8,
          1638.35,
          1653.8,
          1673.6,
          1697.4,
          1673.75,
          1672.28,
          1636.85,
          1640.95,
          1589.8,
          1585.85,
          1645.3,
          1640.9,
          1634.95,
          1659.35,
          1643.45,
          1643.45,
          1619.75,
          1611.35,
          1601.6,
          1581.05,
          1583.8,
          1575.95,
          1566.1,
          1567.65,
          1571.98,
          1574.85,
          1574.85,
          1566.35,
          1556,
          1549.45,
          1576.95,
          1589.65,
          1589.65,
          1574.45,
          1577.03,
          1567.25,
          1581.65,
          1571.85,
          1571.85,
          1562.9,
          1558.65,
          1558.05,
          1560.55,
          1557.3,
          1557.3,
          1557.3,
          1552.65,
          1556.25,
          1546.55,
          1548.25,
          1562.34,
          1562.34,
          1552.64,
          1556.55,
          1574.35,
          1565.91,
          1552.35,
          1528.85
         ],
         "high": [
          1949.05,
          1937.95,
          1928.85,
          1958,
          1958.4,
          1964,
          1965.5,
          1947.99,
          1938.05,
          1939.83,
          1929,
          1945.05,
          1949.4,
          1929.4,
          1954.6,
          1981,
          1989.44,
          1998.75,
          2009.2,
          2059,
          2070.13,
          2002.25,
          1974.5,
          1940.95,
          1947.25,
          1950,
          1919.2,
          1889.28,
          1889.28,
          1920.9,
          1973.45,
          1910.5,
          1913.98,
          1907.7,
          1895.48,
          1902.45,
          1901.15,
          1872.2,
          1879.19,
          1873.54,
          1843.5,
          1865.1,
          1841.5,
          1835.47,
          1828.5,
          1823.09,
          1809.6,
          1807,
          1814.5,
          1808.6,
          1810.65,
          1808.5,
          1799.65,
          1796,
          1799.25,
          1822.15,
          1850.1,
          1853.3,
          1844.03,
          1833.63,
          1833.63,
          1842.95,
          1847.75,
          1843.15,
          1822.42,
          1823.1,
          1817.7,
          1829.1,
          1827.9,
          1827.75,
          1822.8,
          1802.35,
          1798.5,
          1811.3,
          1829.15,
          1815.99,
          1829.05,
          1829.05,
          1827.45,
          1816.9,
          1807.65,
          1819.85,
          1813.1,
          1802.93,
          1812.7,
          1810.5,
          1804.65,
          1799.9,
          1803.8,
          1797.95,
          1797.95,
          1813.9,
          1799.5,
          1780.7,
          1789.55,
          1791.1,
          1782.7,
          1782.7,
          1787.7,
          1787.24,
          1792.72,
          1787.55,
          1787.25,
          1783.35,
          1783.35,
          1785.95,
          1782.9,
          1791.7,
          1808.45,
          1799.35,
          1792.6,
          1814.7,
          1794.8,
          1796.35,
          1811.79,
          1848.8,
          1845.8,
          1845.8,
          1865.11,
          1870.9,
          1867.9,
          1876.43,
          1869.4,
          1864.9,
          1868.11,
          1865.85,
          1859.75,
          1832.6,
          1826.15,
          1817.73,
          1817.73,
          1818.25,
          1798.8,
          1787.38,
          1796,
          1795.5,
          1782.25,
          1769.5,
          1801.15,
          1809.67,
          1798.7,
          1807.89,
          1809.69,
          1813.39,
          1788.99,
          1788.09,
          1784.89,
          1771.69,
          1767.59,
          1796.44,
          1799.99,
          1795.57,
          1769.09,
          1760.89,
          1756.64,
          1780.79,
          1766.69,
          1764.79,
          1769.24,
          1770.44,
          1760.54,
          1763.37,
          1763.7,
          1745.49,
          1754.1,
          1760.39,
          1750.34,
          1750.34,
          1757.19,
          1775.99,
          1786.69,
          1781.49,
          1766.89,
          1754.49,
          1767.29,
          1796.14,
          1806.49,
          1808.49,
          1797.79,
          1789.27,
          1789.27,
          1803.64,
          1800.45,
          1801.94,
          1822.77,
          1827.19,
          1827.19,
          1827.19,
          1833.49,
          1817.09,
          1819.67,
          1818.89,
          1822.67,
          1818.94,
          1797.89,
          1802.89,
          1809.14,
          1805.99,
          1793.19,
          1788.09,
          1791.39,
          1793.49,
          1795.29,
          1789.04,
          1780.09,
          1757.87,
          1754.15,
          1738.24,
          1762.24,
          1763.09,
          1763.09,
          1804.84,
          1814.79,
          1831.54,
          1814.79,
          1819.44,
          1787.19,
          1787.19,
          1831.29,
          1832.69,
          1809.39,
          1804.89,
          1811.34,
          1802.34,
          1802.34,
          1809.97,
          1807.84,
          1813.46,
          1824.79,
          1817.09,
          1831.59,
          1833.34,
          1829.69,
          1816.79,
          1810.74,
          1812.07,
          1817.89,
          1809.27,
          1814.89,
          1793.79,
          1785.49,
          1794.94,
          1782.39,
          1774.19,
          1778.69,
          1785.74,
          1771.69,
          1789.99,
          1787.79,
          1794.49,
          1789.94,
          1786.09,
          1795.29,
          1824.99,
          1861.39,
          1868.94,
          1877.79,
          1877.64,
          1877.64,
          1902.44,
          1899.59,
          1898.47,
          1902.99,
          1899.9,
          1890.97,
          1890.97,
          1895.39,
          1909.29,
          1908.69,
          1916.29,
          1910.24,
          1909.49,
          1909.49,
          1902.97,
          1912.34,
          1900.29,
          1887.04,
          1881.3,
          1888.99,
          1883.57,
          1889.54,
          1874.47,
          1868.34,
          1844.16,
          1828.19,
          1843.17,
          1841.39,
          1844.89,
          1840.69,
          1840.69,
          1842.59,
          1817.39,
          1787.99,
          1798.59,
          1797.09,
          1808.41,
          1807.4,
          1773.6,
          1790,
          1782.5,
          1785.29,
          1783.5,
          1794.89,
          1797.9,
          1797.55,
          1780.3,
          1789.9,
          1783,
          1782.5,
          1783.19,
          1769.45,
          1749,
          1748.5,
          1744.6,
          1744.1,
          1744.1,
          1756.9,
          1758.7,
          1744.09,
          1745.2,
          1733.2,
          1729.8,
          1729.8,
          1729.95,
          1714.6,
          1714.15,
          1732.8,
          1720.5,
          1736.5,
          1745.1,
          1737.8,
          1742.35,
          1743.05,
          1746.55,
          1749.6,
          1749.6,
          1755,
          1751.05,
          1740.5,
          1734.35,
          1730.15,
          1728.65,
          1739.85,
          1726.72,
          1720.1,
          1713.99,
          1700.8,
          1700.8,
          1707.25,
          1722.75,
          1740.45,
          1739.05,
          1759.5,
          1734.4,
          1775.7,
          1804.3,
          1813.3,
          1815.55,
          1812.2,
          1794.4,
          1790.57,
          1788.7,
          1794.88,
          1826.25,
          1826.9,
          1822.43,
          1822.43,
          1829.6,
          1847.6,
          1855.03,
          1848.29,
          1838.52,
          1810.8,
          1814.7,
          1834.8,
          1844.9,
          1863.7,
          1871,
          1874,
          1875.14,
          1863.65,
          1853.1,
          1861.7,
          1867.75,
          1863,
          1870.85,
          1875.05,
          1871.75,
          1845.35,
          1840.4,
          1827.5,
          1856.45,
          1856.75,
          1862.54,
          1863.5,
          1855.75,
          1848.88,
          1917.5,
          1927.5,
          1958.9,
          1952.6,
          1944.18,
          1898.66,
          1899.5,
          1894.7,
          1886.2,
          1899.8,
          1908.7,
          1908.7,
          1880.45,
          1877.5,
          1884.25,
          1906.4,
          1867.47,
          1889.25,
          1895.7,
          1865.35,
          1855.05,
          1838.1,
          1847.25,
          1849.75,
          1870.6,
          1874.8,
          1868.26,
          1847.75,
          1843.8,
          1832,
          1816.9,
          1789.75,
          1789.8,
          1811.45,
          1817.7,
          1817.6,
          1838.7,
          1876.15,
          1870.14,
          1870.14,
          1879.42,
          1873.95,
          1884.4,
          1893.2,
          1898.95,
          1896.2,
          1883.39,
          1884.2,
          1890.05,
          1965.5,
          1959,
          1960.4,
          1952.5,
          1916.3,
          1910.21,
          1895.7,
          1878.95,
          1878.95,
          1889.3,
          1885.05,
          1910.55,
          1911.05,
          1908.1,
          1907,
          1913.95,
          1925.9,
          1931.2,
          1914.1,
          1917.75,
          1899.4,
          1913.5,
          1908.85,
          1912.55,
          1925.35,
          1932.95,
          1930.43,
          1930.43,
          1930.5,
          1899.7,
          1898,
          1920.5,
          1918.1,
          1899.7,
          1916.8,
          1911.3,
          1901.82,
          1898.85,
          1883.05,
          1861.05,
          1861.05,
          1874.75,
          1876.78,
          1904.9,
          1919.59,
          1955.6,
          1962,
          1962,
          1960,
          1960.95,
          1973.03,
          1972,
          1962.14,
          1940.4,
          1940.4,
          1954.35,
          1966.2,
          1950.6,
          1940.5,
          1941.25,
          1933.83,
          1941.45,
          1951,
          1973.25,
          1992.15,
          1976.05,
          1964.95,
          1973.1,
          1976.5,
          1954.3,
          1937.5,
          1961.4,
          1947.5,
          1955.55,
          1954.91,
          2006.55,
          2014.7,
          1990.5,
          1948.35,
          1945.35,
          1962.65,
          1965.75,
          1948.4,
          2029.75,
          2049.7,
          2035.99,
          2035.99,
          2072.9,
          2069.1,
          2055.48,
          2019.5,
          1984.7,
          1975.9,
          1975.9,
          1978,
          1971.65,
          1979.78,
          1980.55,
          1945.1,
          1901.65,
          1901.65,
          1906.4,
          1897.89,
          1872.53,
          1843.35,
          1820.4,
          1809.9,
          1809.9,
          1811.47,
          1813.5,
          1813.95,
          1810.65,
          1813.15,
          1799.3,
          1799.3,
          1810.5,
          1816,
          1817.45,
          1797.15,
          1786.9,
          1784.5,
          1777,
          1779.6,
          1788.66,
          1785.85,
          1774.8,
          1771.05,
          1771.05,
          1771.65,
          1768.42,
          1778.7,
          1770.8,
          1762.03,
          1743.95,
          1743.95,
          1744.5,
          1736,
          1729.1,
          1732.01,
          1733.8,
          1730.8,
          1730.8,
          1742.66,
          1744.6,
          1739.03,
          1720.75,
          1700.25,
          1683.65,
          1683.65,
          1716.35,
          1720.6,
          1731.99,
          1744.35,
          1744.55,
          1730.35,
          1736.79,
          1726.83,
          1715.35,
          1735.05,
          1733.15,
          1736.69,
          1736.69,
          1739.7,
          1748.7,
          1753.5,
          1747.2,
          1764.75,
          1743.55,
          1751,
          1735.5,
          1717.66,
          1710.03,
          1712.35,
          1702.65,
          1702.65,
          1722.56,
          1721.57,
          1708.6,
          1711.61,
          1712.14,
          1705.15,
          1720.4,
          1716.3,
          1714.78,
          1725.87,
          1734.6,
          1736,
          1738.6,
          1719,
          1697.3,
          1702.5,
          1717.45,
          1738.1,
          1731.1,
          1746.7,
          1723.65,
          1697.5,
          1690.3,
          1656.65,
          1673.4,
          1668.85,
          1618.45,
          1625.1,
          1619.55,
          1601.15,
          1622.5,
          1631.95,
          1622,
          1632.3,
          1643.55,
          1637.5,
          1634.65,
          1566.3,
          1508.25,
          1516.05,
          1495.65,
          1543.45,
          1552.55,
          1560.75,
          1597.35,
          1649.75,
          1670.85,
          1671.1,
          1702.95,
          1697.4,
          1691.5,
          1674.2,
          1649.75,
          1648.95,
          1610.8,
          1649.35,
          1660.35,
          1654.9,
          1658.55,
          1688.7,
          1643.45,
          1649.1,
          1623.45,
          1612.9,
          1605.1,
          1583.8,
          1585.05,
          1578.2,
          1570.45,
          1573.9,
          1576.9,
          1574.85,
          1574.85,
          1567.45,
          1562.35,
          1579.5,
          1591.75,
          1589.65,
          1590.5,
          1586,
          1577.9,
          1582.95,
          1586,
          1571.85,
          1575.7,
          1567.9,
          1559.3,
          1568.65,
          1562.8,
          1557.3,
          1557.3,
          1561.25,
          1558.05,
          1558.05,
          1548.95,
          1560.65,
          1562.34,
          1563.2,
          1561.3,
          1611,
          1577,
          1579.5,
          1553,
          1531.3
         ],
         "low": [
          1919.5,
          1916.05,
          1890.45,
          1917.35,
          1958.4,
          1944.32,
          1937.59,
          1915.7,
          1911.2,
          1918.39,
          1918.8,
          1918.35,
          1925.4,
          1895.75,
          1907.2,
          1950.45,
          1972.85,
          1959.65,
          1971.35,
          1978.35,
          1982.5,
          1961.25,
          1930.17,
          1922.11,
          1915.1,
          1901.3,
          1891.09,
          1889.28,
          1889.28,
          1883.25,
          1881.4,
          1889.62,
          1893.49,
          1887.7,
          1895.48,
          1886.55,
          1867.59,
          1850.32,
          1844.84,
          1851,
          1843.5,
          1821.6,
          1822.4,
          1824.82,
          1815.48,
          1808.2,
          1806.82,
          1806.82,
          1792.5,
          1788.9,
          1794.6,
          1795.5,
          1785.4,
          1796,
          1780.3,
          1791.58,
          1815.6,
          1834.9,
          1829.49,
          1833.63,
          1833.63,
          1828.42,
          1836.3,
          1810.35,
          1806.09,
          1813.07,
          1817.7,
          1814.6,
          1812.2,
          1814.8,
          1800.45,
          1790.5,
          1783.93,
          1786.4,
          1808.39,
          1799.3,
          1798.3,
          1829.05,
          1814.6,
          1796.34,
          1789.33,
          1804.79,
          1802.93,
          1802.93,
          1802.93,
          1799.5,
          1786,
          1785.02,
          1788.18,
          1797.95,
          1797.95,
          1796,
          1775.9,
          1756.05,
          1766.9,
          1782.15,
          1782.7,
          1782.7,
          1769.9,
          1773.87,
          1779.9,
          1772.7,
          1776.35,
          1783.35,
          1783.35,
          1766,
          1762.19,
          1772.3,
          1769.7,
          1781.6,
          1792.6,
          1783.5,
          1786.21,
          1778.8,
          1782,
          1802.6,
          1845.8,
          1845.8,
          1843.55,
          1855.6,
          1849.75,
          1849.46,
          1856.2,
          1864.9,
          1845.2,
          1843.1,
          1822.79,
          1819.02,
          1812.52,
          1817.73,
          1817.73,
          1785.95,
          1770.8,
          1758.63,
          1786.2,
          1779.1,
          1780.4,
          1769.5,
          1772.1,
          1792.5,
          1783.39,
          1782.59,
          1792.29,
          1782.79,
          1776.49,
          1766.72,
          1762.69,
          1760.17,
          1767.59,
          1764.69,
          1786.59,
          1758.69,
          1750.89,
          1750.29,
          1756.64,
          1753.27,
          1751.99,
          1745.84,
          1749.13,
          1747.67,
          1760.54,
          1749.77,
          1722.07,
          1721.49,
          1727.99,
          1745.19,
          1750.34,
          1750.34,
          1740.59,
          1738.47,
          1765.55,
          1757.98,
          1742.94,
          1754.49,
          1747.49,
          1745.64,
          1790.69,
          1782.34,
          1785.69,
          1789.27,
          1789.27,
          1789.27,
          1784.69,
          1782.49,
          1792.9,
          1821.17,
          1827.19,
          1827.19,
          1808.69,
          1804.85,
          1808.59,
          1801.89,
          1807.69,
          1788.47,
          1779.97,
          1783.4,
          1800.49,
          1776.39,
          1787.59,
          1778.37,
          1774.29,
          1777.39,
          1780.69,
          1770.87,
          1751.67,
          1741.99,
          1723.92,
          1717.57,
          1710.39,
          1763.09,
          1763.09,
          1758.79,
          1798.44,
          1806.74,
          1807.49,
          1805.49,
          1787.19,
          1787.19,
          1809.99,
          1807.19,
          1793.64,
          1793.48,
          1796.09,
          1802.34,
          1802.34,
          1790.98,
          1793.07,
          1794.59,
          1805.59,
          1795.07,
          1808.89,
          1820.49,
          1804.39,
          1798.99,
          1791.49,
          1796.79,
          1794.69,
          1793.89,
          1790.35,
          1784.29,
          1780.59,
          1774.29,
          1765.89,
          1753.19,
          1751.22,
          1770.89,
          1771.69,
          1773.67,
          1773.03,
          1773.59,
          1772.27,
          1766.84,
          1761.54,
          1767.29,
          1807.33,
          1851.69,
          1844.99,
          1877.64,
          1877.64,
          1874.49,
          1870.88,
          1887.07,
          1883.89,
          1881.43,
          1890.97,
          1890.97,
          1858.84,
          1865.39,
          1894.49,
          1892.77,
          1901.89,
          1909.29,
          1882.23,
          1888.79,
          1890.79,
          1872.94,
          1875.79,
          1881.3,
          1870.39,
          1863.78,
          1852.19,
          1863.19,
          1843.74,
          1820.49,
          1809.44,
          1813.27,
          1818.29,
          1830.19,
          1840.69,
          1840.69,
          1813.24,
          1782.07,
          1770.57,
          1772.69,
          1767.37,
          1787.05,
          1807.4,
          1764.1,
          1757.3,
          1763,
          1773.9,
          1769.15,
          1770.97,
          1777.2,
          1776.18,
          1763.66,
          1766.59,
          1779.5,
          1782.5,
          1759.95,
          1734.5,
          1732.7,
          1723.67,
          1727.6,
          1744.1,
          1744.1,
          1731.5,
          1733.4,
          1730.5,
          1727.01,
          1721.4,
          1729.8,
          1729.8,
          1705.9,
          1678.05,
          1679.25,
          1706,
          1720.5,
          1721.6,
          1722.58,
          1724.45,
          1724.7,
          1727.55,
          1739.5,
          1749.6,
          1728.42,
          1719.43,
          1724.69,
          1726.18,
          1721.99,
          1725.76,
          1699.45,
          1719.8,
          1708.3,
          1680.09,
          1677.1,
          1700.8,
          1700.8,
          1687.4,
          1690.7,
          1702.4,
          1707.7,
          1719.94,
          1734.4,
          1717.85,
          1768.1,
          1783.59,
          1796.55,
          1780.95,
          1794.4,
          1760.49,
          1768.4,
          1769.8,
          1789.42,
          1816.19,
          1822.43,
          1822.43,
          1811,
          1821,
          1834.25,
          1828.93,
          1807.81,
          1810.8,
          1792.4,
          1785.85,
          1830.69,
          1829.8,
          1849.38,
          1874,
          1840.1,
          1834.2,
          1831.95,
          1849.02,
          1847.6,
          1852.75,
          1837.69,
          1859.18,
          1834.39,
          1833.75,
          1810.9,
          1827.5,
          1823.59,
          1832.85,
          1843.8,
          1837.79,
          1819.3,
          1848.88,
          1829.5,
          1907.55,
          1900.84,
          1934.45,
          1918.54,
          1898.66,
          1885.35,
          1876.24,
          1872.66,
          1869.84,
          1908.7,
          1908.7,
          1855.33,
          1858.65,
          1859.1,
          1866.5,
          1862.5,
          1877.39,
          1862.2,
          1845.31,
          1825.6,
          1820.35,
          1824.79,
          1829.3,
          1826.03,
          1860.35,
          1824.8,
          1830.25,
          1824,
          1807.6,
          1775.85,
          1764.9,
          1789.8,
          1774.75,
          1806.7,
          1801.7,
          1801.01,
          1831.19,
          1870.14,
          1870.14,
          1861.05,
          1852.83,
          1865.25,
          1877.1,
          1881.3,
          1873.99,
          1862.8,
          1856.3,
          1861,
          1851.05,
          1958.2,
          1935.8,
          1903,
          1885,
          1887.22,
          1873.65,
          1878.95,
          1878.95,
          1865.09,
          1859.92,
          1870.3,
          1898.1,
          1895.1,
          1895.85,
          1895,
          1895.15,
          1908.65,
          1895.1,
          1897.15,
          1899.4,
          1897.9,
          1889.85,
          1883.3,
          1887.39,
          1918.6,
          1930.43,
          1930.43,
          1893.52,
          1882.3,
          1873.35,
          1875.05,
          1887.2,
          1899.7,
          1889.79,
          1884.89,
          1881.59,
          1876.08,
          1850.2,
          1855.5,
          1861.05,
          1853.3,
          1848.99,
          1856.11,
          1895.1,
          1884.09,
          1962,
          1962,
          1944.25,
          1932.9,
          1950.2,
          1948.6,
          1937.55,
          1940.4,
          1940.4,
          1938.2,
          1941.65,
          1920.29,
          1906.7,
          1925.41,
          1933.83,
          1916.8,
          1922.9,
          1933.5,
          1964.19,
          1954.7,
          1964.95,
          1923.8,
          1912.2,
          1903.35,
          1914.85,
          1924.25,
          1940.22,
          1912.65,
          1925.15,
          1924.75,
          1977.15,
          1930.35,
          1945.35,
          1945.35,
          1934.05,
          1912.7,
          1866.4,
          1902.65,
          2020.2,
          2035.99,
          2035.99,
          2016.1,
          2035.25,
          2010.1,
          1969.35,
          1960.85,
          1975.9,
          1975.9,
          1955.55,
          1939.79,
          1945.2,
          1908.4,
          1903.45,
          1901.65,
          1901.65,
          1882.1,
          1864.28,
          1841.2,
          1815.85,
          1806,
          1809.9,
          1809.9,
          1796.15,
          1795.11,
          1803.05,
          1791.9,
          1798.25,
          1799.3,
          1799.3,
          1794.2,
          1796.25,
          1791.39,
          1773.8,
          1770.5,
          1784.5,
          1772.8,
          1757.32,
          1759.4,
          1765.4,
          1765.7,
          1771.05,
          1771.05,
          1747.64,
          1755.61,
          1760.78,
          1747.2,
          1742.71,
          1743.95,
          1743.95,
          1721.03,
          1717.14,
          1713.1,
          1716.99,
          1704.12,
          1730.8,
          1730.8,
          1722.29,
          1721.1,
          1710.7,
          1691.8,
          1677.86,
          1683.65,
          1683.65,
          1670.3,
          1697,
          1689.13,
          1721.59,
          1728.55,
          1730.35,
          1712.65,
          1708.05,
          1693.9,
          1708.7,
          1722.09,
          1736.69,
          1736.69,
          1724.43,
          1717.69,
          1742.3,
          1726.17,
          1728.04,
          1743.55,
          1728.52,
          1711.1,
          1699.4,
          1693.7,
          1692.19,
          1702.65,
          1702.65,
          1701.61,
          1684.4,
          1683.08,
          1691.92,
          1692.7,
          1670.53,
          1681.37,
          1698.65,
          1692.88,
          1706.45,
          1734.41,
          1710.94,
          1707.43,
          1680.95,
          1662.19,
          1672.55,
          1680.02,
          1708.2,
          1708.1,
          1709.1,
          1679.8,
          1696.9,
          1644.3,
          1643.15,
          1643.6,
          1609.45,
          1618.45,
          1607.15,
          1581.05,
          1570.45,
          1570.25,
          1611.4,
          1615,
          1614.75,
          1599.2,
          1600,
          1561,
          1485.3,
          1485.55,
          1466.05,
          1463,
          1473.3,
          1466,
          1451.75,
          1504.9,
          1561.8,
          1633.85,
          1643.3,
          1658.8,
          1697.4,
          1647.95,
          1635.6,
          1632.55,
          1589.85,
          1575.75,
          1565.35,
          1635.75,
          1626.15,
          1629.1,
          1651.35,
          1643.45,
          1619.1,
          1604.1,
          1599.6,
          1583.7,
          1578.95,
          1573.2,
          1565.75,
          1562.2,
          1562.3,
          1568.2,
          1574.85,
          1561.9,
          1552.75,
          1547.65,
          1549.3,
          1570.7,
          1589.65,
          1571.1,
          1572.75,
          1563.5,
          1565.7,
          1576.05,
          1571.85,
          1556.65,
          1552.15,
          1550.55,
          1546.5,
          1556.45,
          1557.3,
          1557.3,
          1549.75,
          1548.35,
          1546.55,
          1536.4,
          1547.1,
          1562.34,
          1545.8,
          1540.35,
          1552.7,
          1555.65,
          1561,
          1528.1,
          1517.9
         ],
         "open": [
          1933.45,
          1920.7,
          1922.75,
          1956.05,
          1958.4,
          1958.4,
          1945.95,
          1920.35,
          1935.8,
          1919.8,
          1929,
          1942.1,
          1926.45,
          1916.8,
          1951.4,
          1979.35,
          1985.65,
          1997.65,
          1991.3,
          2051,
          1997.75,
          1982.25,
          1936.8,
          1928.55,
          1943.5,
          1908.25,
          1906.25,
          1889.28,
          1889.28,
          1907.65,
          1910.25,
          1898.9,
          1911.8,
          1895.48,
          1895.48,
          1898.9,
          1869.85,
          1854.05,
          1870.85,
          1860,
          1843.5,
          1827.02,
          1833,
          1825.85,
          1821.4,
          1808.2,
          1806.82,
          1807,
          1804.95,
          1806.98,
          1800.89,
          1797.85,
          1789.35,
          1796,
          1797.2,
          1819.85,
          1847.65,
          1842.85,
          1833.4,
          1833.63,
          1833.63,
          1839.1,
          1840.05,
          1814.25,
          1818.48,
          1817.5,
          1817.7,
          1821.5,
          1825.71,
          1820.75,
          1800.45,
          1795.15,
          1791.3,
          1810.4,
          1813.88,
          1802.8,
          1829.05,
          1829.05,
          1815.45,
          1804.3,
          1806.34,
          1811.95,
          1802.93,
          1802.93,
          1808.8,
          1803.4,
          1789.15,
          1791.05,
          1800.85,
          1797.95,
          1797.95,
          1798.55,
          1778.82,
          1771.35,
          1786.3,
          1782.7,
          1782.7,
          1782.7,
          1776,
          1783.1,
          1784.85,
          1779.2,
          1782,
          1783.35,
          1783.35,
          1769.5,
          1781.9,
          1775.95,
          1785.25,
          1788.6,
          1792.6,
          1789.54,
          1788.3,
          1789.11,
          1808.45,
          1844.09,
          1845.8,
          1845.8,
          1859.3,
          1866.45,
          1849.85,
          1862.25,
          1864.9,
          1864.9,
          1861.9,
          1848.85,
          1831.85,
          1824.3,
          1815.85,
          1817.73,
          1817.73,
          1791.7,
          1773.7,
          1786.78,
          1791.38,
          1780.59,
          1781.35,
          0,
          1799.5,
          1796.29,
          1792.67,
          1807.19,
          1792.79,
          1783.17,
          1782.59,
          1769.29,
          1764.99,
          1767.59,
          1767.59,
          1795.87,
          1792.69,
          1760.49,
          1753.94,
          1756.64,
          1756.64,
          1755.84,
          1762.89,
          1759.89,
          1768.37,
          1760.99,
          1760.54,
          1755.67,
          1726.97,
          1734.14,
          1750.42,
          1749.67,
          1750.34,
          1750.34,
          1744.78,
          1768.64,
          1775.09,
          1764.29,
          1754.89,
          1754.49,
          1753.64,
          1794.08,
          1803.89,
          1793.59,
          1789.27,
          1789.27,
          1789.27,
          1793.99,
          1789.69,
          1795.09,
          1822.77,
          1827.19,
          1827.19,
          1827.19,
          1809.39,
          1814.04,
          1814.27,
          1809.94,
          1818.49,
          1792.69,
          1790.79,
          1802.49,
          1805.19,
          1779.07,
          1787.59,
          1779.79,
          1787.39,
          1785.99,
          1786.89,
          1779.04,
          1752.89,
          1751.29,
          1729.59,
          1729.04,
          1762.24,
          1763.09,
          1763.09,
          1804.84,
          1812.14,
          1810.19,
          1813.18,
          1813.69,
          0,
          0,
          1829.09,
          1807.39,
          1800.39,
          1797.77,
          1802.44,
          1802.34,
          1802.34,
          1807.14,
          1803.69,
          1810.39,
          1812.47,
          1811.34,
          1829.37,
          1827.49,
          1807.77,
          1806.19,
          1807.89,
          1803.04,
          1803.69,
          1796.49,
          1791.77,
          1787.29,
          1780.59,
          1776.39,
          1770.09,
          1762.09,
          1778.39,
          1782.54,
          1771.69,
          1776.39,
          1778.69,
          1779.79,
          1784.14,
          1769.09,
          1775.69,
          1812.32,
          1859.07,
          1866.29,
          1876.34,
          1877.64,
          1877.64,
          1897.99,
          1888.69,
          1891.84,
          1899.09,
          1889.84,
          1890.97,
          1890.97,
          1871.34,
          1908.37,
          1899.69,
          1907.29,
          1903.54,
          1909.49,
          1897.37,
          1895.99,
          1898.69,
          1880.59,
          1880.69,
          1881.3,
          1877.89,
          1869.79,
          1869.19,
          1866.59,
          1844.89,
          1826.86,
          1814.79,
          1836.78,
          1836.09,
          1831.97,
          0,
          0,
          1814.29,
          1786.49,
          1778.49,
          1792.49,
          1767.47,
          1808.4,
          1808.4,
          1771.8,
          1782.15,
          1777.1,
          1781.45,
          1775.6,
          1784.3,
          1793.95,
          1778.15,
          1770.95,
          1775.6,
          1782.5,
          1782.5,
          1764.35,
          1736,
          1745.65,
          1733.45,
          1742.3,
          1744.1,
          1744.1,
          1755.9,
          1737.29,
          1743.2,
          1728.54,
          1729.8,
          1729.8,
          1729.8,
          1707.3,
          1684.75,
          1712.45,
          1732.35,
          0,
          1727.4,
          1734.18,
          1727.45,
          1739.7,
          1739.8,
          1746.55,
          1749.6,
          1734,
          1747.48,
          1732.25,
          1730.65,
          1726.95,
          1729.5,
          1721.8,
          1726.6,
          1715.4,
          1684.9,
          1707.2,
          1700.8,
          1700.8,
          1696.55,
          1711.4,
          1738.3,
          1723.45,
          1739.45,
          1734.4,
          1772.05,
          1803.25,
          1806.7,
          1810,
          1787.4,
          1794.4,
          1776.5,
          1776.6,
          1792.4,
          1819.65,
          1822.43,
          1822.43,
          1822.43,
          1826.55,
          1844.1,
          1838.75,
          1830.8,
          1810.8,
          1810.8,
          1795.35,
          1834.35,
          1837.4,
          1859.5,
          1854.35,
          0,
          1843.1,
          1843.05,
          1851.3,
          1855.2,
          1857.95,
          1863,
          1869.9,
          1871.2,
          1840.7,
          1838.44,
          1826,
          1827.5,
          1848,
          1847.7,
          1855.3,
          1847.3,
          1855.75,
          1848.88,
          1915.6,
          1921.3,
          1951.1,
          1941.35,
          1919,
          1898.66,
          1893.75,
          1877.35,
          1874.2,
          1888.25,
          1909.7,
          0,
          1873.2,
          1861.1,
          1878.95,
          1884.15,
          1862.5,
          1884.35,
          1863.8,
          1854.1,
          1828.45,
          1837.3,
          1837.1,
          1838.45,
          1869.6,
          1863.15,
          1837.25,
          1841.3,
          1829.7,
          1812.75,
          1777.15,
          1789.75,
          1789.8,
          1811,
          1808.7,
          1808.25,
          1838.7,
          1871.1,
          1870.14,
          1870.14,
          1861.55,
          1873.86,
          1881.9,
          1889.45,
          1888.2,
          1877.15,
          1866.9,
          1874.5,
          1861,
          1956.35,
          1959,
          1947.05,
          1903.75,
          1909.25,
          1895.25,
          1879.1,
          1878.95,
          1878.95,
          1867.95,
          1877.45,
          1905.55,
          1902.55,
          1895.35,
          1907,
          1905.2,
          1924.9,
          1910.25,
          1903.75,
          1900.25,
          1899.4,
          1908.9,
          1901.95,
          1893.4,
          1924.05,
          1927.2,
          1930.43,
          1930.43,
          1894.35,
          1887.7,
          1877.35,
          1912.15,
          1903.7,
          1899.7,
          1905.1,
          1887.5,
          1897.75,
          1881.05,
          1864.7,
          1861.05,
          1861.05,
          1869.85,
          1864.25,
          1901.15,
          1914.58,
          1947.75,
          0,
          0,
          1944.25,
          1959.55,
          1954.7,
          1957.5,
          1937.8,
          1940.4,
          1940.4,
          1946.54,
          1946.35,
          1932.51,
          1929.8,
          1932.8,
          1933.83,
          1930.3,
          1942.41,
          1969.22,
          1968.65,
          1969.45,
          1964.95,
          1930,
          1952.15,
          1928.15,
          1930.25,
          1935.75,
          1940.22,
          1948.55,
          1931.3,
          2004.9,
          1983.35,
          1944.75,
          1945.35,
          1945.35,
          1951.9,
          1919.1,
          1917.8,
          2027.25,
          2028.25,
          2035.99,
          2035.99,
          2067.3,
          2040.05,
          2021.45,
          1977.7,
          1981.1,
          1975.9,
          1975.9,
          1955.7,
          1970.65,
          1959.6,
          1944.25,
          1903.45,
          1901.65,
          1901.65,
          1889.85,
          1872.53,
          1841.4,
          1818.3,
          1808.35,
          1809.9,
          1809.9,
          1798.35,
          1811.4,
          1808.6,
          1802.7,
          1800.1,
          1799.3,
          1799.3,
          1803.51,
          1809.7,
          1794.41,
          1785.5,
          1774.35,
          0,
          1775.9,
          1772.35,
          1781.4,
          1772.5,
          1771.1,
          1771.05,
          1771.05,
          1764.75,
          1760.2,
          1769.4,
          1754.55,
          1747.35,
          1743.95,
          1743.95,
          1723.55,
          1726.15,
          1725.62,
          1726.76,
          1730.55,
          1730.8,
          1730.8,
          1729.15,
          1737.82,
          1716.1,
          1700.5,
          1681.5,
          1683.65,
          1683.65,
          1714.75,
          1699.7,
          1728,
          1737.5,
          1735.62,
          1730.35,
          1719.07,
          1708.8,
          1711.5,
          1727.15,
          1732.4,
          1736.69,
          1736.69,
          1726.45,
          1747.8,
          1745.62,
          1732.45,
          1747.8,
          1743.55,
          1730.3,
          1715.18,
          1703.9,
          1696.9,
          1702.55,
          1702.65,
          1702.65,
          1716.05,
          1687.7,
          1705.55,
          1701.7,
          1698.95,
          1686.78,
          1711.58,
          1707.75,
          1714.25,
          1722.1,
          1734.6,
          1731.55,
          1714.75,
          1686,
          1695.3,
          1683.05,
          1711.55,
          1715.7,
          1728.85,
          1715.18,
          1691.25,
          1697.5,
          1644.75,
          1648.35,
          1666.65,
          1614.8,
          1618.45,
          1615.6,
          1592.25,
          1573.3,
          1622.4,
          1621.85,
          1620.75,
          1630.6,
          1612.95,
          1630.85,
          1563.5,
          1491,
          1504,
          1468.2,
          1485.25,
          1538.7,
          1511.95,
          1558.9,
          1576.8,
          1639.75,
          1652.9,
          1669.45,
          1692.8,
          0,
          1672.38,
          1637.4,
          1642.55,
          1590.9,
          1583.3,
          1641.85,
          1641.45,
          1638.6,
          1658.3,
          1664.4,
          1643.45,
          1619.9,
          1611.83,
          1601.2,
          1583.9,
          1581.4,
          1576.2,
          1566.5,
          1567.75,
          1572.35,
          1569.25,
          1574.85,
          1565.9,
          1554.8,
          1553.45,
          1578.35,
          1589.35,
          1589.65,
          1575.35,
          1575.45,
          1569.1,
          1580.7,
          1581.3,
          1571.85,
          1562.4,
          1558.65,
          1557.7,
          1560.95,
          1558.7,
          1557.3,
          1557.3,
          1552.45,
          1555.5,
          1546.7,
          1548.6,
          1560.15,
          1562.34,
          1553.3,
          1555.35,
          1578.05,
          1564.75,
          1569.3,
          1528.5,
          1519.95
         ],
         "type": "ohlc",
         "x": [
          "2022-03-31T00:00:00",
          "2022-03-30T00:00:00",
          "2022-03-29T00:00:00",
          "2022-03-28T00:00:00",
          "2022-03-27T00:00:00",
          "2022-03-25T00:00:00",
          "2022-03-24T00:00:00",
          "2022-03-23T00:00:00",
          "2022-03-22T00:00:00",
          "2022-03-21T00:00:00",
          "2022-03-20T00:00:00",
          "2022-03-18T00:00:00",
          "2022-03-17T00:00:00",
          "2022-03-16T00:00:00",
          "2022-03-15T00:00:00",
          "2022-03-14T00:00:00",
          "2022-03-13T00:00:00",
          "2022-03-11T00:00:00",
          "2022-03-10T00:00:00",
          "2022-03-09T00:00:00",
          "2022-03-08T00:00:00",
          "2022-03-07T00:00:00",
          "2022-03-04T00:00:00",
          "2022-03-03T00:00:00",
          "2022-03-02T00:00:00",
          "2022-03-01T00:00:00",
          "2022-02-28T00:00:00",
          "2022-02-27T00:00:00",
          "2022-02-26T00:00:00",
          "2022-02-25T00:00:00",
          "2022-02-24T00:00:00",
          "2022-02-23T00:00:00",
          "2022-02-22T00:00:00",
          "2022-02-21T00:00:00",
          "2022-02-20T00:00:00",
          "2022-02-18T00:00:00",
          "2022-02-17T00:00:00",
          "2022-02-16T00:00:00",
          "2022-02-15T00:00:00",
          "2022-02-14T00:00:00",
          "2022-02-13T00:00:00",
          "2022-02-11T00:00:00",
          "2022-02-10T00:00:00",
          "2022-02-09T00:00:00",
          "2022-02-08T00:00:00",
          "2022-02-07T00:00:00",
          "2022-02-06T00:00:00",
          "2022-02-05T00:00:00",
          "2022-02-04T00:00:00",
          "2022-02-03T00:00:00",
          "2022-02-02T00:00:00",
          "2022-02-01T00:00:00",
          "2022-01-31T00:00:00",
          "2022-01-29T00:00:00",
          "2022-01-28T00:00:00",
          "2022-01-27T00:00:00",
          "2022-01-26T00:00:00",
          "2022-01-25T00:00:00",
          "2022-01-24T00:00:00",
          "2022-01-23T00:00:00",
          "2022-01-22T00:00:00",
          "2022-01-21T00:00:00",
          "2022-01-20T00:00:00",
          "2022-01-19T00:00:00",
          "2022-01-18T00:00:00",
          "2022-01-17T00:00:00",
          "2022-01-16T00:00:00",
          "2022-01-14T00:00:00",
          "2022-01-13T00:00:00",
          "2022-01-12T00:00:00",
          "2022-01-11T00:00:00",
          "2022-01-10T00:00:00",
          "2022-01-07T00:00:00",
          "2022-01-06T00:00:00",
          "2022-01-05T00:00:00",
          "2022-01-04T00:00:00",
          "2022-01-03T00:00:00",
          "2022-01-02T00:00:00",
          "2021-12-31T00:00:00",
          "2021-12-30T00:00:00",
          "2021-12-29T00:00:00",
          "2021-12-28T00:00:00",
          "2021-12-27T00:00:00",
          "2021-12-26T00:00:00",
          "2021-12-24T00:00:00",
          "2021-12-23T00:00:00",
          "2021-12-22T00:00:00",
          "2021-12-21T00:00:00",
          "2021-12-20T00:00:00",
          "2021-12-19T00:00:00",
          "2021-12-18T00:00:00",
          "2021-12-17T00:00:00",
          "2021-12-16T00:00:00",
          "2021-12-15T00:00:00",
          "2021-12-14T00:00:00",
          "2021-12-13T00:00:00",
          "2021-12-12T00:00:00",
          "2021-12-11T00:00:00",
          "2021-12-10T00:00:00",
          "2021-12-09T00:00:00",
          "2021-12-08T00:00:00",
          "2021-12-07T00:00:00",
          "2021-12-06T00:00:00",
          "2021-12-05T00:00:00",
          "2021-12-04T00:00:00",
          "2021-12-03T00:00:00",
          "2021-12-02T00:00:00",
          "2021-12-01T00:00:00",
          "2021-11-30T00:00:00",
          "2021-11-29T00:00:00",
          "2021-11-28T00:00:00",
          "2021-11-26T00:00:00",
          "2021-11-25T00:00:00",
          "2021-11-24T00:00:00",
          "2021-11-23T00:00:00",
          "2021-11-22T00:00:00",
          "2021-11-21T00:00:00",
          "2021-11-20T00:00:00",
          "2021-11-19T00:00:00",
          "2021-11-18T00:00:00",
          "2021-11-17T00:00:00",
          "2021-11-16T00:00:00",
          "2021-11-15T00:00:00",
          "2021-11-14T00:00:00",
          "2021-11-12T00:00:00",
          "2021-11-11T00:00:00",
          "2021-11-10T00:00:00",
          "2021-11-09T00:00:00",
          "2021-11-08T00:00:00",
          "2021-11-07T00:00:00",
          "2021-11-06T00:00:00",
          "2021-11-05T00:00:00",
          "2021-11-04T00:00:00",
          "2021-11-03T00:00:00",
          "2021-11-02T00:00:00",
          "2021-11-01T00:00:00",
          "2021-10-31T00:00:00",
          "2021-10-30T00:00:00",
          "2021-10-29T00:00:00",
          "2021-10-28T00:00:00",
          "2021-10-27T00:00:00",
          "2021-10-26T00:00:00",
          "2021-10-25T00:00:00",
          "2021-10-22T00:00:00",
          "2021-10-21T00:00:00",
          "2021-10-20T00:00:00",
          "2021-10-19T00:00:00",
          "2021-10-18T00:00:00",
          "2021-10-17T00:00:00",
          "2021-10-15T00:00:00",
          "2021-10-14T00:00:00",
          "2021-10-13T00:00:00",
          "2021-10-12T00:00:00",
          "2021-10-11T00:00:00",
          "2021-10-10T00:00:00",
          "2021-10-08T00:00:00",
          "2021-10-07T00:00:00",
          "2021-10-06T00:00:00",
          "2021-10-05T00:00:00",
          "2021-10-04T00:00:00",
          "2021-10-03T00:00:00",
          "2021-10-01T00:00:00",
          "2021-09-30T00:00:00",
          "2021-09-29T00:00:00",
          "2021-09-28T00:00:00",
          "2021-09-27T00:00:00",
          "2021-09-26T00:00:00",
          "2021-09-25T00:00:00",
          "2021-09-24T00:00:00",
          "2021-09-23T00:00:00",
          "2021-09-22T00:00:00",
          "2021-09-21T00:00:00",
          "2021-09-20T00:00:00",
          "2021-09-19T00:00:00",
          "2021-09-17T00:00:00",
          "2021-09-16T00:00:00",
          "2021-09-15T00:00:00",
          "2021-09-14T00:00:00",
          "2021-09-13T00:00:00",
          "2021-09-12T00:00:00",
          "2021-09-11T00:00:00",
          "2021-09-10T00:00:00",
          "2021-09-09T00:00:00",
          "2021-09-08T00:00:00",
          "2021-09-07T00:00:00",
          "2021-09-06T00:00:00",
          "2021-09-05T00:00:00",
          "2021-09-04T00:00:00",
          "2021-09-03T00:00:00",
          "2021-09-02T00:00:00",
          "2021-09-01T00:00:00",
          "2021-08-31T00:00:00",
          "2021-08-30T00:00:00",
          "2021-08-27T00:00:00",
          "2021-08-26T00:00:00",
          "2021-08-25T00:00:00",
          "2021-08-24T00:00:00",
          "2021-08-23T00:00:00",
          "2021-08-22T00:00:00",
          "2021-08-20T00:00:00",
          "2021-08-19T00:00:00",
          "2021-08-18T00:00:00",
          "2021-08-17T00:00:00",
          "2021-08-16T00:00:00",
          "2021-08-13T00:00:00",
          "2021-08-12T00:00:00",
          "2021-08-11T00:00:00",
          "2021-08-10T00:00:00",
          "2021-08-09T00:00:00",
          "2021-08-08T00:00:00",
          "2021-08-07T00:00:00",
          "2021-08-06T00:00:00",
          "2021-08-05T00:00:00",
          "2021-08-04T00:00:00",
          "2021-08-03T00:00:00",
          "2021-08-02T00:00:00",
          "2021-08-01T00:00:00",
          "2021-07-31T00:00:00",
          "2021-07-30T00:00:00",
          "2021-07-29T00:00:00",
          "2021-07-28T00:00:00",
          "2021-07-27T00:00:00",
          "2021-07-26T00:00:00",
          "2021-07-25T00:00:00",
          "2021-07-24T00:00:00",
          "2021-07-23T00:00:00",
          "2021-07-22T00:00:00",
          "2021-07-21T00:00:00",
          "2021-07-20T00:00:00",
          "2021-07-19T00:00:00",
          "2021-07-16T00:00:00",
          "2021-07-15T00:00:00",
          "2021-07-14T00:00:00",
          "2021-07-13T00:00:00",
          "2021-07-12T00:00:00",
          "2021-07-09T00:00:00",
          "2021-07-08T00:00:00",
          "2021-07-07T00:00:00",
          "2021-07-06T00:00:00",
          "2021-07-05T00:00:00",
          "2021-07-04T00:00:00",
          "2021-07-02T00:00:00",
          "2021-07-01T00:00:00",
          "2021-06-30T00:00:00",
          "2021-06-29T00:00:00",
          "2021-06-28T00:00:00",
          "2021-06-27T00:00:00",
          "2021-06-25T00:00:00",
          "2021-06-24T00:00:00",
          "2021-06-23T00:00:00",
          "2021-06-22T00:00:00",
          "2021-06-21T00:00:00",
          "2021-06-18T00:00:00",
          "2021-06-17T00:00:00",
          "2021-06-16T00:00:00",
          "2021-06-15T00:00:00",
          "2021-06-14T00:00:00",
          "2021-06-13T00:00:00",
          "2021-06-12T00:00:00",
          "2021-06-11T00:00:00",
          "2021-06-10T00:00:00",
          "2021-06-09T00:00:00",
          "2021-06-08T00:00:00",
          "2021-06-07T00:00:00",
          "2021-06-06T00:00:00",
          "2021-06-05T00:00:00",
          "2021-06-04T00:00:00",
          "2021-06-03T00:00:00",
          "2021-06-02T00:00:00",
          "2021-06-01T00:00:00",
          "2021-05-31T00:00:00",
          "2021-05-30T00:00:00",
          "2021-05-28T00:00:00",
          "2021-05-27T00:00:00",
          "2021-05-26T00:00:00",
          "2021-05-25T00:00:00",
          "2021-05-24T00:00:00",
          "2021-05-23T00:00:00",
          "2021-05-21T00:00:00",
          "2021-05-20T00:00:00",
          "2021-05-19T00:00:00",
          "2021-05-18T00:00:00",
          "2021-05-17T00:00:00",
          "2021-05-14T00:00:00",
          "2021-05-13T00:00:00",
          "2021-05-12T00:00:00",
          "2021-05-11T00:00:00",
          "2021-05-10T00:00:00",
          "2021-05-09T00:00:00",
          "2021-05-08T00:00:00",
          "2021-05-07T00:00:00",
          "2021-05-06T00:00:00",
          "2021-05-05T00:00:00",
          "2021-05-04T00:00:00",
          "2021-05-03T00:00:00",
          "2021-05-02T00:00:00",
          "2021-05-01T00:00:00",
          "2021-04-30T00:00:00",
          "2021-04-29T00:00:00",
          "2021-04-28T00:00:00",
          "2021-04-27T00:00:00",
          "2021-04-26T00:00:00",
          "2021-04-23T00:00:00",
          "2021-04-22T00:00:00",
          "2021-04-21T00:00:00",
          "2021-04-20T00:00:00",
          "2021-04-19T00:00:00",
          "2021-04-18T00:00:00",
          "2021-04-17T00:00:00",
          "2021-04-16T00:00:00",
          "2021-04-15T00:00:00",
          "2021-04-14T00:00:00",
          "2021-04-13T00:00:00",
          "2021-04-12T00:00:00",
          "2021-04-11T00:00:00",
          "2021-04-10T00:00:00",
          "2021-04-09T00:00:00",
          "2021-04-08T00:00:00",
          "2021-04-07T00:00:00",
          "2021-04-06T00:00:00",
          "2021-04-05T00:00:00",
          "2021-04-04T00:00:00",
          "2021-04-02T00:00:00",
          "2021-04-01T00:00:00",
          "2021-03-31T00:00:00",
          "2021-03-30T00:00:00",
          "2021-03-29T00:00:00",
          "2021-03-28T00:00:00",
          "2021-03-26T00:00:00",
          "2021-03-25T00:00:00",
          "2021-03-24T00:00:00",
          "2021-03-23T00:00:00",
          "2021-03-22T00:00:00",
          "2021-03-21T00:00:00",
          "2021-03-20T00:00:00",
          "2021-03-19T00:00:00",
          "2021-03-18T00:00:00",
          "2021-03-17T00:00:00",
          "2021-03-16T00:00:00",
          "2021-03-15T00:00:00",
          "2021-03-14T00:00:00",
          "2021-03-12T00:00:00",
          "2021-03-11T00:00:00",
          "2021-03-10T00:00:00",
          "2021-03-09T00:00:00",
          "2021-03-08T00:00:00",
          "2021-03-07T00:00:00",
          "2021-03-06T00:00:00",
          "2021-03-05T00:00:00",
          "2021-03-04T00:00:00",
          "2021-03-03T00:00:00",
          "2021-03-02T00:00:00",
          "2021-03-01T00:00:00",
          "2021-02-28T00:00:00",
          "2021-02-26T00:00:00",
          "2021-02-25T00:00:00",
          "2021-02-24T00:00:00",
          "2021-02-23T00:00:00",
          "2021-02-22T00:00:00",
          "2021-02-21T00:00:00",
          "2021-02-19T00:00:00",
          "2021-02-18T00:00:00",
          "2021-02-17T00:00:00",
          "2021-02-16T00:00:00",
          "2021-02-15T00:00:00",
          "2021-02-14T00:00:00",
          "2021-02-13T00:00:00",
          "2021-02-12T00:00:00",
          "2021-02-11T00:00:00",
          "2021-02-10T00:00:00",
          "2021-02-09T00:00:00",
          "2021-02-08T00:00:00",
          "2021-02-07T00:00:00",
          "2021-02-05T00:00:00",
          "2021-02-04T00:00:00",
          "2021-02-03T00:00:00",
          "2021-02-02T00:00:00",
          "2021-02-01T00:00:00",
          "2021-01-31T00:00:00",
          "2021-01-29T00:00:00",
          "2021-01-28T00:00:00",
          "2021-01-27T00:00:00",
          "2021-01-26T00:00:00",
          "2021-01-25T00:00:00",
          "2021-01-24T00:00:00",
          "2021-01-22T00:00:00",
          "2021-01-21T00:00:00",
          "2021-01-20T00:00:00",
          "2021-01-19T00:00:00",
          "2021-01-18T00:00:00",
          "2021-01-17T00:00:00",
          "2021-01-15T00:00:00",
          "2021-01-14T00:00:00",
          "2021-01-13T00:00:00",
          "2021-01-12T00:00:00",
          "2021-01-11T00:00:00",
          "2021-01-10T00:00:00",
          "2021-01-08T00:00:00",
          "2021-01-07T00:00:00",
          "2021-01-06T00:00:00",
          "2021-01-05T00:00:00",
          "2021-01-04T00:00:00",
          "2021-01-03T00:00:00",
          "2020-12-31T00:00:00",
          "2020-12-30T00:00:00",
          "2020-12-29T00:00:00",
          "2020-12-28T00:00:00",
          "2020-12-27T00:00:00",
          "2020-12-25T00:00:00",
          "2020-12-24T00:00:00",
          "2020-12-23T00:00:00",
          "2020-12-22T00:00:00",
          "2020-12-21T00:00:00",
          "2020-12-20T00:00:00",
          "2020-12-18T00:00:00",
          "2020-12-17T00:00:00",
          "2020-12-16T00:00:00",
          "2020-12-15T00:00:00",
          "2020-12-14T00:00:00",
          "2020-12-11T00:00:00",
          "2020-12-10T00:00:00",
          "2020-12-09T00:00:00",
          "2020-12-08T00:00:00",
          "2020-12-07T00:00:00",
          "2020-12-04T00:00:00",
          "2020-12-03T00:00:00",
          "2020-12-02T00:00:00",
          "2020-12-01T00:00:00",
          "2020-11-30T00:00:00",
          "2020-11-29T00:00:00",
          "2020-11-27T00:00:00",
          "2020-11-26T00:00:00",
          "2020-11-25T00:00:00",
          "2020-11-24T00:00:00",
          "2020-11-23T00:00:00",
          "2020-11-22T00:00:00",
          "2020-11-21T00:00:00",
          "2020-11-20T00:00:00",
          "2020-11-19T00:00:00",
          "2020-11-18T00:00:00",
          "2020-11-17T00:00:00",
          "2020-11-16T00:00:00",
          "2020-11-13T00:00:00",
          "2020-11-12T00:00:00",
          "2020-11-11T00:00:00",
          "2020-11-10T00:00:00",
          "2020-11-09T00:00:00",
          "2020-11-08T00:00:00",
          "2020-11-06T00:00:00",
          "2020-11-05T00:00:00",
          "2020-11-04T00:00:00",
          "2020-11-03T00:00:00",
          "2020-11-02T00:00:00",
          "2020-11-01T00:00:00",
          "2020-10-31T00:00:00",
          "2020-10-30T00:00:00",
          "2020-10-29T00:00:00",
          "2020-10-28T00:00:00",
          "2020-10-27T00:00:00",
          "2020-10-26T00:00:00",
          "2020-10-25T00:00:00",
          "2020-10-23T00:00:00",
          "2020-10-22T00:00:00",
          "2020-10-21T00:00:00",
          "2020-10-20T00:00:00",
          "2020-10-19T00:00:00",
          "2020-10-18T00:00:00",
          "2020-10-16T00:00:00",
          "2020-10-15T00:00:00",
          "2020-10-14T00:00:00",
          "2020-10-13T00:00:00",
          "2020-10-12T00:00:00",
          "2020-10-11T00:00:00",
          "2020-10-10T00:00:00",
          "2020-10-09T00:00:00",
          "2020-10-08T00:00:00",
          "2020-10-07T00:00:00",
          "2020-10-06T00:00:00",
          "2020-10-05T00:00:00",
          "2020-10-04T00:00:00",
          "2020-10-02T00:00:00",
          "2020-10-01T00:00:00",
          "2020-09-30T00:00:00",
          "2020-09-29T00:00:00",
          "2020-09-28T00:00:00",
          "2020-09-27T00:00:00",
          "2020-09-26T00:00:00",
          "2020-09-25T00:00:00",
          "2020-09-24T00:00:00",
          "2020-09-23T00:00:00",
          "2020-09-22T00:00:00",
          "2020-09-21T00:00:00",
          "2020-09-20T00:00:00",
          "2020-09-19T00:00:00",
          "2020-09-18T00:00:00",
          "2020-09-17T00:00:00",
          "2020-09-16T00:00:00",
          "2020-09-15T00:00:00",
          "2020-09-14T00:00:00",
          "2020-09-13T00:00:00",
          "2020-09-12T00:00:00",
          "2020-09-11T00:00:00",
          "2020-09-10T00:00:00",
          "2020-09-09T00:00:00",
          "2020-09-08T00:00:00",
          "2020-09-07T00:00:00",
          "2020-09-06T00:00:00",
          "2020-09-04T00:00:00",
          "2020-09-03T00:00:00",
          "2020-09-02T00:00:00",
          "2020-09-01T00:00:00",
          "2020-08-31T00:00:00",
          "2020-08-29T00:00:00",
          "2020-08-28T00:00:00",
          "2020-08-27T00:00:00",
          "2020-08-26T00:00:00",
          "2020-08-25T00:00:00",
          "2020-08-24T00:00:00",
          "2020-08-23T00:00:00",
          "2020-08-21T00:00:00",
          "2020-08-20T00:00:00",
          "2020-08-19T00:00:00",
          "2020-08-18T00:00:00",
          "2020-08-17T00:00:00",
          "2020-08-16T00:00:00",
          "2020-08-15T00:00:00",
          "2020-08-14T00:00:00",
          "2020-08-13T00:00:00",
          "2020-08-12T00:00:00",
          "2020-08-11T00:00:00",
          "2020-08-10T00:00:00",
          "2020-08-09T00:00:00",
          "2020-08-08T00:00:00",
          "2020-08-07T00:00:00",
          "2020-08-06T00:00:00",
          "2020-08-05T00:00:00",
          "2020-08-04T00:00:00",
          "2020-08-03T00:00:00",
          "2020-08-02T00:00:00",
          "2020-08-01T00:00:00",
          "2020-07-31T00:00:00",
          "2020-07-30T00:00:00",
          "2020-07-29T00:00:00",
          "2020-07-28T00:00:00",
          "2020-07-27T00:00:00",
          "2020-07-26T00:00:00",
          "2020-07-25T00:00:00",
          "2020-07-24T00:00:00",
          "2020-07-23T00:00:00",
          "2020-07-22T00:00:00",
          "2020-07-21T00:00:00",
          "2020-07-20T00:00:00",
          "2020-07-19T00:00:00",
          "2020-07-18T00:00:00",
          "2020-07-17T00:00:00",
          "2020-07-16T00:00:00",
          "2020-07-15T00:00:00",
          "2020-07-14T00:00:00",
          "2020-07-13T00:00:00",
          "2020-07-12T00:00:00",
          "2020-07-11T00:00:00",
          "2020-07-10T00:00:00",
          "2020-07-09T00:00:00",
          "2020-07-08T00:00:00",
          "2020-07-07T00:00:00",
          "2020-07-06T00:00:00",
          "2020-07-04T00:00:00",
          "2020-07-03T00:00:00",
          "2020-07-02T00:00:00",
          "2020-07-01T00:00:00",
          "2020-06-30T00:00:00",
          "2020-06-29T00:00:00",
          "2020-06-28T00:00:00",
          "2020-06-27T00:00:00",
          "2020-06-26T00:00:00",
          "2020-06-25T00:00:00",
          "2020-06-24T00:00:00",
          "2020-06-23T00:00:00",
          "2020-06-22T00:00:00",
          "2020-06-21T00:00:00",
          "2020-06-20T00:00:00",
          "2020-06-19T00:00:00",
          "2020-06-18T00:00:00",
          "2020-06-17T00:00:00",
          "2020-06-16T00:00:00",
          "2020-06-15T00:00:00",
          "2020-06-14T00:00:00",
          "2020-06-13T00:00:00",
          "2020-06-12T00:00:00",
          "2020-06-11T00:00:00",
          "2020-06-10T00:00:00",
          "2020-06-09T00:00:00",
          "2020-06-08T00:00:00",
          "2020-06-07T00:00:00",
          "2020-06-06T00:00:00",
          "2020-06-05T00:00:00",
          "2020-06-04T00:00:00",
          "2020-06-03T00:00:00",
          "2020-06-02T00:00:00",
          "2020-06-01T00:00:00",
          "2020-05-30T00:00:00",
          "2020-05-29T00:00:00",
          "2020-05-28T00:00:00",
          "2020-05-27T00:00:00",
          "2020-05-26T00:00:00",
          "2020-05-25T00:00:00",
          "2020-05-24T00:00:00",
          "2020-05-23T00:00:00",
          "2020-05-22T00:00:00",
          "2020-05-21T00:00:00",
          "2020-05-20T00:00:00",
          "2020-05-19T00:00:00",
          "2020-05-18T00:00:00",
          "2020-05-16T00:00:00",
          "2020-05-15T00:00:00",
          "2020-05-14T00:00:00",
          "2020-05-13T00:00:00",
          "2020-05-12T00:00:00",
          "2020-05-11T00:00:00",
          "2020-05-10T00:00:00",
          "2020-05-09T00:00:00",
          "2020-05-08T00:00:00",
          "2020-05-07T00:00:00",
          "2020-05-06T00:00:00",
          "2020-05-05T00:00:00",
          "2020-05-04T00:00:00",
          "2020-05-01T00:00:00",
          "2020-04-30T00:00:00",
          "2020-04-29T00:00:00",
          "2020-04-28T00:00:00",
          "2020-04-27T00:00:00",
          "2020-04-26T00:00:00",
          "2020-04-24T00:00:00",
          "2020-04-23T00:00:00",
          "2020-04-22T00:00:00",
          "2020-04-21T00:00:00",
          "2020-04-20T00:00:00",
          "2020-04-17T00:00:00",
          "2020-04-16T00:00:00",
          "2020-04-15T00:00:00",
          "2020-04-14T00:00:00",
          "2020-04-13T00:00:00",
          "2020-04-10T00:00:00",
          "2020-04-09T00:00:00",
          "2020-04-08T00:00:00",
          "2020-04-07T00:00:00",
          "2020-04-06T00:00:00",
          "2020-04-05T00:00:00",
          "2020-04-03T00:00:00",
          "2020-04-02T00:00:00",
          "2020-04-01T00:00:00",
          "2020-03-31T00:00:00",
          "2020-03-30T00:00:00",
          "2020-03-29T00:00:00",
          "2020-03-27T00:00:00",
          "2020-03-26T00:00:00",
          "2020-03-25T00:00:00",
          "2020-03-24T00:00:00",
          "2020-03-23T00:00:00",
          "2020-03-22T00:00:00",
          "2020-03-20T00:00:00",
          "2020-03-19T00:00:00",
          "2020-03-18T00:00:00",
          "2020-03-17T00:00:00",
          "2020-03-16T00:00:00",
          "2020-03-13T00:00:00",
          "2020-03-12T00:00:00",
          "2020-03-11T00:00:00",
          "2020-03-10T00:00:00",
          "2020-03-09T00:00:00",
          "2020-03-08T00:00:00",
          "2020-03-06T00:00:00",
          "2020-03-05T00:00:00",
          "2020-03-04T00:00:00",
          "2020-03-03T00:00:00",
          "2020-03-02T00:00:00",
          "2020-02-28T00:00:00",
          "2020-02-27T00:00:00",
          "2020-02-26T00:00:00",
          "2020-02-25T00:00:00",
          "2020-02-24T00:00:00",
          "2020-02-23T00:00:00",
          "2020-02-21T00:00:00",
          "2020-02-20T00:00:00",
          "2020-02-19T00:00:00",
          "2020-02-18T00:00:00",
          "2020-02-17T00:00:00",
          "2020-02-14T00:00:00",
          "2020-02-13T00:00:00",
          "2020-02-12T00:00:00",
          "2020-02-11T00:00:00",
          "2020-02-10T00:00:00",
          "2020-02-09T00:00:00",
          "2020-02-07T00:00:00",
          "2020-02-06T00:00:00",
          "2020-02-05T00:00:00",
          "2020-02-04T00:00:00",
          "2020-02-03T00:00:00",
          "2020-02-02T00:00:00",
          "2020-01-31T00:00:00",
          "2020-01-30T00:00:00",
          "2020-01-29T00:00:00",
          "2020-01-28T00:00:00",
          "2020-01-27T00:00:00",
          "2020-01-26T00:00:00",
          "2020-01-24T00:00:00",
          "2020-01-23T00:00:00",
          "2020-01-22T00:00:00",
          "2020-01-21T00:00:00",
          "2020-01-20T00:00:00",
          "2020-01-19T00:00:00",
          "2020-01-18T00:00:00",
          "2020-01-17T00:00:00",
          "2020-01-16T00:00:00",
          "2020-01-15T00:00:00",
          "2020-01-14T00:00:00",
          "2020-01-13T00:00:00",
          "2020-01-12T00:00:00",
          "2020-01-10T00:00:00",
          "2020-01-09T00:00:00",
          "2020-01-08T00:00:00",
          "2020-01-07T00:00:00",
          "2020-01-06T00:00:00",
          "2020-01-03T00:00:00",
          "2020-01-02T00:00:00"
         ]
        }
       ],
       "layout": {
        "template": {
         "data": {
          "bar": [
           {
            "error_x": {
             "color": "#2a3f5f"
            },
            "error_y": {
             "color": "#2a3f5f"
            },
            "marker": {
             "line": {
              "color": "#E5ECF6",
              "width": 0.5
             },
             "pattern": {
              "fillmode": "overlay",
              "size": 10,
              "solidity": 0.2
             }
            },
            "type": "bar"
           }
          ],
          "barpolar": [
           {
            "marker": {
             "line": {
              "color": "#E5ECF6",
              "width": 0.5
             },
             "pattern": {
              "fillmode": "overlay",
              "size": 10,
              "solidity": 0.2
             }
            },
            "type": "barpolar"
           }
          ],
          "carpet": [
           {
            "aaxis": {
             "endlinecolor": "#2a3f5f",
             "gridcolor": "white",
             "linecolor": "white",
             "minorgridcolor": "white",
             "startlinecolor": "#2a3f5f"
            },
            "baxis": {
             "endlinecolor": "#2a3f5f",
             "gridcolor": "white",
             "linecolor": "white",
             "minorgridcolor": "white",
             "startlinecolor": "#2a3f5f"
            },
            "type": "carpet"
           }
          ],
          "choropleth": [
           {
            "colorbar": {
             "outlinewidth": 0,
             "ticks": ""
            },
            "type": "choropleth"
           }
          ],
          "contour": [
           {
            "colorbar": {
             "outlinewidth": 0,
             "ticks": ""
            },
            "colorscale": [
             [
              0,
              "#0d0887"
             ],
             [
              0.1111111111111111,
              "#46039f"
             ],
             [
              0.2222222222222222,
              "#7201a8"
             ],
             [
              0.3333333333333333,
              "#9c179e"
             ],
             [
              0.4444444444444444,
              "#bd3786"
             ],
             [
              0.5555555555555556,
              "#d8576b"
             ],
             [
              0.6666666666666666,
              "#ed7953"
             ],
             [
              0.7777777777777778,
              "#fb9f3a"
             ],
             [
              0.8888888888888888,
              "#fdca26"
             ],
             [
              1,
              "#f0f921"
             ]
            ],
            "type": "contour"
           }
          ],
          "contourcarpet": [
           {
            "colorbar": {
             "outlinewidth": 0,
             "ticks": ""
            },
            "type": "contourcarpet"
           }
          ],
          "heatmap": [
           {
            "colorbar": {
             "outlinewidth": 0,
             "ticks": ""
            },
            "colorscale": [
             [
              0,
              "#0d0887"
             ],
             [
              0.1111111111111111,
              "#46039f"
             ],
             [
              0.2222222222222222,
              "#7201a8"
             ],
             [
              0.3333333333333333,
              "#9c179e"
             ],
             [
              0.4444444444444444,
              "#bd3786"
             ],
             [
              0.5555555555555556,
              "#d8576b"
             ],
             [
              0.6666666666666666,
              "#ed7953"
             ],
             [
              0.7777777777777778,
              "#fb9f3a"
             ],
             [
              0.8888888888888888,
              "#fdca26"
             ],
             [
              1,
              "#f0f921"
             ]
            ],
            "type": "heatmap"
           }
          ],
          "heatmapgl": [
           {
            "colorbar": {
             "outlinewidth": 0,
             "ticks": ""
            },
            "colorscale": [
             [
              0,
              "#0d0887"
             ],
             [
              0.1111111111111111,
              "#46039f"
             ],
             [
              0.2222222222222222,
              "#7201a8"
             ],
             [
              0.3333333333333333,
              "#9c179e"
             ],
             [
              0.4444444444444444,
              "#bd3786"
             ],
             [
              0.5555555555555556,
              "#d8576b"
             ],
             [
              0.6666666666666666,
              "#ed7953"
             ],
             [
              0.7777777777777778,
              "#fb9f3a"
             ],
             [
              0.8888888888888888,
              "#fdca26"
             ],
             [
              1,
              "#f0f921"
             ]
            ],
            "type": "heatmapgl"
           }
          ],
          "histogram": [
           {
            "marker": {
             "pattern": {
              "fillmode": "overlay",
              "size": 10,
              "solidity": 0.2
             }
            },
            "type": "histogram"
           }
          ],
          "histogram2d": [
           {
            "colorbar": {
             "outlinewidth": 0,
             "ticks": ""
            },
            "colorscale": [
             [
              0,
              "#0d0887"
             ],
             [
              0.1111111111111111,
              "#46039f"
             ],
             [
              0.2222222222222222,
              "#7201a8"
             ],
             [
              0.3333333333333333,
              "#9c179e"
             ],
             [
              0.4444444444444444,
              "#bd3786"
             ],
             [
              0.5555555555555556,
              "#d8576b"
             ],
             [
              0.6666666666666666,
              "#ed7953"
             ],
             [
              0.7777777777777778,
              "#fb9f3a"
             ],
             [
              0.8888888888888888,
              "#fdca26"
             ],
             [
              1,
              "#f0f921"
             ]
            ],
            "type": "histogram2d"
           }
          ],
          "histogram2dcontour": [
           {
            "colorbar": {
             "outlinewidth": 0,
             "ticks": ""
            },
            "colorscale": [
             [
              0,
              "#0d0887"
             ],
             [
              0.1111111111111111,
              "#46039f"
             ],
             [
              0.2222222222222222,
              "#7201a8"
             ],
             [
              0.3333333333333333,
              "#9c179e"
             ],
             [
              0.4444444444444444,
              "#bd3786"
             ],
             [
              0.5555555555555556,
              "#d8576b"
             ],
             [
              0.6666666666666666,
              "#ed7953"
             ],
             [
              0.7777777777777778,
              "#fb9f3a"
             ],
             [
              0.8888888888888888,
              "#fdca26"
             ],
             [
              1,
              "#f0f921"
             ]
            ],
            "type": "histogram2dcontour"
           }
          ],
          "mesh3d": [
           {
            "colorbar": {
             "outlinewidth": 0,
             "ticks": ""
            },
            "type": "mesh3d"
           }
          ],
          "parcoords": [
           {
            "line": {
             "colorbar": {
              "outlinewidth": 0,
              "ticks": ""
             }
            },
            "type": "parcoords"
           }
          ],
          "pie": [
           {
            "automargin": true,
            "type": "pie"
           }
          ],
          "scatter": [
           {
            "marker": {
             "colorbar": {
              "outlinewidth": 0,
              "ticks": ""
             }
            },
            "type": "scatter"
           }
          ],
          "scatter3d": [
           {
            "line": {
             "colorbar": {
              "outlinewidth": 0,
              "ticks": ""
             }
            },
            "marker": {
             "colorbar": {
              "outlinewidth": 0,
              "ticks": ""
             }
            },
            "type": "scatter3d"
           }
          ],
          "scattercarpet": [
           {
            "marker": {
             "colorbar": {
              "outlinewidth": 0,
              "ticks": ""
             }
            },
            "type": "scattercarpet"
           }
          ],
          "scattergeo": [
           {
            "marker": {
             "colorbar": {
              "outlinewidth": 0,
              "ticks": ""
             }
            },
            "type": "scattergeo"
           }
          ],
          "scattergl": [
           {
            "marker": {
             "colorbar": {
              "outlinewidth": 0,
              "ticks": ""
             }
            },
            "type": "scattergl"
           }
          ],
          "scattermapbox": [
           {
            "marker": {
             "colorbar": {
              "outlinewidth": 0,
              "ticks": ""
             }
            },
            "type": "scattermapbox"
           }
          ],
          "scatterpolar": [
           {
            "marker": {
             "colorbar": {
              "outlinewidth": 0,
              "ticks": ""
             }
            },
            "type": "scatterpolar"
           }
          ],
          "scatterpolargl": [
           {
            "marker": {
             "colorbar": {
              "outlinewidth": 0,
              "ticks": ""
             }
            },
            "type": "scatterpolargl"
           }
          ],
          "scatterternary": [
           {
            "marker": {
             "colorbar": {
              "outlinewidth": 0,
              "ticks": ""
             }
            },
            "type": "scatterternary"
           }
          ],
          "surface": [
           {
            "colorbar": {
             "outlinewidth": 0,
             "ticks": ""
            },
            "colorscale": [
             [
              0,
              "#0d0887"
             ],
             [
              0.1111111111111111,
              "#46039f"
             ],
             [
              0.2222222222222222,
              "#7201a8"
             ],
             [
              0.3333333333333333,
              "#9c179e"
             ],
             [
              0.4444444444444444,
              "#bd3786"
             ],
             [
              0.5555555555555556,
              "#d8576b"
             ],
             [
              0.6666666666666666,
              "#ed7953"
             ],
             [
              0.7777777777777778,
              "#fb9f3a"
             ],
             [
              0.8888888888888888,
              "#fdca26"
             ],
             [
              1,
              "#f0f921"
             ]
            ],
            "type": "surface"
           }
          ],
          "table": [
           {
            "cells": {
             "fill": {
              "color": "#EBF0F8"
             },
             "line": {
              "color": "white"
             }
            },
            "header": {
             "fill": {
              "color": "#C8D4E3"
             },
             "line": {
              "color": "white"
             }
            },
            "type": "table"
           }
          ]
         },
         "layout": {
          "annotationdefaults": {
           "arrowcolor": "#2a3f5f",
           "arrowhead": 0,
           "arrowwidth": 1
          },
          "autotypenumbers": "strict",
          "coloraxis": {
           "colorbar": {
            "outlinewidth": 0,
            "ticks": ""
           }
          },
          "colorscale": {
           "diverging": [
            [
             0,
             "#8e0152"
            ],
            [
             0.1,
             "#c51b7d"
            ],
            [
             0.2,
             "#de77ae"
            ],
            [
             0.3,
             "#f1b6da"
            ],
            [
             0.4,
             "#fde0ef"
            ],
            [
             0.5,
             "#f7f7f7"
            ],
            [
             0.6,
             "#e6f5d0"
            ],
            [
             0.7,
             "#b8e186"
            ],
            [
             0.8,
             "#7fbc41"
            ],
            [
             0.9,
             "#4d9221"
            ],
            [
             1,
             "#276419"
            ]
           ],
           "sequential": [
            [
             0,
             "#0d0887"
            ],
            [
             0.1111111111111111,
             "#46039f"
            ],
            [
             0.2222222222222222,
             "#7201a8"
            ],
            [
             0.3333333333333333,
             "#9c179e"
            ],
            [
             0.4444444444444444,
             "#bd3786"
            ],
            [
             0.5555555555555556,
             "#d8576b"
            ],
            [
             0.6666666666666666,
             "#ed7953"
            ],
            [
             0.7777777777777778,
             "#fb9f3a"
            ],
            [
             0.8888888888888888,
             "#fdca26"
            ],
            [
             1,
             "#f0f921"
            ]
           ],
           "sequentialminus": [
            [
             0,
             "#0d0887"
            ],
            [
             0.1111111111111111,
             "#46039f"
            ],
            [
             0.2222222222222222,
             "#7201a8"
            ],
            [
             0.3333333333333333,
             "#9c179e"
            ],
            [
             0.4444444444444444,
             "#bd3786"
            ],
            [
             0.5555555555555556,
             "#d8576b"
            ],
            [
             0.6666666666666666,
             "#ed7953"
            ],
            [
             0.7777777777777778,
             "#fb9f3a"
            ],
            [
             0.8888888888888888,
             "#fdca26"
            ],
            [
             1,
             "#f0f921"
            ]
           ]
          },
          "colorway": [
           "#636efa",
           "#EF553B",
           "#00cc96",
           "#ab63fa",
           "#FFA15A",
           "#19d3f3",
           "#FF6692",
           "#B6E880",
           "#FF97FF",
           "#FECB52"
          ],
          "font": {
           "color": "#2a3f5f"
          },
          "geo": {
           "bgcolor": "white",
           "lakecolor": "white",
           "landcolor": "#E5ECF6",
           "showlakes": true,
           "showland": true,
           "subunitcolor": "white"
          },
          "hoverlabel": {
           "align": "left"
          },
          "hovermode": "closest",
          "mapbox": {
           "style": "light"
          },
          "paper_bgcolor": "white",
          "plot_bgcolor": "#E5ECF6",
          "polar": {
           "angularaxis": {
            "gridcolor": "white",
            "linecolor": "white",
            "ticks": ""
           },
           "bgcolor": "#E5ECF6",
           "radialaxis": {
            "gridcolor": "white",
            "linecolor": "white",
            "ticks": ""
           }
          },
          "scene": {
           "xaxis": {
            "backgroundcolor": "#E5ECF6",
            "gridcolor": "white",
            "gridwidth": 2,
            "linecolor": "white",
            "showbackground": true,
            "ticks": "",
            "zerolinecolor": "white"
           },
           "yaxis": {
            "backgroundcolor": "#E5ECF6",
            "gridcolor": "white",
            "gridwidth": 2,
            "linecolor": "white",
            "showbackground": true,
            "ticks": "",
            "zerolinecolor": "white"
           },
           "zaxis": {
            "backgroundcolor": "#E5ECF6",
            "gridcolor": "white",
            "gridwidth": 2,
            "linecolor": "white",
            "showbackground": true,
            "ticks": "",
            "zerolinecolor": "white"
           }
          },
          "shapedefaults": {
           "line": {
            "color": "#2a3f5f"
           }
          },
          "ternary": {
           "aaxis": {
            "gridcolor": "white",
            "linecolor": "white",
            "ticks": ""
           },
           "baxis": {
            "gridcolor": "white",
            "linecolor": "white",
            "ticks": ""
           },
           "bgcolor": "#E5ECF6",
           "caxis": {
            "gridcolor": "white",
            "linecolor": "white",
            "ticks": ""
           }
          },
          "title": {
           "x": 0.05
          },
          "xaxis": {
           "automargin": true,
           "gridcolor": "white",
           "linecolor": "white",
           "ticks": "",
           "title": {
            "standoff": 15
           },
           "zerolinecolor": "white",
           "zerolinewidth": 2
          },
          "yaxis": {
           "automargin": true,
           "gridcolor": "white",
           "linecolor": "white",
           "ticks": "",
           "title": {
            "standoff": 15
           },
           "zerolinecolor": "white",
           "zerolinewidth": 2
          }
         }
        },
        "title": {
         "text": "Cotización del ORO diariamente durante el año 2022"
        },
        "xaxis": {
         "rangeslider": {
          "visible": true
         },
         "title": {
          "text": "Date"
         }
        },
        "yaxis": {
         "title": {
          "text": "Prices"
         }
        }
       }
      },
      "text/html": [
       "<div>                            <div id=\"dffe2f3b-b635-4963-8001-7115610a033f\" class=\"plotly-graph-div\" style=\"height:525px; width:100%;\"></div>            <script type=\"text/javascript\">                require([\"plotly\"], function(Plotly) {                    window.PLOTLYENV=window.PLOTLYENV || {};                                    if (document.getElementById(\"dffe2f3b-b635-4963-8001-7115610a033f\")) {                    Plotly.newPlot(                        \"dffe2f3b-b635-4963-8001-7115610a033f\",                        [{\"close\":[1936.9,1932.7,1919.55,1922.75,1958.4,1958.4,1958.5,1945.1,1921.73,1936.25,1920.05,1921.6,1942.3,1925.7,1916.55,1953.9,1982.85,1988.4,1996.7,1991.02,2049.85,1998.1,1974.5,1936.25,1928.6,1945.5,1908.85,1889.28,1889.28,1889.28,1903.88,1909.33,1898.25,1904.25,1895.48,1895.48,1898.15,1869.75,1853.75,1871.55,1843.5,1858.7,1826.95,1833.2,1825.85,1820.55,1808.6,1806.82,1808.0,1804.8,1806.95,1801.15,1798.26,1796.0,1796.0,1797.35,1819.75,1848.15,1843.3,1833.63,1833.63,1833.63,1839.45,1840.25,1813.8,1819.55,1817.7,1817.7,1822.8,1826.1,1821.75,1801.5,1796.95,1790.1,1810.15,1814.55,1801.25,1829.05,1821.5,1814.95,1804.55,1805.85,1812.15,1802.93,1802.93,1808.8,1803.45,1788.8,1790.65,1797.95,1797.95,1797.95,1799.4,1777.66,1770.5,1786.65,1782.7,1782.7,1782.7,1775.0,1783.1,1784.2,1778.3,1783.35,1783.35,1783.35,1767.73,1780.98,1775.05,1784.6,1792.6,1792.6,1789.54,1788.75,1789.1,1804.75,1845.8,1845.8,1845.8,1859.0,1867.4,1850.6,1862.8,1864.9,1864.9,1862.2,1849.2,1831.85,1824.05,1817.73,1817.73,1817.73,1791.15,1773.55,1787.08,1791.44,1780.65,1769.5,1783.4,1799.05,1797.72,1792.99,1807.74,1792.79,1782.84,1782.19,1770.04,1764.69,1767.59,1767.59,1796.09,1793.94,1759.94,1753.99,1756.64,1756.64,1754.43,1762.89,1760.09,1769.44,1760.54,1760.54,1757.64,1727.28,1734.47,1750.87,1750.34,1750.34,1750.34,1743.49,1768.14,1774.19,1764.44,1754.49,1754.49,1753.24,1793.69,1803.92,1794.22,1789.27,1789.27,1789.27,1794.54,1789.04,1793.89,1822.77,1827.19,1827.19,1827.19,1809.39,1814.24,1814.45,1810.09,1817.24,1791.22,1790.64,1802.79,1805.79,1792.69,1787.59,1779.5,1786.72,1785.89,1786.49,1779.79,1752.74,1750.9,1729.09,1729.47,1763.09,1763.09,1763.09,1804.52,1812.03,1810.34,1812.74,1787.19,1787.19,1813.79,1828.14,1806.3,1799.14,1797.49,1802.34,1802.34,1802.34,1806.79,1804.05,1810.29,1813.44,1811.89,1829.44,1826.92,1808.27,1806.69,1808.98,1802.89,1803.89,1797.88,1791.77,1785.49,1787.29,1776.69,1770.34,1761.29,1778.39,1771.69,1781.34,1775.34,1778.94,1778.64,1783.24,1764.34,1772.73,1812.66,1858.11,1865.89,1877.64,1877.64,1877.64,1897.8,1888.22,1893.09,1899.59,1890.97,1890.97,1890.97,1871.36,1907.75,1900.49,1905.74,1909.29,1909.49,1896.79,1896.74,1899.14,1880.24,1881.3,1881.3,1876.84,1869.59,1869.89,1865.79,1843.19,1827.01,1816.49,1837.39,1835.94,1840.69,1840.69,1830.86,1815.57,1785.65,1779.04,1792.32,1787.05,1807.4,1768.95,1770.8,1780.92,1776.5,1780.44,1778.18,1784.25,1793.9,1778.0,1770.31,1779.5,1782.5,1782.5,1763.6,1737.1,1744.3,1733.4,1744.1,1744.1,1744.1,1756.38,1737.65,1744.15,1728.1,1729.8,1729.8,1729.8,1707.2,1685.25,1712.3,1720.5,1731.93,1727.6,1734.2,1727.5,1739.55,1739.9,1749.6,1749.6,1736.6,1747.71,1732.1,1731.2,1726.85,1726.85,1722.77,1726.65,1715.9,1684.55,1700.8,1700.8,1700.8,1698.39,1709.86,1738.1,1724.7,1734.4,1734.4,1769.9,1805.0,1805.6,1809.95,1794.4,1784.05,1775.7,1776.35,1794.95,1818.85,1822.43,1822.43,1822.43,1826.5,1843.4,1838.95,1831.26,1810.8,1810.8,1794.0,1833.85,1837.9,1860.0,1874.0,1847.76,1842.9,1844.91,1850.8,1855.9,1852.75,1855.9,1869.65,1870.53,1840.3,1836.9,1827.5,1828.45,1846.1,1845.37,1855.0,1842.51,1848.88,1848.88,1913.05,1919.05,1949.48,1942.14,1898.66,1897.7,1894.7,1877.89,1873.45,1908.7,1908.7,1857.2,1872.33,1860.99,1877.05,1867.47,1882.43,1885.65,1865.35,1853.5,1828.0,1838.53,1836.4,1839.8,1869.5,1861.4,1839.54,1841.5,1831.05,1814.8,1777.1,1789.8,1788.5,1811.38,1807.6,1807.41,1838.33,1870.14,1870.14,1870.14,1867.05,1873.3,1879.1,1888.53,1890.41,1878.0,1865.98,1877.79,1861.68,1958.2,1951.25,1949.35,1904.25,1909.32,1894.45,1878.95,1878.95,1878.95,1866.65,1878.2,1904.8,1902.6,1896.65,1901.55,1904.15,1924.6,1906.65,1904.33,1899.4,1899.4,1908.1,1900.33,1890.35,1922.94,1930.43,1930.43,1930.43,1893.95,1887.3,1878.3,1913.45,1899.7,1899.7,1906.0,1885.95,1897.81,1880.98,1855.5,1861.05,1861.05,1868.69,1863.4,1900.2,1912.35,1962.0,1962.0,1951.33,1944.98,1959.75,1953.88,1956.7,1940.4,1940.4,1940.4,1946.35,1946.5,1931.35,1928.55,1933.83,1933.83,1930.3,1942.89,1970.45,1967.9,1964.95,1964.95,1929.5,1953.3,1928.4,1927.98,1947.5,1940.23,1947.05,1930.48,2000.62,1985.07,1947.04,1945.35,1945.35,1954.03,1914.39,1912.43,2027.08,2035.99,2035.99,2035.99,2063.68,2038.15,2018.51,1976.35,1975.9,1975.9,1975.9,1956.05,1970.92,1959.6,1942.55,1901.65,1901.65,1901.65,1887.3,1872.53,1841.9,1817.73,1809.9,1809.9,1809.9,1797.89,1809.09,1808.6,1802.5,1799.3,1799.3,1799.3,1803.5,1809.15,1793.25,1784.5,1784.5,1774.91,1773.03,1769.99,1779.55,1770.4,1771.05,1771.05,1771.05,1762.14,1762.6,1769.1,1754.7,1743.95,1743.95,1743.95,1721.95,1726.63,1728.57,1725.75,1730.8,1730.8,1730.8,1726.3,1737.07,1714.5,1698.51,1683.65,1683.65,1683.65,1713.39,1698.1,1727.99,1739.98,1730.35,1730.35,1720.05,1708.8,1711.78,1729.13,1736.69,1736.69,1736.35,1726.55,1748.98,1744.09,1732.4,1743.55,1743.0,1732.05,1715.63,1702.04,1697.4,1702.65,1702.65,1702.65,1717.93,1685.5,1707.03,1701.4,1700.4,1686.8,1712.27,1708.8,1714.9,1734.41,1729.43,1732.54,1715.2,1687.5,1694.13,1683.85,1717.7,1716.9,1730.45,1714.3,1696.9,1683.89,1646.0,1648.96,1664.7,1618.45,1618.45,1614.3,1595.05,1571.0,1623.58,1622.0,1623.5,1631.8,1611.8,1630.65,1566.05,1490.85,1498.6,1467.4,1484.25,1537.15,1507.5,1529.3,1574.8,1638.35,1653.8,1673.6,1697.4,1673.75,1672.28,1636.85,1640.95,1589.8,1585.85,1645.3,1640.9,1634.95,1659.35,1643.45,1643.45,1619.75,1611.35,1601.6,1581.05,1583.8,1575.95,1566.1,1567.65,1571.98,1574.85,1574.85,1566.35,1556.0,1549.45,1576.95,1589.65,1589.65,1574.45,1577.03,1567.25,1581.65,1571.85,1571.85,1562.9,1558.65,1558.05,1560.55,1557.3,1557.3,1557.3,1552.65,1556.25,1546.55,1548.25,1562.34,1562.34,1552.64,1556.55,1574.35,1565.91,1552.35,1528.85],\"high\":[1949.05,1937.95,1928.85,1958.0,1958.4,1964.0,1965.5,1947.99,1938.05,1939.83,1929.0,1945.05,1949.4,1929.4,1954.6,1981.0,1989.44,1998.75,2009.2,2059.0,2070.13,2002.25,1974.5,1940.95,1947.25,1950.0,1919.2,1889.28,1889.28,1920.9,1973.45,1910.5,1913.98,1907.7,1895.48,1902.45,1901.15,1872.2,1879.19,1873.54,1843.5,1865.1,1841.5,1835.47,1828.5,1823.09,1809.6,1807.0,1814.5,1808.6,1810.65,1808.5,1799.65,1796.0,1799.25,1822.15,1850.1,1853.3,1844.03,1833.63,1833.63,1842.95,1847.75,1843.15,1822.42,1823.1,1817.7,1829.1,1827.9,1827.75,1822.8,1802.35,1798.5,1811.3,1829.15,1815.99,1829.05,1829.05,1827.45,1816.9,1807.65,1819.85,1813.1,1802.93,1812.7,1810.5,1804.65,1799.9,1803.8,1797.95,1797.95,1813.9,1799.5,1780.7,1789.55,1791.1,1782.7,1782.7,1787.7,1787.24,1792.72,1787.55,1787.25,1783.35,1783.35,1785.95,1782.9,1791.7,1808.45,1799.35,1792.6,1814.7,1794.8,1796.35,1811.79,1848.8,1845.8,1845.8,1865.11,1870.9,1867.9,1876.43,1869.4,1864.9,1868.11,1865.85,1859.75,1832.6,1826.15,1817.73,1817.73,1818.25,1798.8,1787.38,1796.0,1795.5,1782.25,1769.5,1801.15,1809.67,1798.7,1807.89,1809.69,1813.39,1788.99,1788.09,1784.89,1771.69,1767.59,1796.44,1799.99,1795.57,1769.09,1760.89,1756.64,1780.79,1766.69,1764.79,1769.24,1770.44,1760.54,1763.37,1763.7,1745.49,1754.1,1760.39,1750.34,1750.34,1757.19,1775.99,1786.69,1781.49,1766.89,1754.49,1767.29,1796.14,1806.49,1808.49,1797.79,1789.27,1789.27,1803.64,1800.45,1801.94,1822.77,1827.19,1827.19,1827.19,1833.49,1817.09,1819.67,1818.89,1822.67,1818.94,1797.89,1802.89,1809.14,1805.99,1793.19,1788.09,1791.39,1793.49,1795.29,1789.04,1780.09,1757.87,1754.15,1738.24,1762.24,1763.09,1763.09,1804.84,1814.79,1831.54,1814.79,1819.44,1787.19,1787.19,1831.29,1832.69,1809.39,1804.89,1811.34,1802.34,1802.34,1809.97,1807.84,1813.46,1824.79,1817.09,1831.59,1833.34,1829.69,1816.79,1810.74,1812.07,1817.89,1809.27,1814.89,1793.79,1785.49,1794.94,1782.39,1774.19,1778.69,1785.74,1771.69,1789.99,1787.79,1794.49,1789.94,1786.09,1795.29,1824.99,1861.39,1868.94,1877.79,1877.64,1877.64,1902.44,1899.59,1898.47,1902.99,1899.9,1890.97,1890.97,1895.39,1909.29,1908.69,1916.29,1910.24,1909.49,1909.49,1902.97,1912.34,1900.29,1887.04,1881.3,1888.99,1883.57,1889.54,1874.47,1868.34,1844.16,1828.19,1843.17,1841.39,1844.89,1840.69,1840.69,1842.59,1817.39,1787.99,1798.59,1797.09,1808.41,1807.4,1773.6,1790.0,1782.5,1785.29,1783.5,1794.89,1797.9,1797.55,1780.3,1789.9,1783.0,1782.5,1783.19,1769.45,1749.0,1748.5,1744.6,1744.1,1744.1,1756.9,1758.7,1744.09,1745.2,1733.2,1729.8,1729.8,1729.95,1714.6,1714.15,1732.8,1720.5,1736.5,1745.1,1737.8,1742.35,1743.05,1746.55,1749.6,1749.6,1755.0,1751.05,1740.5,1734.35,1730.15,1728.65,1739.85,1726.72,1720.1,1713.99,1700.8,1700.8,1707.25,1722.75,1740.45,1739.05,1759.5,1734.4,1775.7,1804.3,1813.3,1815.55,1812.2,1794.4,1790.57,1788.7,1794.88,1826.25,1826.9,1822.43,1822.43,1829.6,1847.6,1855.03,1848.29,1838.52,1810.8,1814.7,1834.8,1844.9,1863.7,1871.0,1874.0,1875.14,1863.65,1853.1,1861.7,1867.75,1863.0,1870.85,1875.05,1871.75,1845.35,1840.4,1827.5,1856.45,1856.75,1862.54,1863.5,1855.75,1848.88,1917.5,1927.5,1958.9,1952.6,1944.18,1898.66,1899.5,1894.7,1886.2,1899.8,1908.7,1908.7,1880.45,1877.5,1884.25,1906.4,1867.47,1889.25,1895.7,1865.35,1855.05,1838.1,1847.25,1849.75,1870.6,1874.8,1868.26,1847.75,1843.8,1832.0,1816.9,1789.75,1789.8,1811.45,1817.7,1817.6,1838.7,1876.15,1870.14,1870.14,1879.42,1873.95,1884.4,1893.2,1898.95,1896.2,1883.39,1884.2,1890.05,1965.5,1959.0,1960.4,1952.5,1916.3,1910.21,1895.7,1878.95,1878.95,1889.3,1885.05,1910.55,1911.05,1908.1,1907.0,1913.95,1925.9,1931.2,1914.1,1917.75,1899.4,1913.5,1908.85,1912.55,1925.35,1932.95,1930.43,1930.43,1930.5,1899.7,1898.0,1920.5,1918.1,1899.7,1916.8,1911.3,1901.82,1898.85,1883.05,1861.05,1861.05,1874.75,1876.78,1904.9,1919.59,1955.6,1962.0,1962.0,1960.0,1960.95,1973.03,1972.0,1962.14,1940.4,1940.4,1954.35,1966.2,1950.6,1940.5,1941.25,1933.83,1941.45,1951.0,1973.25,1992.15,1976.05,1964.95,1973.1,1976.5,1954.3,1937.5,1961.4,1947.5,1955.55,1954.91,2006.55,2014.7,1990.5,1948.35,1945.35,1962.65,1965.75,1948.4,2029.75,2049.7,2035.99,2035.99,2072.9,2069.1,2055.48,2019.5,1984.7,1975.9,1975.9,1978.0,1971.65,1979.78,1980.55,1945.1,1901.65,1901.65,1906.4,1897.89,1872.53,1843.35,1820.4,1809.9,1809.9,1811.47,1813.5,1813.95,1810.65,1813.15,1799.3,1799.3,1810.5,1816.0,1817.45,1797.15,1786.9,1784.5,1777.0,1779.6,1788.66,1785.85,1774.8,1771.05,1771.05,1771.65,1768.42,1778.7,1770.8,1762.03,1743.95,1743.95,1744.5,1736.0,1729.1,1732.01,1733.8,1730.8,1730.8,1742.66,1744.6,1739.03,1720.75,1700.25,1683.65,1683.65,1716.35,1720.6,1731.99,1744.35,1744.55,1730.35,1736.79,1726.83,1715.35,1735.05,1733.15,1736.69,1736.69,1739.7,1748.7,1753.5,1747.2,1764.75,1743.55,1751.0,1735.5,1717.66,1710.03,1712.35,1702.65,1702.65,1722.56,1721.57,1708.6,1711.61,1712.14,1705.15,1720.4,1716.3,1714.78,1725.87,1734.6,1736.0,1738.6,1719.0,1697.3,1702.5,1717.45,1738.1,1731.1,1746.7,1723.65,1697.5,1690.3,1656.65,1673.4,1668.85,1618.45,1625.1,1619.55,1601.15,1622.5,1631.95,1622.0,1632.3,1643.55,1637.5,1634.65,1566.3,1508.25,1516.05,1495.65,1543.45,1552.55,1560.75,1597.35,1649.75,1670.85,1671.1,1702.95,1697.4,1691.5,1674.2,1649.75,1648.95,1610.8,1649.35,1660.35,1654.9,1658.55,1688.7,1643.45,1649.1,1623.45,1612.9,1605.1,1583.8,1585.05,1578.2,1570.45,1573.9,1576.9,1574.85,1574.85,1567.45,1562.35,1579.5,1591.75,1589.65,1590.5,1586.0,1577.9,1582.95,1586.0,1571.85,1575.7,1567.9,1559.3,1568.65,1562.8,1557.3,1557.3,1561.25,1558.05,1558.05,1548.95,1560.65,1562.34,1563.2,1561.3,1611.0,1577.0,1579.5,1553.0,1531.3],\"low\":[1919.5,1916.05,1890.45,1917.35,1958.4,1944.32,1937.59,1915.7,1911.2,1918.39,1918.8,1918.35,1925.4,1895.75,1907.2,1950.45,1972.85,1959.65,1971.35,1978.35,1982.5,1961.25,1930.17,1922.11,1915.1,1901.3,1891.09,1889.28,1889.28,1883.25,1881.4,1889.62,1893.49,1887.7,1895.48,1886.55,1867.59,1850.32,1844.84,1851.0,1843.5,1821.6,1822.4,1824.82,1815.48,1808.2,1806.82,1806.82,1792.5,1788.9,1794.6,1795.5,1785.4,1796.0,1780.3,1791.58,1815.6,1834.9,1829.49,1833.63,1833.63,1828.42,1836.3,1810.35,1806.09,1813.07,1817.7,1814.6,1812.2,1814.8,1800.45,1790.5,1783.93,1786.4,1808.39,1799.3,1798.3,1829.05,1814.6,1796.34,1789.33,1804.79,1802.93,1802.93,1802.93,1799.5,1786.0,1785.02,1788.18,1797.95,1797.95,1796.0,1775.9,1756.05,1766.9,1782.15,1782.7,1782.7,1769.9,1773.87,1779.9,1772.7,1776.35,1783.35,1783.35,1766.0,1762.19,1772.3,1769.7,1781.6,1792.6,1783.5,1786.21,1778.8,1782.0,1802.6,1845.8,1845.8,1843.55,1855.6,1849.75,1849.46,1856.2,1864.9,1845.2,1843.1,1822.79,1819.02,1812.52,1817.73,1817.73,1785.95,1770.8,1758.63,1786.2,1779.1,1780.4,1769.5,1772.1,1792.5,1783.39,1782.59,1792.29,1782.79,1776.49,1766.72,1762.69,1760.17,1767.59,1764.69,1786.59,1758.69,1750.89,1750.29,1756.64,1753.27,1751.99,1745.84,1749.13,1747.67,1760.54,1749.77,1722.07,1721.49,1727.99,1745.19,1750.34,1750.34,1740.59,1738.47,1765.55,1757.98,1742.94,1754.49,1747.49,1745.64,1790.69,1782.34,1785.69,1789.27,1789.27,1789.27,1784.69,1782.49,1792.9,1821.17,1827.19,1827.19,1808.69,1804.85,1808.59,1801.89,1807.69,1788.47,1779.97,1783.4,1800.49,1776.39,1787.59,1778.37,1774.29,1777.39,1780.69,1770.87,1751.67,1741.99,1723.92,1717.57,1710.39,1763.09,1763.09,1758.79,1798.44,1806.74,1807.49,1805.49,1787.19,1787.19,1809.99,1807.19,1793.64,1793.48,1796.09,1802.34,1802.34,1790.98,1793.07,1794.59,1805.59,1795.07,1808.89,1820.49,1804.39,1798.99,1791.49,1796.79,1794.69,1793.89,1790.35,1784.29,1780.59,1774.29,1765.89,1753.19,1751.22,1770.89,1771.69,1773.67,1773.03,1773.59,1772.27,1766.84,1761.54,1767.29,1807.33,1851.69,1844.99,1877.64,1877.64,1874.49,1870.88,1887.07,1883.89,1881.43,1890.97,1890.97,1858.84,1865.39,1894.49,1892.77,1901.89,1909.29,1882.23,1888.79,1890.79,1872.94,1875.79,1881.3,1870.39,1863.78,1852.19,1863.19,1843.74,1820.49,1809.44,1813.27,1818.29,1830.19,1840.69,1840.69,1813.24,1782.07,1770.57,1772.69,1767.37,1787.05,1807.4,1764.1,1757.3,1763.0,1773.9,1769.15,1770.97,1777.2,1776.18,1763.66,1766.59,1779.5,1782.5,1759.95,1734.5,1732.7,1723.67,1727.6,1744.1,1744.1,1731.5,1733.4,1730.5,1727.01,1721.4,1729.8,1729.8,1705.9,1678.05,1679.25,1706.0,1720.5,1721.6,1722.58,1724.45,1724.7,1727.55,1739.5,1749.6,1728.42,1719.43,1724.69,1726.18,1721.99,1725.76,1699.45,1719.8,1708.3,1680.09,1677.1,1700.8,1700.8,1687.4,1690.7,1702.4,1707.7,1719.94,1734.4,1717.85,1768.1,1783.59,1796.55,1780.95,1794.4,1760.49,1768.4,1769.8,1789.42,1816.19,1822.43,1822.43,1811.0,1821.0,1834.25,1828.93,1807.81,1810.8,1792.4,1785.85,1830.69,1829.8,1849.38,1874.0,1840.1,1834.2,1831.95,1849.02,1847.6,1852.75,1837.69,1859.18,1834.39,1833.75,1810.9,1827.5,1823.59,1832.85,1843.8,1837.79,1819.3,1848.88,1829.5,1907.55,1900.84,1934.45,1918.54,1898.66,1885.35,1876.24,1872.66,1869.84,1908.7,1908.7,1855.33,1858.65,1859.1,1866.5,1862.5,1877.39,1862.2,1845.31,1825.6,1820.35,1824.79,1829.3,1826.03,1860.35,1824.8,1830.25,1824.0,1807.6,1775.85,1764.9,1789.8,1774.75,1806.7,1801.7,1801.01,1831.19,1870.14,1870.14,1861.05,1852.83,1865.25,1877.1,1881.3,1873.99,1862.8,1856.3,1861.0,1851.05,1958.2,1935.8,1903.0,1885.0,1887.22,1873.65,1878.95,1878.95,1865.09,1859.92,1870.3,1898.1,1895.1,1895.85,1895.0,1895.15,1908.65,1895.1,1897.15,1899.4,1897.9,1889.85,1883.3,1887.39,1918.6,1930.43,1930.43,1893.52,1882.3,1873.35,1875.05,1887.2,1899.7,1889.79,1884.89,1881.59,1876.08,1850.2,1855.5,1861.05,1853.3,1848.99,1856.11,1895.1,1884.09,1962.0,1962.0,1944.25,1932.9,1950.2,1948.6,1937.55,1940.4,1940.4,1938.2,1941.65,1920.29,1906.7,1925.41,1933.83,1916.8,1922.9,1933.5,1964.19,1954.7,1964.95,1923.8,1912.2,1903.35,1914.85,1924.25,1940.22,1912.65,1925.15,1924.75,1977.15,1930.35,1945.35,1945.35,1934.05,1912.7,1866.4,1902.65,2020.2,2035.99,2035.99,2016.1,2035.25,2010.1,1969.35,1960.85,1975.9,1975.9,1955.55,1939.79,1945.2,1908.4,1903.45,1901.65,1901.65,1882.1,1864.28,1841.2,1815.85,1806.0,1809.9,1809.9,1796.15,1795.11,1803.05,1791.9,1798.25,1799.3,1799.3,1794.2,1796.25,1791.39,1773.8,1770.5,1784.5,1772.8,1757.32,1759.4,1765.4,1765.7,1771.05,1771.05,1747.64,1755.61,1760.78,1747.2,1742.71,1743.95,1743.95,1721.03,1717.14,1713.1,1716.99,1704.12,1730.8,1730.8,1722.29,1721.1,1710.7,1691.8,1677.86,1683.65,1683.65,1670.3,1697.0,1689.13,1721.59,1728.55,1730.35,1712.65,1708.05,1693.9,1708.7,1722.09,1736.69,1736.69,1724.43,1717.69,1742.3,1726.17,1728.04,1743.55,1728.52,1711.1,1699.4,1693.7,1692.19,1702.65,1702.65,1701.61,1684.4,1683.08,1691.92,1692.7,1670.53,1681.37,1698.65,1692.88,1706.45,1734.41,1710.94,1707.43,1680.95,1662.19,1672.55,1680.02,1708.2,1708.1,1709.1,1679.8,1696.9,1644.3,1643.15,1643.6,1609.45,1618.45,1607.15,1581.05,1570.45,1570.25,1611.4,1615.0,1614.75,1599.2,1600.0,1561.0,1485.3,1485.55,1466.05,1463.0,1473.3,1466.0,1451.75,1504.9,1561.8,1633.85,1643.3,1658.8,1697.4,1647.95,1635.6,1632.55,1589.85,1575.75,1565.35,1635.75,1626.15,1629.1,1651.35,1643.45,1619.1,1604.1,1599.6,1583.7,1578.95,1573.2,1565.75,1562.2,1562.3,1568.2,1574.85,1561.9,1552.75,1547.65,1549.3,1570.7,1589.65,1571.1,1572.75,1563.5,1565.7,1576.05,1571.85,1556.65,1552.15,1550.55,1546.5,1556.45,1557.3,1557.3,1549.75,1548.35,1546.55,1536.4,1547.1,1562.34,1545.8,1540.35,1552.7,1555.65,1561.0,1528.1,1517.9],\"open\":[1933.45,1920.7,1922.75,1956.05,1958.4,1958.4,1945.95,1920.35,1935.8,1919.8,1929.0,1942.1,1926.45,1916.8,1951.4,1979.35,1985.65,1997.65,1991.3,2051.0,1997.75,1982.25,1936.8,1928.55,1943.5,1908.25,1906.25,1889.28,1889.28,1907.65,1910.25,1898.9,1911.8,1895.48,1895.48,1898.9,1869.85,1854.05,1870.85,1860.0,1843.5,1827.02,1833.0,1825.85,1821.4,1808.2,1806.82,1807.0,1804.95,1806.98,1800.89,1797.85,1789.35,1796.0,1797.2,1819.85,1847.65,1842.85,1833.4,1833.63,1833.63,1839.1,1840.05,1814.25,1818.48,1817.5,1817.7,1821.5,1825.71,1820.75,1800.45,1795.15,1791.3,1810.4,1813.88,1802.8,1829.05,1829.05,1815.45,1804.3,1806.34,1811.95,1802.93,1802.93,1808.8,1803.4,1789.15,1791.05,1800.85,1797.95,1797.95,1798.55,1778.82,1771.35,1786.3,1782.7,1782.7,1782.7,1776.0,1783.1,1784.85,1779.2,1782.0,1783.35,1783.35,1769.5,1781.9,1775.95,1785.25,1788.6,1792.6,1789.54,1788.3,1789.11,1808.45,1844.09,1845.8,1845.8,1859.3,1866.45,1849.85,1862.25,1864.9,1864.9,1861.9,1848.85,1831.85,1824.3,1815.85,1817.73,1817.73,1791.7,1773.7,1786.78,1791.38,1780.59,1781.35,0.0,1799.5,1796.29,1792.67,1807.19,1792.79,1783.17,1782.59,1769.29,1764.99,1767.59,1767.59,1795.87,1792.69,1760.49,1753.94,1756.64,1756.64,1755.84,1762.89,1759.89,1768.37,1760.99,1760.54,1755.67,1726.97,1734.14,1750.42,1749.67,1750.34,1750.34,1744.78,1768.64,1775.09,1764.29,1754.89,1754.49,1753.64,1794.08,1803.89,1793.59,1789.27,1789.27,1789.27,1793.99,1789.69,1795.09,1822.77,1827.19,1827.19,1827.19,1809.39,1814.04,1814.27,1809.94,1818.49,1792.69,1790.79,1802.49,1805.19,1779.07,1787.59,1779.79,1787.39,1785.99,1786.89,1779.04,1752.89,1751.29,1729.59,1729.04,1762.24,1763.09,1763.09,1804.84,1812.14,1810.19,1813.18,1813.69,0.0,0.0,1829.09,1807.39,1800.39,1797.77,1802.44,1802.34,1802.34,1807.14,1803.69,1810.39,1812.47,1811.34,1829.37,1827.49,1807.77,1806.19,1807.89,1803.04,1803.69,1796.49,1791.77,1787.29,1780.59,1776.39,1770.09,1762.09,1778.39,1782.54,1771.69,1776.39,1778.69,1779.79,1784.14,1769.09,1775.69,1812.32,1859.07,1866.29,1876.34,1877.64,1877.64,1897.99,1888.69,1891.84,1899.09,1889.84,1890.97,1890.97,1871.34,1908.37,1899.69,1907.29,1903.54,1909.49,1897.37,1895.99,1898.69,1880.59,1880.69,1881.3,1877.89,1869.79,1869.19,1866.59,1844.89,1826.86,1814.79,1836.78,1836.09,1831.97,0.0,0.0,1814.29,1786.49,1778.49,1792.49,1767.47,1808.4,1808.4,1771.8,1782.15,1777.1,1781.45,1775.6,1784.3,1793.95,1778.15,1770.95,1775.6,1782.5,1782.5,1764.35,1736.0,1745.65,1733.45,1742.3,1744.1,1744.1,1755.9,1737.29,1743.2,1728.54,1729.8,1729.8,1729.8,1707.3,1684.75,1712.45,1732.35,0.0,1727.4,1734.18,1727.45,1739.7,1739.8,1746.55,1749.6,1734.0,1747.48,1732.25,1730.65,1726.95,1729.5,1721.8,1726.6,1715.4,1684.9,1707.2,1700.8,1700.8,1696.55,1711.4,1738.3,1723.45,1739.45,1734.4,1772.05,1803.25,1806.7,1810.0,1787.4,1794.4,1776.5,1776.6,1792.4,1819.65,1822.43,1822.43,1822.43,1826.55,1844.1,1838.75,1830.8,1810.8,1810.8,1795.35,1834.35,1837.4,1859.5,1854.35,0.0,1843.1,1843.05,1851.3,1855.2,1857.95,1863.0,1869.9,1871.2,1840.7,1838.44,1826.0,1827.5,1848.0,1847.7,1855.3,1847.3,1855.75,1848.88,1915.6,1921.3,1951.1,1941.35,1919.0,1898.66,1893.75,1877.35,1874.2,1888.25,1909.7,0.0,1873.2,1861.1,1878.95,1884.15,1862.5,1884.35,1863.8,1854.1,1828.45,1837.3,1837.1,1838.45,1869.6,1863.15,1837.25,1841.3,1829.7,1812.75,1777.15,1789.75,1789.8,1811.0,1808.7,1808.25,1838.7,1871.1,1870.14,1870.14,1861.55,1873.86,1881.9,1889.45,1888.2,1877.15,1866.9,1874.5,1861.0,1956.35,1959.0,1947.05,1903.75,1909.25,1895.25,1879.1,1878.95,1878.95,1867.95,1877.45,1905.55,1902.55,1895.35,1907.0,1905.2,1924.9,1910.25,1903.75,1900.25,1899.4,1908.9,1901.95,1893.4,1924.05,1927.2,1930.43,1930.43,1894.35,1887.7,1877.35,1912.15,1903.7,1899.7,1905.1,1887.5,1897.75,1881.05,1864.7,1861.05,1861.05,1869.85,1864.25,1901.15,1914.58,1947.75,0.0,0.0,1944.25,1959.55,1954.7,1957.5,1937.8,1940.4,1940.4,1946.54,1946.35,1932.51,1929.8,1932.8,1933.83,1930.3,1942.41,1969.22,1968.65,1969.45,1964.95,1930.0,1952.15,1928.15,1930.25,1935.75,1940.22,1948.55,1931.3,2004.9,1983.35,1944.75,1945.35,1945.35,1951.9,1919.1,1917.8,2027.25,2028.25,2035.99,2035.99,2067.3,2040.05,2021.45,1977.7,1981.1,1975.9,1975.9,1955.7,1970.65,1959.6,1944.25,1903.45,1901.65,1901.65,1889.85,1872.53,1841.4,1818.3,1808.35,1809.9,1809.9,1798.35,1811.4,1808.6,1802.7,1800.1,1799.3,1799.3,1803.51,1809.7,1794.41,1785.5,1774.35,0.0,1775.9,1772.35,1781.4,1772.5,1771.1,1771.05,1771.05,1764.75,1760.2,1769.4,1754.55,1747.35,1743.95,1743.95,1723.55,1726.15,1725.62,1726.76,1730.55,1730.8,1730.8,1729.15,1737.82,1716.1,1700.5,1681.5,1683.65,1683.65,1714.75,1699.7,1728.0,1737.5,1735.62,1730.35,1719.07,1708.8,1711.5,1727.15,1732.4,1736.69,1736.69,1726.45,1747.8,1745.62,1732.45,1747.8,1743.55,1730.3,1715.18,1703.9,1696.9,1702.55,1702.65,1702.65,1716.05,1687.7,1705.55,1701.7,1698.95,1686.78,1711.58,1707.75,1714.25,1722.1,1734.6,1731.55,1714.75,1686.0,1695.3,1683.05,1711.55,1715.7,1728.85,1715.18,1691.25,1697.5,1644.75,1648.35,1666.65,1614.8,1618.45,1615.6,1592.25,1573.3,1622.4,1621.85,1620.75,1630.6,1612.95,1630.85,1563.5,1491.0,1504.0,1468.2,1485.25,1538.7,1511.95,1558.9,1576.8,1639.75,1652.9,1669.45,1692.8,0.0,1672.38,1637.4,1642.55,1590.9,1583.3,1641.85,1641.45,1638.6,1658.3,1664.4,1643.45,1619.9,1611.83,1601.2,1583.9,1581.4,1576.2,1566.5,1567.75,1572.35,1569.25,1574.85,1565.9,1554.8,1553.45,1578.35,1589.35,1589.65,1575.35,1575.45,1569.1,1580.7,1581.3,1571.85,1562.4,1558.65,1557.7,1560.95,1558.7,1557.3,1557.3,1552.45,1555.5,1546.7,1548.6,1560.15,1562.34,1553.3,1555.35,1578.05,1564.75,1569.3,1528.5,1519.95],\"x\":[\"2022-03-31T00:00:00\",\"2022-03-30T00:00:00\",\"2022-03-29T00:00:00\",\"2022-03-28T00:00:00\",\"2022-03-27T00:00:00\",\"2022-03-25T00:00:00\",\"2022-03-24T00:00:00\",\"2022-03-23T00:00:00\",\"2022-03-22T00:00:00\",\"2022-03-21T00:00:00\",\"2022-03-20T00:00:00\",\"2022-03-18T00:00:00\",\"2022-03-17T00:00:00\",\"2022-03-16T00:00:00\",\"2022-03-15T00:00:00\",\"2022-03-14T00:00:00\",\"2022-03-13T00:00:00\",\"2022-03-11T00:00:00\",\"2022-03-10T00:00:00\",\"2022-03-09T00:00:00\",\"2022-03-08T00:00:00\",\"2022-03-07T00:00:00\",\"2022-03-04T00:00:00\",\"2022-03-03T00:00:00\",\"2022-03-02T00:00:00\",\"2022-03-01T00:00:00\",\"2022-02-28T00:00:00\",\"2022-02-27T00:00:00\",\"2022-02-26T00:00:00\",\"2022-02-25T00:00:00\",\"2022-02-24T00:00:00\",\"2022-02-23T00:00:00\",\"2022-02-22T00:00:00\",\"2022-02-21T00:00:00\",\"2022-02-20T00:00:00\",\"2022-02-18T00:00:00\",\"2022-02-17T00:00:00\",\"2022-02-16T00:00:00\",\"2022-02-15T00:00:00\",\"2022-02-14T00:00:00\",\"2022-02-13T00:00:00\",\"2022-02-11T00:00:00\",\"2022-02-10T00:00:00\",\"2022-02-09T00:00:00\",\"2022-02-08T00:00:00\",\"2022-02-07T00:00:00\",\"2022-02-06T00:00:00\",\"2022-02-05T00:00:00\",\"2022-02-04T00:00:00\",\"2022-02-03T00:00:00\",\"2022-02-02T00:00:00\",\"2022-02-01T00:00:00\",\"2022-01-31T00:00:00\",\"2022-01-29T00:00:00\",\"2022-01-28T00:00:00\",\"2022-01-27T00:00:00\",\"2022-01-26T00:00:00\",\"2022-01-25T00:00:00\",\"2022-01-24T00:00:00\",\"2022-01-23T00:00:00\",\"2022-01-22T00:00:00\",\"2022-01-21T00:00:00\",\"2022-01-20T00:00:00\",\"2022-01-19T00:00:00\",\"2022-01-18T00:00:00\",\"2022-01-17T00:00:00\",\"2022-01-16T00:00:00\",\"2022-01-14T00:00:00\",\"2022-01-13T00:00:00\",\"2022-01-12T00:00:00\",\"2022-01-11T00:00:00\",\"2022-01-10T00:00:00\",\"2022-01-07T00:00:00\",\"2022-01-06T00:00:00\",\"2022-01-05T00:00:00\",\"2022-01-04T00:00:00\",\"2022-01-03T00:00:00\",\"2022-01-02T00:00:00\",\"2021-12-31T00:00:00\",\"2021-12-30T00:00:00\",\"2021-12-29T00:00:00\",\"2021-12-28T00:00:00\",\"2021-12-27T00:00:00\",\"2021-12-26T00:00:00\",\"2021-12-24T00:00:00\",\"2021-12-23T00:00:00\",\"2021-12-22T00:00:00\",\"2021-12-21T00:00:00\",\"2021-12-20T00:00:00\",\"2021-12-19T00:00:00\",\"2021-12-18T00:00:00\",\"2021-12-17T00:00:00\",\"2021-12-16T00:00:00\",\"2021-12-15T00:00:00\",\"2021-12-14T00:00:00\",\"2021-12-13T00:00:00\",\"2021-12-12T00:00:00\",\"2021-12-11T00:00:00\",\"2021-12-10T00:00:00\",\"2021-12-09T00:00:00\",\"2021-12-08T00:00:00\",\"2021-12-07T00:00:00\",\"2021-12-06T00:00:00\",\"2021-12-05T00:00:00\",\"2021-12-04T00:00:00\",\"2021-12-03T00:00:00\",\"2021-12-02T00:00:00\",\"2021-12-01T00:00:00\",\"2021-11-30T00:00:00\",\"2021-11-29T00:00:00\",\"2021-11-28T00:00:00\",\"2021-11-26T00:00:00\",\"2021-11-25T00:00:00\",\"2021-11-24T00:00:00\",\"2021-11-23T00:00:00\",\"2021-11-22T00:00:00\",\"2021-11-21T00:00:00\",\"2021-11-20T00:00:00\",\"2021-11-19T00:00:00\",\"2021-11-18T00:00:00\",\"2021-11-17T00:00:00\",\"2021-11-16T00:00:00\",\"2021-11-15T00:00:00\",\"2021-11-14T00:00:00\",\"2021-11-12T00:00:00\",\"2021-11-11T00:00:00\",\"2021-11-10T00:00:00\",\"2021-11-09T00:00:00\",\"2021-11-08T00:00:00\",\"2021-11-07T00:00:00\",\"2021-11-06T00:00:00\",\"2021-11-05T00:00:00\",\"2021-11-04T00:00:00\",\"2021-11-03T00:00:00\",\"2021-11-02T00:00:00\",\"2021-11-01T00:00:00\",\"2021-10-31T00:00:00\",\"2021-10-30T00:00:00\",\"2021-10-29T00:00:00\",\"2021-10-28T00:00:00\",\"2021-10-27T00:00:00\",\"2021-10-26T00:00:00\",\"2021-10-25T00:00:00\",\"2021-10-22T00:00:00\",\"2021-10-21T00:00:00\",\"2021-10-20T00:00:00\",\"2021-10-19T00:00:00\",\"2021-10-18T00:00:00\",\"2021-10-17T00:00:00\",\"2021-10-15T00:00:00\",\"2021-10-14T00:00:00\",\"2021-10-13T00:00:00\",\"2021-10-12T00:00:00\",\"2021-10-11T00:00:00\",\"2021-10-10T00:00:00\",\"2021-10-08T00:00:00\",\"2021-10-07T00:00:00\",\"2021-10-06T00:00:00\",\"2021-10-05T00:00:00\",\"2021-10-04T00:00:00\",\"2021-10-03T00:00:00\",\"2021-10-01T00:00:00\",\"2021-09-30T00:00:00\",\"2021-09-29T00:00:00\",\"2021-09-28T00:00:00\",\"2021-09-27T00:00:00\",\"2021-09-26T00:00:00\",\"2021-09-25T00:00:00\",\"2021-09-24T00:00:00\",\"2021-09-23T00:00:00\",\"2021-09-22T00:00:00\",\"2021-09-21T00:00:00\",\"2021-09-20T00:00:00\",\"2021-09-19T00:00:00\",\"2021-09-17T00:00:00\",\"2021-09-16T00:00:00\",\"2021-09-15T00:00:00\",\"2021-09-14T00:00:00\",\"2021-09-13T00:00:00\",\"2021-09-12T00:00:00\",\"2021-09-11T00:00:00\",\"2021-09-10T00:00:00\",\"2021-09-09T00:00:00\",\"2021-09-08T00:00:00\",\"2021-09-07T00:00:00\",\"2021-09-06T00:00:00\",\"2021-09-05T00:00:00\",\"2021-09-04T00:00:00\",\"2021-09-03T00:00:00\",\"2021-09-02T00:00:00\",\"2021-09-01T00:00:00\",\"2021-08-31T00:00:00\",\"2021-08-30T00:00:00\",\"2021-08-27T00:00:00\",\"2021-08-26T00:00:00\",\"2021-08-25T00:00:00\",\"2021-08-24T00:00:00\",\"2021-08-23T00:00:00\",\"2021-08-22T00:00:00\",\"2021-08-20T00:00:00\",\"2021-08-19T00:00:00\",\"2021-08-18T00:00:00\",\"2021-08-17T00:00:00\",\"2021-08-16T00:00:00\",\"2021-08-13T00:00:00\",\"2021-08-12T00:00:00\",\"2021-08-11T00:00:00\",\"2021-08-10T00:00:00\",\"2021-08-09T00:00:00\",\"2021-08-08T00:00:00\",\"2021-08-07T00:00:00\",\"2021-08-06T00:00:00\",\"2021-08-05T00:00:00\",\"2021-08-04T00:00:00\",\"2021-08-03T00:00:00\",\"2021-08-02T00:00:00\",\"2021-08-01T00:00:00\",\"2021-07-31T00:00:00\",\"2021-07-30T00:00:00\",\"2021-07-29T00:00:00\",\"2021-07-28T00:00:00\",\"2021-07-27T00:00:00\",\"2021-07-26T00:00:00\",\"2021-07-25T00:00:00\",\"2021-07-24T00:00:00\",\"2021-07-23T00:00:00\",\"2021-07-22T00:00:00\",\"2021-07-21T00:00:00\",\"2021-07-20T00:00:00\",\"2021-07-19T00:00:00\",\"2021-07-16T00:00:00\",\"2021-07-15T00:00:00\",\"2021-07-14T00:00:00\",\"2021-07-13T00:00:00\",\"2021-07-12T00:00:00\",\"2021-07-09T00:00:00\",\"2021-07-08T00:00:00\",\"2021-07-07T00:00:00\",\"2021-07-06T00:00:00\",\"2021-07-05T00:00:00\",\"2021-07-04T00:00:00\",\"2021-07-02T00:00:00\",\"2021-07-01T00:00:00\",\"2021-06-30T00:00:00\",\"2021-06-29T00:00:00\",\"2021-06-28T00:00:00\",\"2021-06-27T00:00:00\",\"2021-06-25T00:00:00\",\"2021-06-24T00:00:00\",\"2021-06-23T00:00:00\",\"2021-06-22T00:00:00\",\"2021-06-21T00:00:00\",\"2021-06-18T00:00:00\",\"2021-06-17T00:00:00\",\"2021-06-16T00:00:00\",\"2021-06-15T00:00:00\",\"2021-06-14T00:00:00\",\"2021-06-13T00:00:00\",\"2021-06-12T00:00:00\",\"2021-06-11T00:00:00\",\"2021-06-10T00:00:00\",\"2021-06-09T00:00:00\",\"2021-06-08T00:00:00\",\"2021-06-07T00:00:00\",\"2021-06-06T00:00:00\",\"2021-06-05T00:00:00\",\"2021-06-04T00:00:00\",\"2021-06-03T00:00:00\",\"2021-06-02T00:00:00\",\"2021-06-01T00:00:00\",\"2021-05-31T00:00:00\",\"2021-05-30T00:00:00\",\"2021-05-28T00:00:00\",\"2021-05-27T00:00:00\",\"2021-05-26T00:00:00\",\"2021-05-25T00:00:00\",\"2021-05-24T00:00:00\",\"2021-05-23T00:00:00\",\"2021-05-21T00:00:00\",\"2021-05-20T00:00:00\",\"2021-05-19T00:00:00\",\"2021-05-18T00:00:00\",\"2021-05-17T00:00:00\",\"2021-05-14T00:00:00\",\"2021-05-13T00:00:00\",\"2021-05-12T00:00:00\",\"2021-05-11T00:00:00\",\"2021-05-10T00:00:00\",\"2021-05-09T00:00:00\",\"2021-05-08T00:00:00\",\"2021-05-07T00:00:00\",\"2021-05-06T00:00:00\",\"2021-05-05T00:00:00\",\"2021-05-04T00:00:00\",\"2021-05-03T00:00:00\",\"2021-05-02T00:00:00\",\"2021-05-01T00:00:00\",\"2021-04-30T00:00:00\",\"2021-04-29T00:00:00\",\"2021-04-28T00:00:00\",\"2021-04-27T00:00:00\",\"2021-04-26T00:00:00\",\"2021-04-23T00:00:00\",\"2021-04-22T00:00:00\",\"2021-04-21T00:00:00\",\"2021-04-20T00:00:00\",\"2021-04-19T00:00:00\",\"2021-04-18T00:00:00\",\"2021-04-17T00:00:00\",\"2021-04-16T00:00:00\",\"2021-04-15T00:00:00\",\"2021-04-14T00:00:00\",\"2021-04-13T00:00:00\",\"2021-04-12T00:00:00\",\"2021-04-11T00:00:00\",\"2021-04-10T00:00:00\",\"2021-04-09T00:00:00\",\"2021-04-08T00:00:00\",\"2021-04-07T00:00:00\",\"2021-04-06T00:00:00\",\"2021-04-05T00:00:00\",\"2021-04-04T00:00:00\",\"2021-04-02T00:00:00\",\"2021-04-01T00:00:00\",\"2021-03-31T00:00:00\",\"2021-03-30T00:00:00\",\"2021-03-29T00:00:00\",\"2021-03-28T00:00:00\",\"2021-03-26T00:00:00\",\"2021-03-25T00:00:00\",\"2021-03-24T00:00:00\",\"2021-03-23T00:00:00\",\"2021-03-22T00:00:00\",\"2021-03-21T00:00:00\",\"2021-03-20T00:00:00\",\"2021-03-19T00:00:00\",\"2021-03-18T00:00:00\",\"2021-03-17T00:00:00\",\"2021-03-16T00:00:00\",\"2021-03-15T00:00:00\",\"2021-03-14T00:00:00\",\"2021-03-12T00:00:00\",\"2021-03-11T00:00:00\",\"2021-03-10T00:00:00\",\"2021-03-09T00:00:00\",\"2021-03-08T00:00:00\",\"2021-03-07T00:00:00\",\"2021-03-06T00:00:00\",\"2021-03-05T00:00:00\",\"2021-03-04T00:00:00\",\"2021-03-03T00:00:00\",\"2021-03-02T00:00:00\",\"2021-03-01T00:00:00\",\"2021-02-28T00:00:00\",\"2021-02-26T00:00:00\",\"2021-02-25T00:00:00\",\"2021-02-24T00:00:00\",\"2021-02-23T00:00:00\",\"2021-02-22T00:00:00\",\"2021-02-21T00:00:00\",\"2021-02-19T00:00:00\",\"2021-02-18T00:00:00\",\"2021-02-17T00:00:00\",\"2021-02-16T00:00:00\",\"2021-02-15T00:00:00\",\"2021-02-14T00:00:00\",\"2021-02-13T00:00:00\",\"2021-02-12T00:00:00\",\"2021-02-11T00:00:00\",\"2021-02-10T00:00:00\",\"2021-02-09T00:00:00\",\"2021-02-08T00:00:00\",\"2021-02-07T00:00:00\",\"2021-02-05T00:00:00\",\"2021-02-04T00:00:00\",\"2021-02-03T00:00:00\",\"2021-02-02T00:00:00\",\"2021-02-01T00:00:00\",\"2021-01-31T00:00:00\",\"2021-01-29T00:00:00\",\"2021-01-28T00:00:00\",\"2021-01-27T00:00:00\",\"2021-01-26T00:00:00\",\"2021-01-25T00:00:00\",\"2021-01-24T00:00:00\",\"2021-01-22T00:00:00\",\"2021-01-21T00:00:00\",\"2021-01-20T00:00:00\",\"2021-01-19T00:00:00\",\"2021-01-18T00:00:00\",\"2021-01-17T00:00:00\",\"2021-01-15T00:00:00\",\"2021-01-14T00:00:00\",\"2021-01-13T00:00:00\",\"2021-01-12T00:00:00\",\"2021-01-11T00:00:00\",\"2021-01-10T00:00:00\",\"2021-01-08T00:00:00\",\"2021-01-07T00:00:00\",\"2021-01-06T00:00:00\",\"2021-01-05T00:00:00\",\"2021-01-04T00:00:00\",\"2021-01-03T00:00:00\",\"2020-12-31T00:00:00\",\"2020-12-30T00:00:00\",\"2020-12-29T00:00:00\",\"2020-12-28T00:00:00\",\"2020-12-27T00:00:00\",\"2020-12-25T00:00:00\",\"2020-12-24T00:00:00\",\"2020-12-23T00:00:00\",\"2020-12-22T00:00:00\",\"2020-12-21T00:00:00\",\"2020-12-20T00:00:00\",\"2020-12-18T00:00:00\",\"2020-12-17T00:00:00\",\"2020-12-16T00:00:00\",\"2020-12-15T00:00:00\",\"2020-12-14T00:00:00\",\"2020-12-11T00:00:00\",\"2020-12-10T00:00:00\",\"2020-12-09T00:00:00\",\"2020-12-08T00:00:00\",\"2020-12-07T00:00:00\",\"2020-12-04T00:00:00\",\"2020-12-03T00:00:00\",\"2020-12-02T00:00:00\",\"2020-12-01T00:00:00\",\"2020-11-30T00:00:00\",\"2020-11-29T00:00:00\",\"2020-11-27T00:00:00\",\"2020-11-26T00:00:00\",\"2020-11-25T00:00:00\",\"2020-11-24T00:00:00\",\"2020-11-23T00:00:00\",\"2020-11-22T00:00:00\",\"2020-11-21T00:00:00\",\"2020-11-20T00:00:00\",\"2020-11-19T00:00:00\",\"2020-11-18T00:00:00\",\"2020-11-17T00:00:00\",\"2020-11-16T00:00:00\",\"2020-11-13T00:00:00\",\"2020-11-12T00:00:00\",\"2020-11-11T00:00:00\",\"2020-11-10T00:00:00\",\"2020-11-09T00:00:00\",\"2020-11-08T00:00:00\",\"2020-11-06T00:00:00\",\"2020-11-05T00:00:00\",\"2020-11-04T00:00:00\",\"2020-11-03T00:00:00\",\"2020-11-02T00:00:00\",\"2020-11-01T00:00:00\",\"2020-10-31T00:00:00\",\"2020-10-30T00:00:00\",\"2020-10-29T00:00:00\",\"2020-10-28T00:00:00\",\"2020-10-27T00:00:00\",\"2020-10-26T00:00:00\",\"2020-10-25T00:00:00\",\"2020-10-23T00:00:00\",\"2020-10-22T00:00:00\",\"2020-10-21T00:00:00\",\"2020-10-20T00:00:00\",\"2020-10-19T00:00:00\",\"2020-10-18T00:00:00\",\"2020-10-16T00:00:00\",\"2020-10-15T00:00:00\",\"2020-10-14T00:00:00\",\"2020-10-13T00:00:00\",\"2020-10-12T00:00:00\",\"2020-10-11T00:00:00\",\"2020-10-10T00:00:00\",\"2020-10-09T00:00:00\",\"2020-10-08T00:00:00\",\"2020-10-07T00:00:00\",\"2020-10-06T00:00:00\",\"2020-10-05T00:00:00\",\"2020-10-04T00:00:00\",\"2020-10-02T00:00:00\",\"2020-10-01T00:00:00\",\"2020-09-30T00:00:00\",\"2020-09-29T00:00:00\",\"2020-09-28T00:00:00\",\"2020-09-27T00:00:00\",\"2020-09-26T00:00:00\",\"2020-09-25T00:00:00\",\"2020-09-24T00:00:00\",\"2020-09-23T00:00:00\",\"2020-09-22T00:00:00\",\"2020-09-21T00:00:00\",\"2020-09-20T00:00:00\",\"2020-09-19T00:00:00\",\"2020-09-18T00:00:00\",\"2020-09-17T00:00:00\",\"2020-09-16T00:00:00\",\"2020-09-15T00:00:00\",\"2020-09-14T00:00:00\",\"2020-09-13T00:00:00\",\"2020-09-12T00:00:00\",\"2020-09-11T00:00:00\",\"2020-09-10T00:00:00\",\"2020-09-09T00:00:00\",\"2020-09-08T00:00:00\",\"2020-09-07T00:00:00\",\"2020-09-06T00:00:00\",\"2020-09-04T00:00:00\",\"2020-09-03T00:00:00\",\"2020-09-02T00:00:00\",\"2020-09-01T00:00:00\",\"2020-08-31T00:00:00\",\"2020-08-29T00:00:00\",\"2020-08-28T00:00:00\",\"2020-08-27T00:00:00\",\"2020-08-26T00:00:00\",\"2020-08-25T00:00:00\",\"2020-08-24T00:00:00\",\"2020-08-23T00:00:00\",\"2020-08-21T00:00:00\",\"2020-08-20T00:00:00\",\"2020-08-19T00:00:00\",\"2020-08-18T00:00:00\",\"2020-08-17T00:00:00\",\"2020-08-16T00:00:00\",\"2020-08-15T00:00:00\",\"2020-08-14T00:00:00\",\"2020-08-13T00:00:00\",\"2020-08-12T00:00:00\",\"2020-08-11T00:00:00\",\"2020-08-10T00:00:00\",\"2020-08-09T00:00:00\",\"2020-08-08T00:00:00\",\"2020-08-07T00:00:00\",\"2020-08-06T00:00:00\",\"2020-08-05T00:00:00\",\"2020-08-04T00:00:00\",\"2020-08-03T00:00:00\",\"2020-08-02T00:00:00\",\"2020-08-01T00:00:00\",\"2020-07-31T00:00:00\",\"2020-07-30T00:00:00\",\"2020-07-29T00:00:00\",\"2020-07-28T00:00:00\",\"2020-07-27T00:00:00\",\"2020-07-26T00:00:00\",\"2020-07-25T00:00:00\",\"2020-07-24T00:00:00\",\"2020-07-23T00:00:00\",\"2020-07-22T00:00:00\",\"2020-07-21T00:00:00\",\"2020-07-20T00:00:00\",\"2020-07-19T00:00:00\",\"2020-07-18T00:00:00\",\"2020-07-17T00:00:00\",\"2020-07-16T00:00:00\",\"2020-07-15T00:00:00\",\"2020-07-14T00:00:00\",\"2020-07-13T00:00:00\",\"2020-07-12T00:00:00\",\"2020-07-11T00:00:00\",\"2020-07-10T00:00:00\",\"2020-07-09T00:00:00\",\"2020-07-08T00:00:00\",\"2020-07-07T00:00:00\",\"2020-07-06T00:00:00\",\"2020-07-04T00:00:00\",\"2020-07-03T00:00:00\",\"2020-07-02T00:00:00\",\"2020-07-01T00:00:00\",\"2020-06-30T00:00:00\",\"2020-06-29T00:00:00\",\"2020-06-28T00:00:00\",\"2020-06-27T00:00:00\",\"2020-06-26T00:00:00\",\"2020-06-25T00:00:00\",\"2020-06-24T00:00:00\",\"2020-06-23T00:00:00\",\"2020-06-22T00:00:00\",\"2020-06-21T00:00:00\",\"2020-06-20T00:00:00\",\"2020-06-19T00:00:00\",\"2020-06-18T00:00:00\",\"2020-06-17T00:00:00\",\"2020-06-16T00:00:00\",\"2020-06-15T00:00:00\",\"2020-06-14T00:00:00\",\"2020-06-13T00:00:00\",\"2020-06-12T00:00:00\",\"2020-06-11T00:00:00\",\"2020-06-10T00:00:00\",\"2020-06-09T00:00:00\",\"2020-06-08T00:00:00\",\"2020-06-07T00:00:00\",\"2020-06-06T00:00:00\",\"2020-06-05T00:00:00\",\"2020-06-04T00:00:00\",\"2020-06-03T00:00:00\",\"2020-06-02T00:00:00\",\"2020-06-01T00:00:00\",\"2020-05-30T00:00:00\",\"2020-05-29T00:00:00\",\"2020-05-28T00:00:00\",\"2020-05-27T00:00:00\",\"2020-05-26T00:00:00\",\"2020-05-25T00:00:00\",\"2020-05-24T00:00:00\",\"2020-05-23T00:00:00\",\"2020-05-22T00:00:00\",\"2020-05-21T00:00:00\",\"2020-05-20T00:00:00\",\"2020-05-19T00:00:00\",\"2020-05-18T00:00:00\",\"2020-05-16T00:00:00\",\"2020-05-15T00:00:00\",\"2020-05-14T00:00:00\",\"2020-05-13T00:00:00\",\"2020-05-12T00:00:00\",\"2020-05-11T00:00:00\",\"2020-05-10T00:00:00\",\"2020-05-09T00:00:00\",\"2020-05-08T00:00:00\",\"2020-05-07T00:00:00\",\"2020-05-06T00:00:00\",\"2020-05-05T00:00:00\",\"2020-05-04T00:00:00\",\"2020-05-01T00:00:00\",\"2020-04-30T00:00:00\",\"2020-04-29T00:00:00\",\"2020-04-28T00:00:00\",\"2020-04-27T00:00:00\",\"2020-04-26T00:00:00\",\"2020-04-24T00:00:00\",\"2020-04-23T00:00:00\",\"2020-04-22T00:00:00\",\"2020-04-21T00:00:00\",\"2020-04-20T00:00:00\",\"2020-04-17T00:00:00\",\"2020-04-16T00:00:00\",\"2020-04-15T00:00:00\",\"2020-04-14T00:00:00\",\"2020-04-13T00:00:00\",\"2020-04-10T00:00:00\",\"2020-04-09T00:00:00\",\"2020-04-08T00:00:00\",\"2020-04-07T00:00:00\",\"2020-04-06T00:00:00\",\"2020-04-05T00:00:00\",\"2020-04-03T00:00:00\",\"2020-04-02T00:00:00\",\"2020-04-01T00:00:00\",\"2020-03-31T00:00:00\",\"2020-03-30T00:00:00\",\"2020-03-29T00:00:00\",\"2020-03-27T00:00:00\",\"2020-03-26T00:00:00\",\"2020-03-25T00:00:00\",\"2020-03-24T00:00:00\",\"2020-03-23T00:00:00\",\"2020-03-22T00:00:00\",\"2020-03-20T00:00:00\",\"2020-03-19T00:00:00\",\"2020-03-18T00:00:00\",\"2020-03-17T00:00:00\",\"2020-03-16T00:00:00\",\"2020-03-13T00:00:00\",\"2020-03-12T00:00:00\",\"2020-03-11T00:00:00\",\"2020-03-10T00:00:00\",\"2020-03-09T00:00:00\",\"2020-03-08T00:00:00\",\"2020-03-06T00:00:00\",\"2020-03-05T00:00:00\",\"2020-03-04T00:00:00\",\"2020-03-03T00:00:00\",\"2020-03-02T00:00:00\",\"2020-02-28T00:00:00\",\"2020-02-27T00:00:00\",\"2020-02-26T00:00:00\",\"2020-02-25T00:00:00\",\"2020-02-24T00:00:00\",\"2020-02-23T00:00:00\",\"2020-02-21T00:00:00\",\"2020-02-20T00:00:00\",\"2020-02-19T00:00:00\",\"2020-02-18T00:00:00\",\"2020-02-17T00:00:00\",\"2020-02-14T00:00:00\",\"2020-02-13T00:00:00\",\"2020-02-12T00:00:00\",\"2020-02-11T00:00:00\",\"2020-02-10T00:00:00\",\"2020-02-09T00:00:00\",\"2020-02-07T00:00:00\",\"2020-02-06T00:00:00\",\"2020-02-05T00:00:00\",\"2020-02-04T00:00:00\",\"2020-02-03T00:00:00\",\"2020-02-02T00:00:00\",\"2020-01-31T00:00:00\",\"2020-01-30T00:00:00\",\"2020-01-29T00:00:00\",\"2020-01-28T00:00:00\",\"2020-01-27T00:00:00\",\"2020-01-26T00:00:00\",\"2020-01-24T00:00:00\",\"2020-01-23T00:00:00\",\"2020-01-22T00:00:00\",\"2020-01-21T00:00:00\",\"2020-01-20T00:00:00\",\"2020-01-19T00:00:00\",\"2020-01-18T00:00:00\",\"2020-01-17T00:00:00\",\"2020-01-16T00:00:00\",\"2020-01-15T00:00:00\",\"2020-01-14T00:00:00\",\"2020-01-13T00:00:00\",\"2020-01-12T00:00:00\",\"2020-01-10T00:00:00\",\"2020-01-09T00:00:00\",\"2020-01-08T00:00:00\",\"2020-01-07T00:00:00\",\"2020-01-06T00:00:00\",\"2020-01-03T00:00:00\",\"2020-01-02T00:00:00\"],\"type\":\"ohlc\"}],                        {\"template\":{\"data\":{\"bar\":[{\"error_x\":{\"color\":\"#2a3f5f\"},\"error_y\":{\"color\":\"#2a3f5f\"},\"marker\":{\"line\":{\"color\":\"#E5ECF6\",\"width\":0.5},\"pattern\":{\"fillmode\":\"overlay\",\"size\":10,\"solidity\":0.2}},\"type\":\"bar\"}],\"barpolar\":[{\"marker\":{\"line\":{\"color\":\"#E5ECF6\",\"width\":0.5},\"pattern\":{\"fillmode\":\"overlay\",\"size\":10,\"solidity\":0.2}},\"type\":\"barpolar\"}],\"carpet\":[{\"aaxis\":{\"endlinecolor\":\"#2a3f5f\",\"gridcolor\":\"white\",\"linecolor\":\"white\",\"minorgridcolor\":\"white\",\"startlinecolor\":\"#2a3f5f\"},\"baxis\":{\"endlinecolor\":\"#2a3f5f\",\"gridcolor\":\"white\",\"linecolor\":\"white\",\"minorgridcolor\":\"white\",\"startlinecolor\":\"#2a3f5f\"},\"type\":\"carpet\"}],\"choropleth\":[{\"colorbar\":{\"outlinewidth\":0,\"ticks\":\"\"},\"type\":\"choropleth\"}],\"contour\":[{\"colorbar\":{\"outlinewidth\":0,\"ticks\":\"\"},\"colorscale\":[[0.0,\"#0d0887\"],[0.1111111111111111,\"#46039f\"],[0.2222222222222222,\"#7201a8\"],[0.3333333333333333,\"#9c179e\"],[0.4444444444444444,\"#bd3786\"],[0.5555555555555556,\"#d8576b\"],[0.6666666666666666,\"#ed7953\"],[0.7777777777777778,\"#fb9f3a\"],[0.8888888888888888,\"#fdca26\"],[1.0,\"#f0f921\"]],\"type\":\"contour\"}],\"contourcarpet\":[{\"colorbar\":{\"outlinewidth\":0,\"ticks\":\"\"},\"type\":\"contourcarpet\"}],\"heatmap\":[{\"colorbar\":{\"outlinewidth\":0,\"ticks\":\"\"},\"colorscale\":[[0.0,\"#0d0887\"],[0.1111111111111111,\"#46039f\"],[0.2222222222222222,\"#7201a8\"],[0.3333333333333333,\"#9c179e\"],[0.4444444444444444,\"#bd3786\"],[0.5555555555555556,\"#d8576b\"],[0.6666666666666666,\"#ed7953\"],[0.7777777777777778,\"#fb9f3a\"],[0.8888888888888888,\"#fdca26\"],[1.0,\"#f0f921\"]],\"type\":\"heatmap\"}],\"heatmapgl\":[{\"colorbar\":{\"outlinewidth\":0,\"ticks\":\"\"},\"colorscale\":[[0.0,\"#0d0887\"],[0.1111111111111111,\"#46039f\"],[0.2222222222222222,\"#7201a8\"],[0.3333333333333333,\"#9c179e\"],[0.4444444444444444,\"#bd3786\"],[0.5555555555555556,\"#d8576b\"],[0.6666666666666666,\"#ed7953\"],[0.7777777777777778,\"#fb9f3a\"],[0.8888888888888888,\"#fdca26\"],[1.0,\"#f0f921\"]],\"type\":\"heatmapgl\"}],\"histogram\":[{\"marker\":{\"pattern\":{\"fillmode\":\"overlay\",\"size\":10,\"solidity\":0.2}},\"type\":\"histogram\"}],\"histogram2d\":[{\"colorbar\":{\"outlinewidth\":0,\"ticks\":\"\"},\"colorscale\":[[0.0,\"#0d0887\"],[0.1111111111111111,\"#46039f\"],[0.2222222222222222,\"#7201a8\"],[0.3333333333333333,\"#9c179e\"],[0.4444444444444444,\"#bd3786\"],[0.5555555555555556,\"#d8576b\"],[0.6666666666666666,\"#ed7953\"],[0.7777777777777778,\"#fb9f3a\"],[0.8888888888888888,\"#fdca26\"],[1.0,\"#f0f921\"]],\"type\":\"histogram2d\"}],\"histogram2dcontour\":[{\"colorbar\":{\"outlinewidth\":0,\"ticks\":\"\"},\"colorscale\":[[0.0,\"#0d0887\"],[0.1111111111111111,\"#46039f\"],[0.2222222222222222,\"#7201a8\"],[0.3333333333333333,\"#9c179e\"],[0.4444444444444444,\"#bd3786\"],[0.5555555555555556,\"#d8576b\"],[0.6666666666666666,\"#ed7953\"],[0.7777777777777778,\"#fb9f3a\"],[0.8888888888888888,\"#fdca26\"],[1.0,\"#f0f921\"]],\"type\":\"histogram2dcontour\"}],\"mesh3d\":[{\"colorbar\":{\"outlinewidth\":0,\"ticks\":\"\"},\"type\":\"mesh3d\"}],\"parcoords\":[{\"line\":{\"colorbar\":{\"outlinewidth\":0,\"ticks\":\"\"}},\"type\":\"parcoords\"}],\"pie\":[{\"automargin\":true,\"type\":\"pie\"}],\"scatter\":[{\"marker\":{\"colorbar\":{\"outlinewidth\":0,\"ticks\":\"\"}},\"type\":\"scatter\"}],\"scatter3d\":[{\"line\":{\"colorbar\":{\"outlinewidth\":0,\"ticks\":\"\"}},\"marker\":{\"colorbar\":{\"outlinewidth\":0,\"ticks\":\"\"}},\"type\":\"scatter3d\"}],\"scattercarpet\":[{\"marker\":{\"colorbar\":{\"outlinewidth\":0,\"ticks\":\"\"}},\"type\":\"scattercarpet\"}],\"scattergeo\":[{\"marker\":{\"colorbar\":{\"outlinewidth\":0,\"ticks\":\"\"}},\"type\":\"scattergeo\"}],\"scattergl\":[{\"marker\":{\"colorbar\":{\"outlinewidth\":0,\"ticks\":\"\"}},\"type\":\"scattergl\"}],\"scattermapbox\":[{\"marker\":{\"colorbar\":{\"outlinewidth\":0,\"ticks\":\"\"}},\"type\":\"scattermapbox\"}],\"scatterpolar\":[{\"marker\":{\"colorbar\":{\"outlinewidth\":0,\"ticks\":\"\"}},\"type\":\"scatterpolar\"}],\"scatterpolargl\":[{\"marker\":{\"colorbar\":{\"outlinewidth\":0,\"ticks\":\"\"}},\"type\":\"scatterpolargl\"}],\"scatterternary\":[{\"marker\":{\"colorbar\":{\"outlinewidth\":0,\"ticks\":\"\"}},\"type\":\"scatterternary\"}],\"surface\":[{\"colorbar\":{\"outlinewidth\":0,\"ticks\":\"\"},\"colorscale\":[[0.0,\"#0d0887\"],[0.1111111111111111,\"#46039f\"],[0.2222222222222222,\"#7201a8\"],[0.3333333333333333,\"#9c179e\"],[0.4444444444444444,\"#bd3786\"],[0.5555555555555556,\"#d8576b\"],[0.6666666666666666,\"#ed7953\"],[0.7777777777777778,\"#fb9f3a\"],[0.8888888888888888,\"#fdca26\"],[1.0,\"#f0f921\"]],\"type\":\"surface\"}],\"table\":[{\"cells\":{\"fill\":{\"color\":\"#EBF0F8\"},\"line\":{\"color\":\"white\"}},\"header\":{\"fill\":{\"color\":\"#C8D4E3\"},\"line\":{\"color\":\"white\"}},\"type\":\"table\"}]},\"layout\":{\"annotationdefaults\":{\"arrowcolor\":\"#2a3f5f\",\"arrowhead\":0,\"arrowwidth\":1},\"autotypenumbers\":\"strict\",\"coloraxis\":{\"colorbar\":{\"outlinewidth\":0,\"ticks\":\"\"}},\"colorscale\":{\"diverging\":[[0,\"#8e0152\"],[0.1,\"#c51b7d\"],[0.2,\"#de77ae\"],[0.3,\"#f1b6da\"],[0.4,\"#fde0ef\"],[0.5,\"#f7f7f7\"],[0.6,\"#e6f5d0\"],[0.7,\"#b8e186\"],[0.8,\"#7fbc41\"],[0.9,\"#4d9221\"],[1,\"#276419\"]],\"sequential\":[[0.0,\"#0d0887\"],[0.1111111111111111,\"#46039f\"],[0.2222222222222222,\"#7201a8\"],[0.3333333333333333,\"#9c179e\"],[0.4444444444444444,\"#bd3786\"],[0.5555555555555556,\"#d8576b\"],[0.6666666666666666,\"#ed7953\"],[0.7777777777777778,\"#fb9f3a\"],[0.8888888888888888,\"#fdca26\"],[1.0,\"#f0f921\"]],\"sequentialminus\":[[0.0,\"#0d0887\"],[0.1111111111111111,\"#46039f\"],[0.2222222222222222,\"#7201a8\"],[0.3333333333333333,\"#9c179e\"],[0.4444444444444444,\"#bd3786\"],[0.5555555555555556,\"#d8576b\"],[0.6666666666666666,\"#ed7953\"],[0.7777777777777778,\"#fb9f3a\"],[0.8888888888888888,\"#fdca26\"],[1.0,\"#f0f921\"]]},\"colorway\":[\"#636efa\",\"#EF553B\",\"#00cc96\",\"#ab63fa\",\"#FFA15A\",\"#19d3f3\",\"#FF6692\",\"#B6E880\",\"#FF97FF\",\"#FECB52\"],\"font\":{\"color\":\"#2a3f5f\"},\"geo\":{\"bgcolor\":\"white\",\"lakecolor\":\"white\",\"landcolor\":\"#E5ECF6\",\"showlakes\":true,\"showland\":true,\"subunitcolor\":\"white\"},\"hoverlabel\":{\"align\":\"left\"},\"hovermode\":\"closest\",\"mapbox\":{\"style\":\"light\"},\"paper_bgcolor\":\"white\",\"plot_bgcolor\":\"#E5ECF6\",\"polar\":{\"angularaxis\":{\"gridcolor\":\"white\",\"linecolor\":\"white\",\"ticks\":\"\"},\"bgcolor\":\"#E5ECF6\",\"radialaxis\":{\"gridcolor\":\"white\",\"linecolor\":\"white\",\"ticks\":\"\"}},\"scene\":{\"xaxis\":{\"backgroundcolor\":\"#E5ECF6\",\"gridcolor\":\"white\",\"gridwidth\":2,\"linecolor\":\"white\",\"showbackground\":true,\"ticks\":\"\",\"zerolinecolor\":\"white\"},\"yaxis\":{\"backgroundcolor\":\"#E5ECF6\",\"gridcolor\":\"white\",\"gridwidth\":2,\"linecolor\":\"white\",\"showbackground\":true,\"ticks\":\"\",\"zerolinecolor\":\"white\"},\"zaxis\":{\"backgroundcolor\":\"#E5ECF6\",\"gridcolor\":\"white\",\"gridwidth\":2,\"linecolor\":\"white\",\"showbackground\":true,\"ticks\":\"\",\"zerolinecolor\":\"white\"}},\"shapedefaults\":{\"line\":{\"color\":\"#2a3f5f\"}},\"ternary\":{\"aaxis\":{\"gridcolor\":\"white\",\"linecolor\":\"white\",\"ticks\":\"\"},\"baxis\":{\"gridcolor\":\"white\",\"linecolor\":\"white\",\"ticks\":\"\"},\"bgcolor\":\"#E5ECF6\",\"caxis\":{\"gridcolor\":\"white\",\"linecolor\":\"white\",\"ticks\":\"\"}},\"title\":{\"x\":0.05},\"xaxis\":{\"automargin\":true,\"gridcolor\":\"white\",\"linecolor\":\"white\",\"ticks\":\"\",\"title\":{\"standoff\":15},\"zerolinecolor\":\"white\",\"zerolinewidth\":2},\"yaxis\":{\"automargin\":true,\"gridcolor\":\"white\",\"linecolor\":\"white\",\"ticks\":\"\",\"title\":{\"standoff\":15},\"zerolinecolor\":\"white\",\"zerolinewidth\":2}}},\"xaxis\":{\"title\":{\"text\":\"Date\"},\"rangeslider\":{\"visible\":true}},\"yaxis\":{\"title\":{\"text\":\"Prices\"}},\"title\":{\"text\":\"Cotizaci\\u00f3n del ORO diariamente durante el a\\u00f1o 2022\"}},                        {\"responsive\": true}                    ).then(function(){\n",
       "                            \n",
       "var gd = document.getElementById('dffe2f3b-b635-4963-8001-7115610a033f');\n",
       "var x = new MutationObserver(function (mutations, observer) {{\n",
       "        var display = window.getComputedStyle(gd).display;\n",
       "        if (!display || display === 'none') {{\n",
       "            console.log([gd, 'removed!']);\n",
       "            Plotly.purge(gd);\n",
       "            observer.disconnect();\n",
       "        }}\n",
       "}});\n",
       "\n",
       "// Listen for the removal of the full notebook cells\n",
       "var notebookContainer = gd.closest('#notebook-container');\n",
       "if (notebookContainer) {{\n",
       "    x.observe(notebookContainer, {childList: true});\n",
       "}}\n",
       "\n",
       "// Listen for the clearing of the current output cell\n",
       "var outputEl = gd.closest('.output');\n",
       "if (outputEl) {{\n",
       "    x.observe(outputEl, {childList: true});\n",
       "}}\n",
       "\n",
       "                        })                };                });            </script>        </div>"
      ]
     },
     "metadata": {},
     "output_type": "display_data"
    }
   ],
   "source": [
    "import plotly.graph_objects as go\n",
    "\n",
    "fig3=go.Figure(data=[go.Ohlc(x=df_gold_OHCL.index, open=df_gold_OHCL['Open'], high=df_gold_OHCL['High'],\n",
    "                                     low=df_gold_OHCL['Low'],close=df_gold_OHCL['Close'])])\n",
    "\n",
    "fig3.update_xaxes(title_text='Date')\n",
    "fig3.update_yaxes(title_text='Prices')\n",
    "fig3.update_layout(xaxis_rangeslider_visible=True, title='Cotización del ORO diariamente durante el año 2022')\n",
    "fig3.write_html( 'Data/Gold_OHCL.html')\n",
    "\n",
    "fig3.show()"
   ]
  },
  {
   "cell_type": "markdown",
   "id": "a302da40",
   "metadata": {},
   "source": [
    "## Visualización 4: Candle Chart"
   ]
  },
  {
   "cell_type": "code",
   "execution_count": 67,
   "id": "7a2b8274",
   "metadata": {},
   "outputs": [],
   "source": [
    "df_gold_OHCL_d = df_gold_OHCL[df_gold_OHCL.index > '2022-01-01']\n",
    "df_gold_OHCL_d\n",
    "df_gold_OHCL_d.to_csv('Data/datos_df_gold_OHCL_last_3_months.csv')"
   ]
  },
  {
   "cell_type": "code",
   "execution_count": 68,
   "id": "e130371b",
   "metadata": {},
   "outputs": [
    {
     "data": {
      "application/vnd.plotly.v1+json": {
       "config": {
        "plotlyServerURL": "https://plot.ly"
       },
       "data": [
        {
         "close": [
          1936.9,
          1932.7,
          1919.55,
          1922.75,
          1958.4,
          1958.4,
          1958.5,
          1945.1,
          1921.73,
          1936.25,
          1920.05,
          1921.6,
          1942.3,
          1925.7,
          1916.55,
          1953.9,
          1982.85,
          1988.4,
          1996.7,
          1991.02,
          2049.85,
          1998.1,
          1974.5,
          1936.25,
          1928.6,
          1945.5,
          1908.85,
          1889.28,
          1889.28,
          1889.28,
          1903.88,
          1909.33,
          1898.25,
          1904.25,
          1895.48,
          1895.48,
          1898.15,
          1869.75,
          1853.75,
          1871.55,
          1843.5,
          1858.7,
          1826.95,
          1833.2,
          1825.85,
          1820.55,
          1808.6,
          1806.82,
          1808,
          1804.8,
          1806.95,
          1801.15,
          1798.26,
          1796,
          1796,
          1797.35,
          1819.75,
          1848.15,
          1843.3,
          1833.63,
          1833.63,
          1833.63,
          1839.45,
          1840.25,
          1813.8,
          1819.55,
          1817.7,
          1817.7,
          1822.8,
          1826.1,
          1821.75,
          1801.5,
          1796.95,
          1790.1,
          1810.15,
          1814.55,
          1801.25,
          1829.05
         ],
         "high": [
          1949.05,
          1937.95,
          1928.85,
          1958,
          1958.4,
          1964,
          1965.5,
          1947.99,
          1938.05,
          1939.83,
          1929,
          1945.05,
          1949.4,
          1929.4,
          1954.6,
          1981,
          1989.44,
          1998.75,
          2009.2,
          2059,
          2070.13,
          2002.25,
          1974.5,
          1940.95,
          1947.25,
          1950,
          1919.2,
          1889.28,
          1889.28,
          1920.9,
          1973.45,
          1910.5,
          1913.98,
          1907.7,
          1895.48,
          1902.45,
          1901.15,
          1872.2,
          1879.19,
          1873.54,
          1843.5,
          1865.1,
          1841.5,
          1835.47,
          1828.5,
          1823.09,
          1809.6,
          1807,
          1814.5,
          1808.6,
          1810.65,
          1808.5,
          1799.65,
          1796,
          1799.25,
          1822.15,
          1850.1,
          1853.3,
          1844.03,
          1833.63,
          1833.63,
          1842.95,
          1847.75,
          1843.15,
          1822.42,
          1823.1,
          1817.7,
          1829.1,
          1827.9,
          1827.75,
          1822.8,
          1802.35,
          1798.5,
          1811.3,
          1829.15,
          1815.99,
          1829.05,
          1829.05
         ],
         "low": [
          1919.5,
          1916.05,
          1890.45,
          1917.35,
          1958.4,
          1944.32,
          1937.59,
          1915.7,
          1911.2,
          1918.39,
          1918.8,
          1918.35,
          1925.4,
          1895.75,
          1907.2,
          1950.45,
          1972.85,
          1959.65,
          1971.35,
          1978.35,
          1982.5,
          1961.25,
          1930.17,
          1922.11,
          1915.1,
          1901.3,
          1891.09,
          1889.28,
          1889.28,
          1883.25,
          1881.4,
          1889.62,
          1893.49,
          1887.7,
          1895.48,
          1886.55,
          1867.59,
          1850.32,
          1844.84,
          1851,
          1843.5,
          1821.6,
          1822.4,
          1824.82,
          1815.48,
          1808.2,
          1806.82,
          1806.82,
          1792.5,
          1788.9,
          1794.6,
          1795.5,
          1785.4,
          1796,
          1780.3,
          1791.58,
          1815.6,
          1834.9,
          1829.49,
          1833.63,
          1833.63,
          1828.42,
          1836.3,
          1810.35,
          1806.09,
          1813.07,
          1817.7,
          1814.6,
          1812.2,
          1814.8,
          1800.45,
          1790.5,
          1783.93,
          1786.4,
          1808.39,
          1799.3,
          1798.3,
          1829.05
         ],
         "open": [
          1933.45,
          1920.7,
          1922.75,
          1956.05,
          1958.4,
          1958.4,
          1945.95,
          1920.35,
          1935.8,
          1919.8,
          1929,
          1942.1,
          1926.45,
          1916.8,
          1951.4,
          1979.35,
          1985.65,
          1997.65,
          1991.3,
          2051,
          1997.75,
          1982.25,
          1936.8,
          1928.55,
          1943.5,
          1908.25,
          1906.25,
          1889.28,
          1889.28,
          1907.65,
          1910.25,
          1898.9,
          1911.8,
          1895.48,
          1895.48,
          1898.9,
          1869.85,
          1854.05,
          1870.85,
          1860,
          1843.5,
          1827.02,
          1833,
          1825.85,
          1821.4,
          1808.2,
          1806.82,
          1807,
          1804.95,
          1806.98,
          1800.89,
          1797.85,
          1789.35,
          1796,
          1797.2,
          1819.85,
          1847.65,
          1842.85,
          1833.4,
          1833.63,
          1833.63,
          1839.1,
          1840.05,
          1814.25,
          1818.48,
          1817.5,
          1817.7,
          1821.5,
          1825.71,
          1820.75,
          1800.45,
          1795.15,
          1791.3,
          1810.4,
          1813.88,
          1802.8,
          1829.05,
          1829.05
         ],
         "type": "candlestick",
         "x": [
          "2022-03-31T00:00:00",
          "2022-03-30T00:00:00",
          "2022-03-29T00:00:00",
          "2022-03-28T00:00:00",
          "2022-03-27T00:00:00",
          "2022-03-25T00:00:00",
          "2022-03-24T00:00:00",
          "2022-03-23T00:00:00",
          "2022-03-22T00:00:00",
          "2022-03-21T00:00:00",
          "2022-03-20T00:00:00",
          "2022-03-18T00:00:00",
          "2022-03-17T00:00:00",
          "2022-03-16T00:00:00",
          "2022-03-15T00:00:00",
          "2022-03-14T00:00:00",
          "2022-03-13T00:00:00",
          "2022-03-11T00:00:00",
          "2022-03-10T00:00:00",
          "2022-03-09T00:00:00",
          "2022-03-08T00:00:00",
          "2022-03-07T00:00:00",
          "2022-03-04T00:00:00",
          "2022-03-03T00:00:00",
          "2022-03-02T00:00:00",
          "2022-03-01T00:00:00",
          "2022-02-28T00:00:00",
          "2022-02-27T00:00:00",
          "2022-02-26T00:00:00",
          "2022-02-25T00:00:00",
          "2022-02-24T00:00:00",
          "2022-02-23T00:00:00",
          "2022-02-22T00:00:00",
          "2022-02-21T00:00:00",
          "2022-02-20T00:00:00",
          "2022-02-18T00:00:00",
          "2022-02-17T00:00:00",
          "2022-02-16T00:00:00",
          "2022-02-15T00:00:00",
          "2022-02-14T00:00:00",
          "2022-02-13T00:00:00",
          "2022-02-11T00:00:00",
          "2022-02-10T00:00:00",
          "2022-02-09T00:00:00",
          "2022-02-08T00:00:00",
          "2022-02-07T00:00:00",
          "2022-02-06T00:00:00",
          "2022-02-05T00:00:00",
          "2022-02-04T00:00:00",
          "2022-02-03T00:00:00",
          "2022-02-02T00:00:00",
          "2022-02-01T00:00:00",
          "2022-01-31T00:00:00",
          "2022-01-29T00:00:00",
          "2022-01-28T00:00:00",
          "2022-01-27T00:00:00",
          "2022-01-26T00:00:00",
          "2022-01-25T00:00:00",
          "2022-01-24T00:00:00",
          "2022-01-23T00:00:00",
          "2022-01-22T00:00:00",
          "2022-01-21T00:00:00",
          "2022-01-20T00:00:00",
          "2022-01-19T00:00:00",
          "2022-01-18T00:00:00",
          "2022-01-17T00:00:00",
          "2022-01-16T00:00:00",
          "2022-01-14T00:00:00",
          "2022-01-13T00:00:00",
          "2022-01-12T00:00:00",
          "2022-01-11T00:00:00",
          "2022-01-10T00:00:00",
          "2022-01-07T00:00:00",
          "2022-01-06T00:00:00",
          "2022-01-05T00:00:00",
          "2022-01-04T00:00:00",
          "2022-01-03T00:00:00",
          "2022-01-02T00:00:00"
         ]
        }
       ],
       "layout": {
        "template": {
         "data": {
          "bar": [
           {
            "error_x": {
             "color": "#2a3f5f"
            },
            "error_y": {
             "color": "#2a3f5f"
            },
            "marker": {
             "line": {
              "color": "#E5ECF6",
              "width": 0.5
             },
             "pattern": {
              "fillmode": "overlay",
              "size": 10,
              "solidity": 0.2
             }
            },
            "type": "bar"
           }
          ],
          "barpolar": [
           {
            "marker": {
             "line": {
              "color": "#E5ECF6",
              "width": 0.5
             },
             "pattern": {
              "fillmode": "overlay",
              "size": 10,
              "solidity": 0.2
             }
            },
            "type": "barpolar"
           }
          ],
          "carpet": [
           {
            "aaxis": {
             "endlinecolor": "#2a3f5f",
             "gridcolor": "white",
             "linecolor": "white",
             "minorgridcolor": "white",
             "startlinecolor": "#2a3f5f"
            },
            "baxis": {
             "endlinecolor": "#2a3f5f",
             "gridcolor": "white",
             "linecolor": "white",
             "minorgridcolor": "white",
             "startlinecolor": "#2a3f5f"
            },
            "type": "carpet"
           }
          ],
          "choropleth": [
           {
            "colorbar": {
             "outlinewidth": 0,
             "ticks": ""
            },
            "type": "choropleth"
           }
          ],
          "contour": [
           {
            "colorbar": {
             "outlinewidth": 0,
             "ticks": ""
            },
            "colorscale": [
             [
              0,
              "#0d0887"
             ],
             [
              0.1111111111111111,
              "#46039f"
             ],
             [
              0.2222222222222222,
              "#7201a8"
             ],
             [
              0.3333333333333333,
              "#9c179e"
             ],
             [
              0.4444444444444444,
              "#bd3786"
             ],
             [
              0.5555555555555556,
              "#d8576b"
             ],
             [
              0.6666666666666666,
              "#ed7953"
             ],
             [
              0.7777777777777778,
              "#fb9f3a"
             ],
             [
              0.8888888888888888,
              "#fdca26"
             ],
             [
              1,
              "#f0f921"
             ]
            ],
            "type": "contour"
           }
          ],
          "contourcarpet": [
           {
            "colorbar": {
             "outlinewidth": 0,
             "ticks": ""
            },
            "type": "contourcarpet"
           }
          ],
          "heatmap": [
           {
            "colorbar": {
             "outlinewidth": 0,
             "ticks": ""
            },
            "colorscale": [
             [
              0,
              "#0d0887"
             ],
             [
              0.1111111111111111,
              "#46039f"
             ],
             [
              0.2222222222222222,
              "#7201a8"
             ],
             [
              0.3333333333333333,
              "#9c179e"
             ],
             [
              0.4444444444444444,
              "#bd3786"
             ],
             [
              0.5555555555555556,
              "#d8576b"
             ],
             [
              0.6666666666666666,
              "#ed7953"
             ],
             [
              0.7777777777777778,
              "#fb9f3a"
             ],
             [
              0.8888888888888888,
              "#fdca26"
             ],
             [
              1,
              "#f0f921"
             ]
            ],
            "type": "heatmap"
           }
          ],
          "heatmapgl": [
           {
            "colorbar": {
             "outlinewidth": 0,
             "ticks": ""
            },
            "colorscale": [
             [
              0,
              "#0d0887"
             ],
             [
              0.1111111111111111,
              "#46039f"
             ],
             [
              0.2222222222222222,
              "#7201a8"
             ],
             [
              0.3333333333333333,
              "#9c179e"
             ],
             [
              0.4444444444444444,
              "#bd3786"
             ],
             [
              0.5555555555555556,
              "#d8576b"
             ],
             [
              0.6666666666666666,
              "#ed7953"
             ],
             [
              0.7777777777777778,
              "#fb9f3a"
             ],
             [
              0.8888888888888888,
              "#fdca26"
             ],
             [
              1,
              "#f0f921"
             ]
            ],
            "type": "heatmapgl"
           }
          ],
          "histogram": [
           {
            "marker": {
             "pattern": {
              "fillmode": "overlay",
              "size": 10,
              "solidity": 0.2
             }
            },
            "type": "histogram"
           }
          ],
          "histogram2d": [
           {
            "colorbar": {
             "outlinewidth": 0,
             "ticks": ""
            },
            "colorscale": [
             [
              0,
              "#0d0887"
             ],
             [
              0.1111111111111111,
              "#46039f"
             ],
             [
              0.2222222222222222,
              "#7201a8"
             ],
             [
              0.3333333333333333,
              "#9c179e"
             ],
             [
              0.4444444444444444,
              "#bd3786"
             ],
             [
              0.5555555555555556,
              "#d8576b"
             ],
             [
              0.6666666666666666,
              "#ed7953"
             ],
             [
              0.7777777777777778,
              "#fb9f3a"
             ],
             [
              0.8888888888888888,
              "#fdca26"
             ],
             [
              1,
              "#f0f921"
             ]
            ],
            "type": "histogram2d"
           }
          ],
          "histogram2dcontour": [
           {
            "colorbar": {
             "outlinewidth": 0,
             "ticks": ""
            },
            "colorscale": [
             [
              0,
              "#0d0887"
             ],
             [
              0.1111111111111111,
              "#46039f"
             ],
             [
              0.2222222222222222,
              "#7201a8"
             ],
             [
              0.3333333333333333,
              "#9c179e"
             ],
             [
              0.4444444444444444,
              "#bd3786"
             ],
             [
              0.5555555555555556,
              "#d8576b"
             ],
             [
              0.6666666666666666,
              "#ed7953"
             ],
             [
              0.7777777777777778,
              "#fb9f3a"
             ],
             [
              0.8888888888888888,
              "#fdca26"
             ],
             [
              1,
              "#f0f921"
             ]
            ],
            "type": "histogram2dcontour"
           }
          ],
          "mesh3d": [
           {
            "colorbar": {
             "outlinewidth": 0,
             "ticks": ""
            },
            "type": "mesh3d"
           }
          ],
          "parcoords": [
           {
            "line": {
             "colorbar": {
              "outlinewidth": 0,
              "ticks": ""
             }
            },
            "type": "parcoords"
           }
          ],
          "pie": [
           {
            "automargin": true,
            "type": "pie"
           }
          ],
          "scatter": [
           {
            "marker": {
             "colorbar": {
              "outlinewidth": 0,
              "ticks": ""
             }
            },
            "type": "scatter"
           }
          ],
          "scatter3d": [
           {
            "line": {
             "colorbar": {
              "outlinewidth": 0,
              "ticks": ""
             }
            },
            "marker": {
             "colorbar": {
              "outlinewidth": 0,
              "ticks": ""
             }
            },
            "type": "scatter3d"
           }
          ],
          "scattercarpet": [
           {
            "marker": {
             "colorbar": {
              "outlinewidth": 0,
              "ticks": ""
             }
            },
            "type": "scattercarpet"
           }
          ],
          "scattergeo": [
           {
            "marker": {
             "colorbar": {
              "outlinewidth": 0,
              "ticks": ""
             }
            },
            "type": "scattergeo"
           }
          ],
          "scattergl": [
           {
            "marker": {
             "colorbar": {
              "outlinewidth": 0,
              "ticks": ""
             }
            },
            "type": "scattergl"
           }
          ],
          "scattermapbox": [
           {
            "marker": {
             "colorbar": {
              "outlinewidth": 0,
              "ticks": ""
             }
            },
            "type": "scattermapbox"
           }
          ],
          "scatterpolar": [
           {
            "marker": {
             "colorbar": {
              "outlinewidth": 0,
              "ticks": ""
             }
            },
            "type": "scatterpolar"
           }
          ],
          "scatterpolargl": [
           {
            "marker": {
             "colorbar": {
              "outlinewidth": 0,
              "ticks": ""
             }
            },
            "type": "scatterpolargl"
           }
          ],
          "scatterternary": [
           {
            "marker": {
             "colorbar": {
              "outlinewidth": 0,
              "ticks": ""
             }
            },
            "type": "scatterternary"
           }
          ],
          "surface": [
           {
            "colorbar": {
             "outlinewidth": 0,
             "ticks": ""
            },
            "colorscale": [
             [
              0,
              "#0d0887"
             ],
             [
              0.1111111111111111,
              "#46039f"
             ],
             [
              0.2222222222222222,
              "#7201a8"
             ],
             [
              0.3333333333333333,
              "#9c179e"
             ],
             [
              0.4444444444444444,
              "#bd3786"
             ],
             [
              0.5555555555555556,
              "#d8576b"
             ],
             [
              0.6666666666666666,
              "#ed7953"
             ],
             [
              0.7777777777777778,
              "#fb9f3a"
             ],
             [
              0.8888888888888888,
              "#fdca26"
             ],
             [
              1,
              "#f0f921"
             ]
            ],
            "type": "surface"
           }
          ],
          "table": [
           {
            "cells": {
             "fill": {
              "color": "#EBF0F8"
             },
             "line": {
              "color": "white"
             }
            },
            "header": {
             "fill": {
              "color": "#C8D4E3"
             },
             "line": {
              "color": "white"
             }
            },
            "type": "table"
           }
          ]
         },
         "layout": {
          "annotationdefaults": {
           "arrowcolor": "#2a3f5f",
           "arrowhead": 0,
           "arrowwidth": 1
          },
          "autotypenumbers": "strict",
          "coloraxis": {
           "colorbar": {
            "outlinewidth": 0,
            "ticks": ""
           }
          },
          "colorscale": {
           "diverging": [
            [
             0,
             "#8e0152"
            ],
            [
             0.1,
             "#c51b7d"
            ],
            [
             0.2,
             "#de77ae"
            ],
            [
             0.3,
             "#f1b6da"
            ],
            [
             0.4,
             "#fde0ef"
            ],
            [
             0.5,
             "#f7f7f7"
            ],
            [
             0.6,
             "#e6f5d0"
            ],
            [
             0.7,
             "#b8e186"
            ],
            [
             0.8,
             "#7fbc41"
            ],
            [
             0.9,
             "#4d9221"
            ],
            [
             1,
             "#276419"
            ]
           ],
           "sequential": [
            [
             0,
             "#0d0887"
            ],
            [
             0.1111111111111111,
             "#46039f"
            ],
            [
             0.2222222222222222,
             "#7201a8"
            ],
            [
             0.3333333333333333,
             "#9c179e"
            ],
            [
             0.4444444444444444,
             "#bd3786"
            ],
            [
             0.5555555555555556,
             "#d8576b"
            ],
            [
             0.6666666666666666,
             "#ed7953"
            ],
            [
             0.7777777777777778,
             "#fb9f3a"
            ],
            [
             0.8888888888888888,
             "#fdca26"
            ],
            [
             1,
             "#f0f921"
            ]
           ],
           "sequentialminus": [
            [
             0,
             "#0d0887"
            ],
            [
             0.1111111111111111,
             "#46039f"
            ],
            [
             0.2222222222222222,
             "#7201a8"
            ],
            [
             0.3333333333333333,
             "#9c179e"
            ],
            [
             0.4444444444444444,
             "#bd3786"
            ],
            [
             0.5555555555555556,
             "#d8576b"
            ],
            [
             0.6666666666666666,
             "#ed7953"
            ],
            [
             0.7777777777777778,
             "#fb9f3a"
            ],
            [
             0.8888888888888888,
             "#fdca26"
            ],
            [
             1,
             "#f0f921"
            ]
           ]
          },
          "colorway": [
           "#636efa",
           "#EF553B",
           "#00cc96",
           "#ab63fa",
           "#FFA15A",
           "#19d3f3",
           "#FF6692",
           "#B6E880",
           "#FF97FF",
           "#FECB52"
          ],
          "font": {
           "color": "#2a3f5f"
          },
          "geo": {
           "bgcolor": "white",
           "lakecolor": "white",
           "landcolor": "#E5ECF6",
           "showlakes": true,
           "showland": true,
           "subunitcolor": "white"
          },
          "hoverlabel": {
           "align": "left"
          },
          "hovermode": "closest",
          "mapbox": {
           "style": "light"
          },
          "paper_bgcolor": "white",
          "plot_bgcolor": "#E5ECF6",
          "polar": {
           "angularaxis": {
            "gridcolor": "white",
            "linecolor": "white",
            "ticks": ""
           },
           "bgcolor": "#E5ECF6",
           "radialaxis": {
            "gridcolor": "white",
            "linecolor": "white",
            "ticks": ""
           }
          },
          "scene": {
           "xaxis": {
            "backgroundcolor": "#E5ECF6",
            "gridcolor": "white",
            "gridwidth": 2,
            "linecolor": "white",
            "showbackground": true,
            "ticks": "",
            "zerolinecolor": "white"
           },
           "yaxis": {
            "backgroundcolor": "#E5ECF6",
            "gridcolor": "white",
            "gridwidth": 2,
            "linecolor": "white",
            "showbackground": true,
            "ticks": "",
            "zerolinecolor": "white"
           },
           "zaxis": {
            "backgroundcolor": "#E5ECF6",
            "gridcolor": "white",
            "gridwidth": 2,
            "linecolor": "white",
            "showbackground": true,
            "ticks": "",
            "zerolinecolor": "white"
           }
          },
          "shapedefaults": {
           "line": {
            "color": "#2a3f5f"
           }
          },
          "ternary": {
           "aaxis": {
            "gridcolor": "white",
            "linecolor": "white",
            "ticks": ""
           },
           "baxis": {
            "gridcolor": "white",
            "linecolor": "white",
            "ticks": ""
           },
           "bgcolor": "#E5ECF6",
           "caxis": {
            "gridcolor": "white",
            "linecolor": "white",
            "ticks": ""
           }
          },
          "title": {
           "x": 0.05
          },
          "xaxis": {
           "automargin": true,
           "gridcolor": "white",
           "linecolor": "white",
           "ticks": "",
           "title": {
            "standoff": 15
           },
           "zerolinecolor": "white",
           "zerolinewidth": 2
          },
          "yaxis": {
           "automargin": true,
           "gridcolor": "white",
           "linecolor": "white",
           "ticks": "",
           "title": {
            "standoff": 15
           },
           "zerolinecolor": "white",
           "zerolinewidth": 2
          }
         }
        },
        "title": {
         "text": "Cotización del ORO diariamente durante el año 2022"
        },
        "xaxis": {
         "rangeslider": {
          "visible": true
         },
         "title": {
          "text": "Date"
         }
        },
        "yaxis": {
         "title": {
          "text": "Prices"
         }
        }
       }
      },
      "text/html": [
       "<div>                            <div id=\"51309e11-757f-44e5-b79c-72864816cf14\" class=\"plotly-graph-div\" style=\"height:525px; width:100%;\"></div>            <script type=\"text/javascript\">                require([\"plotly\"], function(Plotly) {                    window.PLOTLYENV=window.PLOTLYENV || {};                                    if (document.getElementById(\"51309e11-757f-44e5-b79c-72864816cf14\")) {                    Plotly.newPlot(                        \"51309e11-757f-44e5-b79c-72864816cf14\",                        [{\"close\":[1936.9,1932.7,1919.55,1922.75,1958.4,1958.4,1958.5,1945.1,1921.73,1936.25,1920.05,1921.6,1942.3,1925.7,1916.55,1953.9,1982.85,1988.4,1996.7,1991.02,2049.85,1998.1,1974.5,1936.25,1928.6,1945.5,1908.85,1889.28,1889.28,1889.28,1903.88,1909.33,1898.25,1904.25,1895.48,1895.48,1898.15,1869.75,1853.75,1871.55,1843.5,1858.7,1826.95,1833.2,1825.85,1820.55,1808.6,1806.82,1808.0,1804.8,1806.95,1801.15,1798.26,1796.0,1796.0,1797.35,1819.75,1848.15,1843.3,1833.63,1833.63,1833.63,1839.45,1840.25,1813.8,1819.55,1817.7,1817.7,1822.8,1826.1,1821.75,1801.5,1796.95,1790.1,1810.15,1814.55,1801.25,1829.05],\"high\":[1949.05,1937.95,1928.85,1958.0,1958.4,1964.0,1965.5,1947.99,1938.05,1939.83,1929.0,1945.05,1949.4,1929.4,1954.6,1981.0,1989.44,1998.75,2009.2,2059.0,2070.13,2002.25,1974.5,1940.95,1947.25,1950.0,1919.2,1889.28,1889.28,1920.9,1973.45,1910.5,1913.98,1907.7,1895.48,1902.45,1901.15,1872.2,1879.19,1873.54,1843.5,1865.1,1841.5,1835.47,1828.5,1823.09,1809.6,1807.0,1814.5,1808.6,1810.65,1808.5,1799.65,1796.0,1799.25,1822.15,1850.1,1853.3,1844.03,1833.63,1833.63,1842.95,1847.75,1843.15,1822.42,1823.1,1817.7,1829.1,1827.9,1827.75,1822.8,1802.35,1798.5,1811.3,1829.15,1815.99,1829.05,1829.05],\"low\":[1919.5,1916.05,1890.45,1917.35,1958.4,1944.32,1937.59,1915.7,1911.2,1918.39,1918.8,1918.35,1925.4,1895.75,1907.2,1950.45,1972.85,1959.65,1971.35,1978.35,1982.5,1961.25,1930.17,1922.11,1915.1,1901.3,1891.09,1889.28,1889.28,1883.25,1881.4,1889.62,1893.49,1887.7,1895.48,1886.55,1867.59,1850.32,1844.84,1851.0,1843.5,1821.6,1822.4,1824.82,1815.48,1808.2,1806.82,1806.82,1792.5,1788.9,1794.6,1795.5,1785.4,1796.0,1780.3,1791.58,1815.6,1834.9,1829.49,1833.63,1833.63,1828.42,1836.3,1810.35,1806.09,1813.07,1817.7,1814.6,1812.2,1814.8,1800.45,1790.5,1783.93,1786.4,1808.39,1799.3,1798.3,1829.05],\"open\":[1933.45,1920.7,1922.75,1956.05,1958.4,1958.4,1945.95,1920.35,1935.8,1919.8,1929.0,1942.1,1926.45,1916.8,1951.4,1979.35,1985.65,1997.65,1991.3,2051.0,1997.75,1982.25,1936.8,1928.55,1943.5,1908.25,1906.25,1889.28,1889.28,1907.65,1910.25,1898.9,1911.8,1895.48,1895.48,1898.9,1869.85,1854.05,1870.85,1860.0,1843.5,1827.02,1833.0,1825.85,1821.4,1808.2,1806.82,1807.0,1804.95,1806.98,1800.89,1797.85,1789.35,1796.0,1797.2,1819.85,1847.65,1842.85,1833.4,1833.63,1833.63,1839.1,1840.05,1814.25,1818.48,1817.5,1817.7,1821.5,1825.71,1820.75,1800.45,1795.15,1791.3,1810.4,1813.88,1802.8,1829.05,1829.05],\"x\":[\"2022-03-31T00:00:00\",\"2022-03-30T00:00:00\",\"2022-03-29T00:00:00\",\"2022-03-28T00:00:00\",\"2022-03-27T00:00:00\",\"2022-03-25T00:00:00\",\"2022-03-24T00:00:00\",\"2022-03-23T00:00:00\",\"2022-03-22T00:00:00\",\"2022-03-21T00:00:00\",\"2022-03-20T00:00:00\",\"2022-03-18T00:00:00\",\"2022-03-17T00:00:00\",\"2022-03-16T00:00:00\",\"2022-03-15T00:00:00\",\"2022-03-14T00:00:00\",\"2022-03-13T00:00:00\",\"2022-03-11T00:00:00\",\"2022-03-10T00:00:00\",\"2022-03-09T00:00:00\",\"2022-03-08T00:00:00\",\"2022-03-07T00:00:00\",\"2022-03-04T00:00:00\",\"2022-03-03T00:00:00\",\"2022-03-02T00:00:00\",\"2022-03-01T00:00:00\",\"2022-02-28T00:00:00\",\"2022-02-27T00:00:00\",\"2022-02-26T00:00:00\",\"2022-02-25T00:00:00\",\"2022-02-24T00:00:00\",\"2022-02-23T00:00:00\",\"2022-02-22T00:00:00\",\"2022-02-21T00:00:00\",\"2022-02-20T00:00:00\",\"2022-02-18T00:00:00\",\"2022-02-17T00:00:00\",\"2022-02-16T00:00:00\",\"2022-02-15T00:00:00\",\"2022-02-14T00:00:00\",\"2022-02-13T00:00:00\",\"2022-02-11T00:00:00\",\"2022-02-10T00:00:00\",\"2022-02-09T00:00:00\",\"2022-02-08T00:00:00\",\"2022-02-07T00:00:00\",\"2022-02-06T00:00:00\",\"2022-02-05T00:00:00\",\"2022-02-04T00:00:00\",\"2022-02-03T00:00:00\",\"2022-02-02T00:00:00\",\"2022-02-01T00:00:00\",\"2022-01-31T00:00:00\",\"2022-01-29T00:00:00\",\"2022-01-28T00:00:00\",\"2022-01-27T00:00:00\",\"2022-01-26T00:00:00\",\"2022-01-25T00:00:00\",\"2022-01-24T00:00:00\",\"2022-01-23T00:00:00\",\"2022-01-22T00:00:00\",\"2022-01-21T00:00:00\",\"2022-01-20T00:00:00\",\"2022-01-19T00:00:00\",\"2022-01-18T00:00:00\",\"2022-01-17T00:00:00\",\"2022-01-16T00:00:00\",\"2022-01-14T00:00:00\",\"2022-01-13T00:00:00\",\"2022-01-12T00:00:00\",\"2022-01-11T00:00:00\",\"2022-01-10T00:00:00\",\"2022-01-07T00:00:00\",\"2022-01-06T00:00:00\",\"2022-01-05T00:00:00\",\"2022-01-04T00:00:00\",\"2022-01-03T00:00:00\",\"2022-01-02T00:00:00\"],\"type\":\"candlestick\"}],                        {\"template\":{\"data\":{\"bar\":[{\"error_x\":{\"color\":\"#2a3f5f\"},\"error_y\":{\"color\":\"#2a3f5f\"},\"marker\":{\"line\":{\"color\":\"#E5ECF6\",\"width\":0.5},\"pattern\":{\"fillmode\":\"overlay\",\"size\":10,\"solidity\":0.2}},\"type\":\"bar\"}],\"barpolar\":[{\"marker\":{\"line\":{\"color\":\"#E5ECF6\",\"width\":0.5},\"pattern\":{\"fillmode\":\"overlay\",\"size\":10,\"solidity\":0.2}},\"type\":\"barpolar\"}],\"carpet\":[{\"aaxis\":{\"endlinecolor\":\"#2a3f5f\",\"gridcolor\":\"white\",\"linecolor\":\"white\",\"minorgridcolor\":\"white\",\"startlinecolor\":\"#2a3f5f\"},\"baxis\":{\"endlinecolor\":\"#2a3f5f\",\"gridcolor\":\"white\",\"linecolor\":\"white\",\"minorgridcolor\":\"white\",\"startlinecolor\":\"#2a3f5f\"},\"type\":\"carpet\"}],\"choropleth\":[{\"colorbar\":{\"outlinewidth\":0,\"ticks\":\"\"},\"type\":\"choropleth\"}],\"contour\":[{\"colorbar\":{\"outlinewidth\":0,\"ticks\":\"\"},\"colorscale\":[[0.0,\"#0d0887\"],[0.1111111111111111,\"#46039f\"],[0.2222222222222222,\"#7201a8\"],[0.3333333333333333,\"#9c179e\"],[0.4444444444444444,\"#bd3786\"],[0.5555555555555556,\"#d8576b\"],[0.6666666666666666,\"#ed7953\"],[0.7777777777777778,\"#fb9f3a\"],[0.8888888888888888,\"#fdca26\"],[1.0,\"#f0f921\"]],\"type\":\"contour\"}],\"contourcarpet\":[{\"colorbar\":{\"outlinewidth\":0,\"ticks\":\"\"},\"type\":\"contourcarpet\"}],\"heatmap\":[{\"colorbar\":{\"outlinewidth\":0,\"ticks\":\"\"},\"colorscale\":[[0.0,\"#0d0887\"],[0.1111111111111111,\"#46039f\"],[0.2222222222222222,\"#7201a8\"],[0.3333333333333333,\"#9c179e\"],[0.4444444444444444,\"#bd3786\"],[0.5555555555555556,\"#d8576b\"],[0.6666666666666666,\"#ed7953\"],[0.7777777777777778,\"#fb9f3a\"],[0.8888888888888888,\"#fdca26\"],[1.0,\"#f0f921\"]],\"type\":\"heatmap\"}],\"heatmapgl\":[{\"colorbar\":{\"outlinewidth\":0,\"ticks\":\"\"},\"colorscale\":[[0.0,\"#0d0887\"],[0.1111111111111111,\"#46039f\"],[0.2222222222222222,\"#7201a8\"],[0.3333333333333333,\"#9c179e\"],[0.4444444444444444,\"#bd3786\"],[0.5555555555555556,\"#d8576b\"],[0.6666666666666666,\"#ed7953\"],[0.7777777777777778,\"#fb9f3a\"],[0.8888888888888888,\"#fdca26\"],[1.0,\"#f0f921\"]],\"type\":\"heatmapgl\"}],\"histogram\":[{\"marker\":{\"pattern\":{\"fillmode\":\"overlay\",\"size\":10,\"solidity\":0.2}},\"type\":\"histogram\"}],\"histogram2d\":[{\"colorbar\":{\"outlinewidth\":0,\"ticks\":\"\"},\"colorscale\":[[0.0,\"#0d0887\"],[0.1111111111111111,\"#46039f\"],[0.2222222222222222,\"#7201a8\"],[0.3333333333333333,\"#9c179e\"],[0.4444444444444444,\"#bd3786\"],[0.5555555555555556,\"#d8576b\"],[0.6666666666666666,\"#ed7953\"],[0.7777777777777778,\"#fb9f3a\"],[0.8888888888888888,\"#fdca26\"],[1.0,\"#f0f921\"]],\"type\":\"histogram2d\"}],\"histogram2dcontour\":[{\"colorbar\":{\"outlinewidth\":0,\"ticks\":\"\"},\"colorscale\":[[0.0,\"#0d0887\"],[0.1111111111111111,\"#46039f\"],[0.2222222222222222,\"#7201a8\"],[0.3333333333333333,\"#9c179e\"],[0.4444444444444444,\"#bd3786\"],[0.5555555555555556,\"#d8576b\"],[0.6666666666666666,\"#ed7953\"],[0.7777777777777778,\"#fb9f3a\"],[0.8888888888888888,\"#fdca26\"],[1.0,\"#f0f921\"]],\"type\":\"histogram2dcontour\"}],\"mesh3d\":[{\"colorbar\":{\"outlinewidth\":0,\"ticks\":\"\"},\"type\":\"mesh3d\"}],\"parcoords\":[{\"line\":{\"colorbar\":{\"outlinewidth\":0,\"ticks\":\"\"}},\"type\":\"parcoords\"}],\"pie\":[{\"automargin\":true,\"type\":\"pie\"}],\"scatter\":[{\"marker\":{\"colorbar\":{\"outlinewidth\":0,\"ticks\":\"\"}},\"type\":\"scatter\"}],\"scatter3d\":[{\"line\":{\"colorbar\":{\"outlinewidth\":0,\"ticks\":\"\"}},\"marker\":{\"colorbar\":{\"outlinewidth\":0,\"ticks\":\"\"}},\"type\":\"scatter3d\"}],\"scattercarpet\":[{\"marker\":{\"colorbar\":{\"outlinewidth\":0,\"ticks\":\"\"}},\"type\":\"scattercarpet\"}],\"scattergeo\":[{\"marker\":{\"colorbar\":{\"outlinewidth\":0,\"ticks\":\"\"}},\"type\":\"scattergeo\"}],\"scattergl\":[{\"marker\":{\"colorbar\":{\"outlinewidth\":0,\"ticks\":\"\"}},\"type\":\"scattergl\"}],\"scattermapbox\":[{\"marker\":{\"colorbar\":{\"outlinewidth\":0,\"ticks\":\"\"}},\"type\":\"scattermapbox\"}],\"scatterpolar\":[{\"marker\":{\"colorbar\":{\"outlinewidth\":0,\"ticks\":\"\"}},\"type\":\"scatterpolar\"}],\"scatterpolargl\":[{\"marker\":{\"colorbar\":{\"outlinewidth\":0,\"ticks\":\"\"}},\"type\":\"scatterpolargl\"}],\"scatterternary\":[{\"marker\":{\"colorbar\":{\"outlinewidth\":0,\"ticks\":\"\"}},\"type\":\"scatterternary\"}],\"surface\":[{\"colorbar\":{\"outlinewidth\":0,\"ticks\":\"\"},\"colorscale\":[[0.0,\"#0d0887\"],[0.1111111111111111,\"#46039f\"],[0.2222222222222222,\"#7201a8\"],[0.3333333333333333,\"#9c179e\"],[0.4444444444444444,\"#bd3786\"],[0.5555555555555556,\"#d8576b\"],[0.6666666666666666,\"#ed7953\"],[0.7777777777777778,\"#fb9f3a\"],[0.8888888888888888,\"#fdca26\"],[1.0,\"#f0f921\"]],\"type\":\"surface\"}],\"table\":[{\"cells\":{\"fill\":{\"color\":\"#EBF0F8\"},\"line\":{\"color\":\"white\"}},\"header\":{\"fill\":{\"color\":\"#C8D4E3\"},\"line\":{\"color\":\"white\"}},\"type\":\"table\"}]},\"layout\":{\"annotationdefaults\":{\"arrowcolor\":\"#2a3f5f\",\"arrowhead\":0,\"arrowwidth\":1},\"autotypenumbers\":\"strict\",\"coloraxis\":{\"colorbar\":{\"outlinewidth\":0,\"ticks\":\"\"}},\"colorscale\":{\"diverging\":[[0,\"#8e0152\"],[0.1,\"#c51b7d\"],[0.2,\"#de77ae\"],[0.3,\"#f1b6da\"],[0.4,\"#fde0ef\"],[0.5,\"#f7f7f7\"],[0.6,\"#e6f5d0\"],[0.7,\"#b8e186\"],[0.8,\"#7fbc41\"],[0.9,\"#4d9221\"],[1,\"#276419\"]],\"sequential\":[[0.0,\"#0d0887\"],[0.1111111111111111,\"#46039f\"],[0.2222222222222222,\"#7201a8\"],[0.3333333333333333,\"#9c179e\"],[0.4444444444444444,\"#bd3786\"],[0.5555555555555556,\"#d8576b\"],[0.6666666666666666,\"#ed7953\"],[0.7777777777777778,\"#fb9f3a\"],[0.8888888888888888,\"#fdca26\"],[1.0,\"#f0f921\"]],\"sequentialminus\":[[0.0,\"#0d0887\"],[0.1111111111111111,\"#46039f\"],[0.2222222222222222,\"#7201a8\"],[0.3333333333333333,\"#9c179e\"],[0.4444444444444444,\"#bd3786\"],[0.5555555555555556,\"#d8576b\"],[0.6666666666666666,\"#ed7953\"],[0.7777777777777778,\"#fb9f3a\"],[0.8888888888888888,\"#fdca26\"],[1.0,\"#f0f921\"]]},\"colorway\":[\"#636efa\",\"#EF553B\",\"#00cc96\",\"#ab63fa\",\"#FFA15A\",\"#19d3f3\",\"#FF6692\",\"#B6E880\",\"#FF97FF\",\"#FECB52\"],\"font\":{\"color\":\"#2a3f5f\"},\"geo\":{\"bgcolor\":\"white\",\"lakecolor\":\"white\",\"landcolor\":\"#E5ECF6\",\"showlakes\":true,\"showland\":true,\"subunitcolor\":\"white\"},\"hoverlabel\":{\"align\":\"left\"},\"hovermode\":\"closest\",\"mapbox\":{\"style\":\"light\"},\"paper_bgcolor\":\"white\",\"plot_bgcolor\":\"#E5ECF6\",\"polar\":{\"angularaxis\":{\"gridcolor\":\"white\",\"linecolor\":\"white\",\"ticks\":\"\"},\"bgcolor\":\"#E5ECF6\",\"radialaxis\":{\"gridcolor\":\"white\",\"linecolor\":\"white\",\"ticks\":\"\"}},\"scene\":{\"xaxis\":{\"backgroundcolor\":\"#E5ECF6\",\"gridcolor\":\"white\",\"gridwidth\":2,\"linecolor\":\"white\",\"showbackground\":true,\"ticks\":\"\",\"zerolinecolor\":\"white\"},\"yaxis\":{\"backgroundcolor\":\"#E5ECF6\",\"gridcolor\":\"white\",\"gridwidth\":2,\"linecolor\":\"white\",\"showbackground\":true,\"ticks\":\"\",\"zerolinecolor\":\"white\"},\"zaxis\":{\"backgroundcolor\":\"#E5ECF6\",\"gridcolor\":\"white\",\"gridwidth\":2,\"linecolor\":\"white\",\"showbackground\":true,\"ticks\":\"\",\"zerolinecolor\":\"white\"}},\"shapedefaults\":{\"line\":{\"color\":\"#2a3f5f\"}},\"ternary\":{\"aaxis\":{\"gridcolor\":\"white\",\"linecolor\":\"white\",\"ticks\":\"\"},\"baxis\":{\"gridcolor\":\"white\",\"linecolor\":\"white\",\"ticks\":\"\"},\"bgcolor\":\"#E5ECF6\",\"caxis\":{\"gridcolor\":\"white\",\"linecolor\":\"white\",\"ticks\":\"\"}},\"title\":{\"x\":0.05},\"xaxis\":{\"automargin\":true,\"gridcolor\":\"white\",\"linecolor\":\"white\",\"ticks\":\"\",\"title\":{\"standoff\":15},\"zerolinecolor\":\"white\",\"zerolinewidth\":2},\"yaxis\":{\"automargin\":true,\"gridcolor\":\"white\",\"linecolor\":\"white\",\"ticks\":\"\",\"title\":{\"standoff\":15},\"zerolinecolor\":\"white\",\"zerolinewidth\":2}}},\"xaxis\":{\"title\":{\"text\":\"Date\"},\"rangeslider\":{\"visible\":true}},\"yaxis\":{\"title\":{\"text\":\"Prices\"}},\"title\":{\"text\":\"Cotizaci\\u00f3n del ORO diariamente durante el a\\u00f1o 2022\"}},                        {\"responsive\": true}                    ).then(function(){\n",
       "                            \n",
       "var gd = document.getElementById('51309e11-757f-44e5-b79c-72864816cf14');\n",
       "var x = new MutationObserver(function (mutations, observer) {{\n",
       "        var display = window.getComputedStyle(gd).display;\n",
       "        if (!display || display === 'none') {{\n",
       "            console.log([gd, 'removed!']);\n",
       "            Plotly.purge(gd);\n",
       "            observer.disconnect();\n",
       "        }}\n",
       "}});\n",
       "\n",
       "// Listen for the removal of the full notebook cells\n",
       "var notebookContainer = gd.closest('#notebook-container');\n",
       "if (notebookContainer) {{\n",
       "    x.observe(notebookContainer, {childList: true});\n",
       "}}\n",
       "\n",
       "// Listen for the clearing of the current output cell\n",
       "var outputEl = gd.closest('.output');\n",
       "if (outputEl) {{\n",
       "    x.observe(outputEl, {childList: true});\n",
       "}}\n",
       "\n",
       "                        })                };                });            </script>        </div>"
      ]
     },
     "metadata": {},
     "output_type": "display_data"
    }
   ],
   "source": [
    "\n",
    "import plotly.graph_objects as go\n",
    "\n",
    "fig4=go.Figure(data=[go.Candlestick(x=df_gold_OHCL_d.index, open=df_gold_OHCL_d['Open'], high=df_gold_OHCL_d['High'],\n",
    "                                     low=df_gold_OHCL_d['Low'],close=df_gold_OHCL_d['Close'])])\n",
    "\n",
    "fig4.update_xaxes(title_text='Date')\n",
    "fig4.update_yaxes(title_text='Prices')\n",
    "fig4.update_layout(xaxis_rangeslider_visible=True, title='Cotización del ORO diariamente durante el año 2022')\n",
    "fig4.write_html( 'Data/Gold_Candlestick.html')\n",
    "\n",
    "fig4.show()"
   ]
  },
  {
   "cell_type": "markdown",
   "id": "f75f13c9",
   "metadata": {},
   "source": [
    "## Guardamos las visualizaciones en un archivo html"
   ]
  },
  {
   "cell_type": "code",
   "execution_count": 69,
   "id": "bf48c30d",
   "metadata": {},
   "outputs": [],
   "source": [
    "with open('index.html', 'a') as f:\n",
    "    f.write(fig1.to_html(full_html=False, include_plotlyjs='cdn'))\n",
    "    f.write(fig2.to_html(full_html=False, include_plotlyjs='cdn'))\n",
    "    f.write(fig3.to_html(full_html=False, include_plotlyjs='cdn'))\n",
    "    f.write(fig4.to_html(full_html=False, include_plotlyjs='cdn'))"
   ]
  }
 ],
 "metadata": {
  "kernelspec": {
   "display_name": "Python 3 (ipykernel)",
   "language": "python",
   "name": "python3"
  },
  "language_info": {
   "codemirror_mode": {
    "name": "ipython",
    "version": 3
   },
   "file_extension": ".py",
   "mimetype": "text/x-python",
   "name": "python",
   "nbconvert_exporter": "python",
   "pygments_lexer": "ipython3",
   "version": "3.10.4"
  }
 },
 "nbformat": 4,
 "nbformat_minor": 5
}
